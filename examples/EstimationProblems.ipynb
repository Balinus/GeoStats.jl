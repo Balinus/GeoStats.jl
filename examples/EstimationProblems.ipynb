{
 "cells": [
  {
   "cell_type": "markdown",
   "metadata": {},
   "source": [
    "# Estimation problems\n",
    "\n",
    "In this tutorial, I will explain one of the greatest features of GeoStats.jl: the ability to setup geostatistical problems indenpendently of the solution strategy.\n",
    "\n",
    "If you are an experienced user of geostatistics or if you do research in the field, you know how hard it is to compare algorithms fairly. Often a new algorithm is proposed in the literature, and yet the task of comparing it with the state of the art is quite demanding. Even when a comparison is made by the author after a great amount of effort, it is inevitably biased.\n",
    "\n",
    "Part of this issue is attributed to the fact that a general definition of the problem is missing. What is it that we call an \"estimation problem\" in geostatistics? The answer to this question is given below in the form of code.\n",
    "\n",
    "Before we proceed, please install the following packages:"
   ]
  },
  {
   "cell_type": "code",
   "execution_count": 1,
   "metadata": {},
   "outputs": [
    {
     "name": "stderr",
     "output_type": "stream",
     "text": [
      "\u001b[1m\u001b[36mINFO: \u001b[39m\u001b[22m\u001b[36mPackage GeoStats is already installed\n",
      "\u001b[39m\u001b[1m\u001b[36mINFO: \u001b[39m\u001b[22m\u001b[36mPackage Plots is already installed\n",
      "\u001b[39m\u001b[1m\u001b[36mINFO: \u001b[39m\u001b[22m\u001b[36mPackage PyPlot is already installed\n",
      "\u001b[39m"
     ]
    }
   ],
   "source": [
    "for pkg in [\"GeoStats\", \"Plots\", \"PyPlot\"]\n",
    "    Pkg.add(pkg)\n",
    "end\n",
    "\n",
    "# make sure this tutorial is reproducible\n",
    "srand(2000);"
   ]
  },
  {
   "cell_type": "markdown",
   "metadata": {},
   "source": [
    "## Problem definition\n",
    "\n",
    "An estimation problem in geostatistics is a triplet:\n",
    "\n",
    "1. Spatial data (i.e. data with coordinates)\n",
    "2. Spatial domain (e.g. regular grid, unstructured grid)\n",
    "3. Target variables (or variables to be estimated)\n",
    "\n",
    "It doesn't involve variograms, training images, or any tuning parameter. These concepts belong to solvers.\n",
    "\n",
    "Let's make it a concrete example, and create some data:"
   ]
  },
  {
   "cell_type": "code",
   "execution_count": 2,
   "metadata": {
    "scrolled": false
   },
   "outputs": [
    {
     "data": {
      "text/html": [
       "3×4 GeoDataFrame (x and y)\n",
       "<table class=\"data-frame\"><thead><tr><th></th><th>x</th><th>y</th><th>station</th><th>precipitation</th></tr></thead><tbody><tr><th>1</th><td>25.0</td><td>25.0</td><td>palo alto</td><td>1.0</td></tr><tr><th>2</th><td>50.0</td><td>75.0</td><td>redwood city</td><td>0.0</td></tr><tr><th>3</th><td>75.0</td><td>50.0</td><td>mountain view</td><td>1.0</td></tr></tbody></table>"
      ],
      "text/plain": [
       "3×4 GeoDataFrame (x and y)\n",
       "│ Row │ x    │ y    │ station         │ precipitation │\n",
       "├─────┼──────┼──────┼─────────────────┼───────────────┤\n",
       "│ 1   │ 25.0 │ 25.0 │ \"palo alto\"     │ 1.0           │\n",
       "│ 2   │ 50.0 │ 75.0 │ \"redwood city\"  │ 0.0           │\n",
       "│ 3   │ 75.0 │ 50.0 │ \"mountain view\" │ 1.0           │"
      ]
     },
     "execution_count": 2,
     "metadata": {},
     "output_type": "execute_result"
    }
   ],
   "source": [
    "using GeoStats\n",
    "using DataFrames\n",
    "\n",
    "# stations monitoring rainfall\n",
    "df = csv\"\"\"\n",
    "   x,    y,       station, precipitation\n",
    "25.0, 25.0,     palo alto,           1.0\n",
    "50.0, 75.0,  redwood city,           0.0\n",
    "75.0, 50.0, mountain view,           1.0\n",
    "\"\"\"\n",
    "\n",
    "# inform the coordinates of the data\n",
    "geodata = GeoDataFrame(df, [:x,:y])"
   ]
  },
  {
   "cell_type": "markdown",
   "metadata": {},
   "source": [
    "The `GeoDataFrame` type is defined in GeoStats.jl as a lightweight wrapper over Julia's DataFrame types. Besides the data, it stores the name of the columns representing spatial coordinates. It is also possible to load the data directly into a `GeoDataFrame` by using the `readtable` function, and passing the option `coordnames=[:x,:y]`.\n",
    "\n",
    "Next, we define the domain in which the variables will be estimated. One of the many choices possible is the regular grid:"
   ]
  },
  {
   "cell_type": "code",
   "execution_count": 3,
   "metadata": {},
   "outputs": [
    {
     "data": {
      "text/plain": [
       "RegularGrid{Float64,2}\n",
       "  dimensions: (100, 100)\n",
       "  origin:     (0.0, 0.0)\n",
       "  spacing:    (1.0, 1.0)"
      ]
     },
     "execution_count": 3,
     "metadata": {},
     "output_type": "execute_result"
    }
   ],
   "source": [
    "domain = RegularGrid{Float64}(100,100)"
   ]
  },
  {
   "cell_type": "markdown",
   "metadata": {},
   "source": [
    "Notice that by default, a regular grid has zero origin and unit spacing. Alternatively, these parameters can be specified explicitly:"
   ]
  },
  {
   "cell_type": "code",
   "execution_count": 4,
   "metadata": {},
   "outputs": [
    {
     "data": {
      "text/plain": [
       "RegularGrid{Float64,2}\n",
       "  dimensions: (100, 100)\n",
       "  origin:     (0.0, 0.0)\n",
       "  spacing:    (1.0, 1.0)"
      ]
     },
     "execution_count": 4,
     "metadata": {},
     "output_type": "execute_result"
    }
   ],
   "source": [
    "domain = RegularGrid([100,100], [0.,0.], [1.,1.])"
   ]
  },
  {
   "cell_type": "markdown",
   "metadata": {},
   "source": [
    "Like many other domain types in GeoStats.jl, regular grids are lightweight objects. They do not require any memory space other than the space used to save the input parameters (i.e. dimensions, origin and spacing). Looping over a regular grid or finding the coordinates of a given location is done analytically for maximum performance."
   ]
  },
  {
   "cell_type": "markdown",
   "metadata": {},
   "source": [
    "Finally, we define the estimation problem for the precipitation variable:"
   ]
  },
  {
   "cell_type": "code",
   "execution_count": 5,
   "metadata": {},
   "outputs": [
    {
     "data": {
      "text/plain": [
       "2D EstimationProblem\n",
       "  data:      3×4 GeoDataFrame (x and y)\n",
       "  domain:    100×100 RegularGrid{Float64,2}\n",
       "  variables: precipitation"
      ]
     },
     "execution_count": 5,
     "metadata": {},
     "output_type": "execute_result"
    }
   ],
   "source": [
    "problem = EstimationProblem(geodata, domain, :precipitation)"
   ]
  },
  {
   "cell_type": "markdown",
   "metadata": {},
   "source": [
    "## Solving the problem\n",
    "\n",
    "Now that the problem is unambiguously defined, we can solve it with various estimation solvers. In this tuturial, we will use the polyalgorithm Kriging solver distributed with GeoStats.jl. In Kriging, each variable of the problem is (optionally) parametrized by a mean and a variogram:"
   ]
  },
  {
   "cell_type": "code",
   "execution_count": 6,
   "metadata": {},
   "outputs": [
    {
     "data": {
      "text/plain": [
       "Kriging solver\n",
       "  - precipitation => Ordinary Kriging\n"
      ]
     },
     "execution_count": 6,
     "metadata": {},
     "output_type": "execute_result"
    }
   ],
   "source": [
    "solver = Kriging(\n",
    "    :precipitation => @NT(variogram=GaussianVariogram(range=20.))\n",
    ")"
   ]
  },
  {
   "cell_type": "markdown",
   "metadata": {},
   "source": [
    "The line above translates to \"solve the precipitation variable using a Gaussian variogram\". The prefix `@NT` extends for `NamedTuple` and won't be necessary in Julia v0.7 and beyond. When only the variogram is specified, Ordinary Kriging is triggered.\n",
    "\n",
    "The user can specify the mean (e.g. `mean=.5`) for Simple Kriging, the polynomial degree (e.g. `degree=1`) for Universal Kriging, and the drift functions (e.g. `drifts=[x -> 1 + x[1], x -> 2x[2]]`) for External Drift Kriging. For more solver options, please consult the GeoStats.jl documentation.\n",
    "\n",
    "The solution to the problem is easily obtained with:"
   ]
  },
  {
   "cell_type": "code",
   "execution_count": 7,
   "metadata": {
    "scrolled": false
   },
   "outputs": [
    {
     "data": {
      "text/plain": [
       "2D EstimationSolution\n",
       "  domain: 100×100 RegularGrid{Float64,2}\n",
       "  variables: precipitation"
      ]
     },
     "execution_count": 7,
     "metadata": {},
     "output_type": "execute_result"
    }
   ],
   "source": [
    "solution = solve(problem, solver)"
   ]
  },
  {
   "cell_type": "markdown",
   "metadata": {},
   "source": [
    "It is stored in an efficient format with all the necessary information to reconstruct the estimates spatially. The user can digest the solution into a Julia dictionary by calling `digest(solution)`. The resulting dictionary maps variable names (e.g. :precipitation) to their mean and variance:"
   ]
  },
  {
   "cell_type": "code",
   "execution_count": 8,
   "metadata": {},
   "outputs": [
    {
     "data": {
      "text/plain": [
       "Dict{Symbol,Dict{Symbol,Array}} with 1 entry:\n",
       "  :precipitation => Dict{Symbol,Array}(Pair{Symbol,Array}(:mean, [0.685878 0.68…"
      ]
     },
     "execution_count": 8,
     "metadata": {},
     "output_type": "execute_result"
    }
   ],
   "source": [
    "d = digest(solution)"
   ]
  },
  {
   "cell_type": "markdown",
   "metadata": {},
   "source": [
    "However, very often we just want to visualize the results. In GeoStats.jl, solutions to estimation problems can be plotted directly in a standardized format for comparison between different solvers and parameter settings:"
   ]
  },
  {
   "cell_type": "code",
   "execution_count": 9,
   "metadata": {
    "scrolled": false
   },
   "outputs": [
    {
     "data": {
      "text/html": [
       "<img src=\"data:image/png;base64,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\" />"
      ]
     },
     "execution_count": 9,
     "metadata": {},
     "output_type": "execute_result"
    }
   ],
   "source": [
    "using Plots; pyplot()\n",
    "\n",
    "plot(solution, size=(1000,500))"
   ]
  },
  {
   "cell_type": "markdown",
   "metadata": {},
   "source": [
    "## Conclusions\n",
    "\n",
    "The ability to work at the level of the problem definition is quite desirable. Users can switch between different solvers without having to learn new syntax. This approach also guarantees that the problem being solved is the same and that the comparison is fair.\n",
    "\n",
    "Documentation on how to write estimation solvers will be available soon."
   ]
  }
 ],
 "metadata": {
  "kernelspec": {
   "display_name": "Julia 0.6.1-pre",
   "language": "julia",
   "name": "julia-0.6"
  },
  "language_info": {
   "file_extension": ".jl",
   "mimetype": "application/julia",
   "name": "julia",
   "version": "0.6.1"
  }
 },
 "nbformat": 4,
 "nbformat_minor": 2
}
