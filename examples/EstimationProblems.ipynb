{
 "cells": [
  {
   "cell_type": "markdown",
   "metadata": {},
   "source": [
    "# Estimation problems\n",
    "\n",
    "In this tutorial, I will explain one of the greatest features of GeoStats.jl: the ability to setup geostatistical problems indenpendently of the solution strategy.\n",
    "\n",
    "If you are an experienced user of geostatistics or if you do research in the field, you know how hard it is to compare algorithms fairly. Often a new algorithm is proposed in the literature, and yet the task of comparing it with the state of the art is quite demanding. Even when a comparison is made by the author after a great amount of effort, it is inevitably biased.\n",
    "\n",
    "Part of this issue is attributed to the fact that a general definition of the problem is missing. What is it that we call an \"estimation problem\" in geostatistics? The answer to this question is given below in the form of code.\n",
    "\n",
    "Before we proceed, please install the following packages:"
   ]
  },
  {
   "cell_type": "code",
   "execution_count": 1,
   "metadata": {},
   "outputs": [
    {
     "name": "stderr",
     "output_type": "stream",
     "text": [
      "\u001b[1m\u001b[36mINFO: \u001b[39m\u001b[22m\u001b[36mPackage GeoStats is already installed\n",
      "\u001b[39m\u001b[1m\u001b[36mINFO: \u001b[39m\u001b[22m\u001b[36mPackage Plots is already installed\n",
      "\u001b[39m\u001b[1m\u001b[36mINFO: \u001b[39m\u001b[22m\u001b[36mPackage PyPlot is already installed\n",
      "\u001b[39m"
     ]
    }
   ],
   "source": [
    "for pkg in [\"GeoStats\", \"Plots\", \"PyPlot\"]\n",
    "    Pkg.add(pkg)\n",
    "end\n",
    "\n",
    "# make sure this tutorial is reproducible\n",
    "srand(2000);"
   ]
  },
  {
   "cell_type": "markdown",
   "metadata": {},
   "source": [
    "## Problem definition\n",
    "\n",
    "An estimation problem in geostatistics is a triplet:\n",
    "\n",
    "1. Spatial data (i.e. data with coordinates)\n",
    "2. Spatial domain (e.g. regular grid, unstructured grid)\n",
    "3. Target variables (or variables to be estimated)\n",
    "\n",
    "It doesn't involve variograms, training images, or any tuning parameter. These concepts belong to solvers.\n",
    "\n",
    "Let's make it a concrete example, and create some data:"
   ]
  },
  {
   "cell_type": "code",
   "execution_count": 2,
   "metadata": {
    "scrolled": false
   },
   "outputs": [
    {
     "data": {
      "text/html": [
       "3×4 GeoDataFrame (x and y)\n",
       "<table class=\"data-frame\"><thead><tr><th></th><th>x</th><th>y</th><th>station</th><th>precipitation</th></tr></thead><tbody><tr><th>1</th><td>25.0</td><td>25.0</td><td>palo alto</td><td>1.0</td></tr><tr><th>2</th><td>50.0</td><td>75.0</td><td>redwood city</td><td>0.0</td></tr><tr><th>3</th><td>75.0</td><td>50.0</td><td>mountain view</td><td>1.0</td></tr></tbody></table>"
      ],
      "text/plain": [
       "3×4 GeoDataFrame (x and y)\n",
       "│ Row │ x    │ y    │ station         │ precipitation │\n",
       "├─────┼──────┼──────┼─────────────────┼───────────────┤\n",
       "│ 1   │ 25.0 │ 25.0 │ \"palo alto\"     │ 1.0           │\n",
       "│ 2   │ 50.0 │ 75.0 │ \"redwood city\"  │ 0.0           │\n",
       "│ 3   │ 75.0 │ 50.0 │ \"mountain view\" │ 1.0           │"
      ]
     },
     "execution_count": 2,
     "metadata": {},
     "output_type": "execute_result"
    }
   ],
   "source": [
    "using GeoStats\n",
    "using DataFrames\n",
    "\n",
    "# stations monitoring rainfall\n",
    "df = csv\"\"\"\n",
    "   x,    y,       station, precipitation\n",
    "25.0, 25.0,     palo alto,           1.0\n",
    "50.0, 75.0,  redwood city,           0.0\n",
    "75.0, 50.0, mountain view,           1.0\n",
    "\"\"\"\n",
    "\n",
    "# inform the coordinates of the data\n",
    "geodata = GeoDataFrame(df, [:x,:y])"
   ]
  },
  {
   "cell_type": "markdown",
   "metadata": {},
   "source": [
    "The `GeoDataFrame` type is defined in GeoStats.jl as a lightweight wrapper over Julia's DataFrame types. Besides the data, it stores the name of the columns representing spatial coordinates. It is also possible to load the data directly into a `GeoDataFrame` by using the `readtable` function, and passing the option `coordnames=[:x,:y]`.\n",
    "\n",
    "Next, we define the domain in which the variables will be estimated. One of the many choices possible is the regular grid:"
   ]
  },
  {
   "cell_type": "code",
   "execution_count": 3,
   "metadata": {},
   "outputs": [
    {
     "data": {
      "text/plain": [
       "RegularGrid{Float64,2}\n",
       "  dimensions: (100, 100)\n",
       "  origin:     (0.0, 0.0)\n",
       "  spacing:    (1.0, 1.0)"
      ]
     },
     "execution_count": 3,
     "metadata": {},
     "output_type": "execute_result"
    }
   ],
   "source": [
    "domain = RegularGrid{Float64}(100,100)"
   ]
  },
  {
   "cell_type": "markdown",
   "metadata": {},
   "source": [
    "Notice that by default, a regular grid has zero origin and unit spacing. Alternatively, these parameters can be specified explicitly:"
   ]
  },
  {
   "cell_type": "code",
   "execution_count": 4,
   "metadata": {},
   "outputs": [
    {
     "data": {
      "text/plain": [
       "RegularGrid{Float64,2}\n",
       "  dimensions: (100, 100)\n",
       "  origin:     (0.0, 0.0)\n",
       "  spacing:    (1.0, 1.0)"
      ]
     },
     "execution_count": 4,
     "metadata": {},
     "output_type": "execute_result"
    }
   ],
   "source": [
    "domain = RegularGrid([100,100], [0.,0.], [1.,1.])"
   ]
  },
  {
   "cell_type": "markdown",
   "metadata": {},
   "source": [
    "Like many other domain types in GeoStats.jl, regular grids are lightweight objects. They do not require any memory space other than the space used to save the input parameters (i.e. dimensions, origin and spacing). Looping over a regular grid or finding the coordinates of a given location is done analytically for maximum performance."
   ]
  },
  {
   "cell_type": "markdown",
   "metadata": {},
   "source": [
    "Finally, we define the estimation problem for the precipitation variable:"
   ]
  },
  {
   "cell_type": "code",
   "execution_count": 5,
   "metadata": {},
   "outputs": [
    {
     "data": {
      "text/plain": [
       "2D EstimationProblem\n",
       "  data:      3×4 GeoDataFrame (x and y)\n",
       "  domain:    100×100 RegularGrid{Float64,2}\n",
       "  variables: precipitation (Float64)"
      ]
     },
     "execution_count": 5,
     "metadata": {},
     "output_type": "execute_result"
    }
   ],
   "source": [
    "problem = EstimationProblem(geodata, domain, :precipitation)"
   ]
  },
  {
   "cell_type": "markdown",
   "metadata": {},
   "source": [
    "## Solving the problem\n",
    "\n",
    "Now that the problem is unambiguously defined, we can solve it with various estimation solvers. In this tuturial, we will use the polyalgorithm Kriging solver distributed with GeoStats.jl. In Kriging, each variable of the problem is (optionally) parametrized by a mean and a variogram:"
   ]
  },
  {
   "cell_type": "code",
   "execution_count": 6,
   "metadata": {},
   "outputs": [
    {
     "data": {
      "text/plain": [
       "GeoStats.Kriging\n",
       "  └─precipitation\n",
       "    └─variogram = GeoStats.GaussianVariogram{Float64,Float64,GeoStats.EuclideanDistance}\n",
       "  range: Float64 20.0\n",
       "  sill: Float64 1.0\n",
       "  nugget: Float64 0.0\n",
       "  distance: GeoStats.EuclideanDistance GeoStats.EuclideanDistance()\n",
       "\n",
       "    └─mean = nothing\n",
       "    └─degree = nothing\n",
       "    └─drifts = nothing\n"
      ]
     },
     "execution_count": 6,
     "metadata": {},
     "output_type": "execute_result"
    }
   ],
   "source": [
    "solver = Kriging(\n",
    "    :precipitation => @NT(\n",
    "        variogram=GaussianVariogram(range=20.)\n",
    "    )\n",
    ")"
   ]
  },
  {
   "cell_type": "markdown",
   "metadata": {},
   "source": [
    "The line above translates to \"solve the precipitation variable using a Gaussian variogram\". The prefix `@NT` extends for `NamedTuple` and won't be necessary in Julia v0.7 and beyond. When only the variogram is specified, Ordinary Kriging is triggered.\n",
    "\n",
    "The user can specify the mean (e.g. `mean=.5`) for Simple Kriging, the polynomial degree (e.g. `degree=1`) for Universal Kriging, and the drift functions (e.g. `drifts=[x -> 1 + x[1], x -> 2x[2]]`) for External Drift Kriging. For more solver options, please consult the GeoStats.jl documentation.\n",
    "\n",
    "The solution to the problem is easily obtained with:"
   ]
  },
  {
   "cell_type": "code",
   "execution_count": 7,
   "metadata": {
    "scrolled": false
   },
   "outputs": [
    {
     "data": {
      "text/plain": [
       "2D EstimationSolution\n",
       "  domain: 100×100 RegularGrid{Float64,2}\n",
       "  variables: precipitation"
      ]
     },
     "execution_count": 7,
     "metadata": {},
     "output_type": "execute_result"
    }
   ],
   "source": [
    "solution = solve(problem, solver)"
   ]
  },
  {
   "cell_type": "markdown",
   "metadata": {},
   "source": [
    "It is stored in an efficient format with all the necessary information to reconstruct the estimates spatially. The user can digest the solution into a Julia dictionary by calling `digest(solution)`. The resulting dictionary maps variable names (e.g. :precipitation) to their mean and variance:"
   ]
  },
  {
   "cell_type": "code",
   "execution_count": 8,
   "metadata": {},
   "outputs": [
    {
     "data": {
      "text/plain": [
       "Dict{Symbol,Dict{Symbol,Array{Float64,2}}} with 1 entry:\n",
       "  :precipitation => Dict(:mean=>[0.685878 0.68776 … 0.671083 0.671122; 0.68776 …"
      ]
     },
     "execution_count": 8,
     "metadata": {},
     "output_type": "execute_result"
    }
   ],
   "source": [
    "d = digest(solution)"
   ]
  },
  {
   "cell_type": "markdown",
   "metadata": {},
   "source": [
    "However, very often we just want to visualize the results. In GeoStats.jl, solutions to estimation problems can be plotted directly in a standardized format for comparison between different solvers and parameter settings:"
   ]
  },
  {
   "cell_type": "code",
   "execution_count": 9,
   "metadata": {
    "scrolled": false
   },
   "outputs": [
    {
     "data": {
      "text/html": [
       "<img src=\"data:image/png;base64,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\" />"
      ]
     },
     "execution_count": 9,
     "metadata": {},
     "output_type": "execute_result"
    }
   ],
   "source": [
    "using Plots; pyplot()\n",
    "\n",
    "plot(solution, size=(1000,500))"
   ]
  },
  {
   "cell_type": "markdown",
   "metadata": {},
   "source": [
    "## Conclusions\n",
    "\n",
    "The ability to work at the level of the problem definition is quite desirable. Users can switch between different solvers without having to learn new syntax. This approach also guarantees that the problem being solved is the same and that the comparison is fair.\n",
    "\n",
    "Documentation on how to write estimation solvers will be available soon."
   ]
  }
 ],
 "metadata": {
  "kernelspec": {
   "display_name": "Julia 0.6.1-pre",
   "language": "julia",
   "name": "julia-0.6"
  },
  "language_info": {
   "file_extension": ".jl",
   "mimetype": "application/julia",
   "name": "julia",
   "version": "0.6.1"
  }
 },
 "nbformat": 4,
 "nbformat_minor": 2
}
