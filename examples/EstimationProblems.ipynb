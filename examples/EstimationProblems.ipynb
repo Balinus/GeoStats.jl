{
 "cells": [
  {
   "cell_type": "markdown",
   "metadata": {},
   "source": [
    "# Estimation problems\n",
    "\n",
    "In this tutorial, we explain one of the greatest features of GeoStats.jl: the ability to setup geostatistical problems indenpendently of the solution strategy.\n",
    "\n",
    "If you are an experienced user of geostatistics or if you do research in the field, you know how hard it is to compare algorithms fairly. Often a new algorithm is proposed in the literature, and yet the task of comparing it with the state of the art is quite demanding. Even when a comparison is made by the author after a great amount of effort, it is inevitably biased.\n",
    "\n",
    "Part of this issue is attributed to the fact that a general definition of the problem is missing. What is it that we call an \"estimation problem\" in geostatistics? The answer to this question is given below in the form of code.\n",
    "\n",
    "Before we proceed, please install the following packages:"
   ]
  },
  {
   "cell_type": "code",
   "execution_count": 1,
   "metadata": {},
   "outputs": [
    {
     "name": "stderr",
     "output_type": "stream",
     "text": [
      "\u001b[1m\u001b[36mINFO: \u001b[39m\u001b[22m\u001b[36mPackage GeoStats is already installed\n",
      "\u001b[39m\u001b[1m\u001b[36mINFO: \u001b[39m\u001b[22m\u001b[36mPackage Plots is already installed\n",
      "\u001b[39m\u001b[1m\u001b[36mINFO: \u001b[39m\u001b[22m\u001b[36mPackage PyPlot is already installed\n",
      "\u001b[39m"
     ]
    }
   ],
   "source": [
    "for pkg in [\"GeoStats\", \"Plots\", \"PyPlot\"]\n",
    "    Pkg.add(pkg)\n",
    "end\n",
    "\n",
    "# make sure this tutorial is reproducible\n",
    "srand(2000);"
   ]
  },
  {
   "cell_type": "markdown",
   "metadata": {},
   "source": [
    "## Problem definition\n",
    "\n",
    "An estimation problem in geostatistics is a triplet:\n",
    "\n",
    "1. Spatial data (i.e. data with coordinates)\n",
    "2. Spatial domain (e.g. regular grid, unstructured grid)\n",
    "3. Target variables (or variables to be estimated)\n",
    "\n",
    "It doesn't involve variograms, training images, or any tuning parameter. These concepts belong to solvers.\n",
    "\n",
    "Let's make it a concrete example, and create some data:"
   ]
  },
  {
   "cell_type": "code",
   "execution_count": 2,
   "metadata": {
    "scrolled": false
   },
   "outputs": [
    {
     "data": {
      "text/html": [
       "3×4 GeoDataFrame (x and y)\n",
       "<table class=\"data-frame\"><thead><tr><th></th><th>x</th><th>y</th><th>station</th><th>precipitation</th></tr></thead><tbody><tr><th>1</th><td>25.0</td><td>25.0</td><td>palo alto</td><td>1.0</td></tr><tr><th>2</th><td>50.0</td><td>75.0</td><td>redwood city</td><td>0.0</td></tr><tr><th>3</th><td>75.0</td><td>50.0</td><td>mountain view</td><td>1.0</td></tr></tbody></table>"
      ],
      "text/plain": [
       "3×4 GeoDataFrame (x and y)\n",
       "│ Row │ x    │ y    │ station         │ precipitation │\n",
       "├─────┼──────┼──────┼─────────────────┼───────────────┤\n",
       "│ 1   │ 25.0 │ 25.0 │ \"palo alto\"     │ 1.0           │\n",
       "│ 2   │ 50.0 │ 75.0 │ \"redwood city\"  │ 0.0           │\n",
       "│ 3   │ 75.0 │ 50.0 │ \"mountain view\" │ 1.0           │"
      ]
     },
     "execution_count": 2,
     "metadata": {},
     "output_type": "execute_result"
    }
   ],
   "source": [
    "using GeoStats\n",
    "using DataFrames\n",
    "\n",
    "# stations monitoring rainfall\n",
    "df = csv\"\"\"\n",
    "   x,    y,       station, precipitation\n",
    "25.0, 25.0,     palo alto,           1.0\n",
    "50.0, 75.0,  redwood city,           0.0\n",
    "75.0, 50.0, mountain view,           1.0\n",
    "\"\"\"\n",
    "\n",
    "# inform the coordinates of the data\n",
    "geodata = GeoDataFrame(df, [:x,:y])"
   ]
  },
  {
   "cell_type": "markdown",
   "metadata": {},
   "source": [
    "The `GeoDataFrame` type is defined in GeoStats.jl as a lightweight wrapper over Julia's DataFrame types. Besides the data, it stores the name of the columns representing spatial coordinates. It is also possible to load the data directly into a `GeoDataFrame` by using the `readtable` function, and passing the option `coordnames=[:x,:y]`.\n",
    "\n",
    "Next, we define the domain in which the variables will be estimated. One of the many choices possible is the regular grid:"
   ]
  },
  {
   "cell_type": "code",
   "execution_count": 3,
   "metadata": {},
   "outputs": [
    {
     "data": {
      "text/plain": [
       "RegularGrid{Float64,2}\n",
       "  dimensions: (100, 100)\n",
       "  origin:     (0.0, 0.0)\n",
       "  spacing:    (1.0, 1.0)"
      ]
     },
     "execution_count": 3,
     "metadata": {},
     "output_type": "execute_result"
    }
   ],
   "source": [
    "domain = RegularGrid{Float64}(100,100)"
   ]
  },
  {
   "cell_type": "markdown",
   "metadata": {},
   "source": [
    "Notice that by default, a regular grid has zero origin and unit spacing. Alternatively, these parameters can be specified explicitly:"
   ]
  },
  {
   "cell_type": "code",
   "execution_count": 4,
   "metadata": {},
   "outputs": [
    {
     "data": {
      "text/plain": [
       "RegularGrid{Float64,2}\n",
       "  dimensions: (100, 100)\n",
       "  origin:     (0.0, 0.0)\n",
       "  spacing:    (1.0, 1.0)"
      ]
     },
     "execution_count": 4,
     "metadata": {},
     "output_type": "execute_result"
    }
   ],
   "source": [
    "domain = RegularGrid([100,100], [0.,0.], [1.,1.])"
   ]
  },
  {
   "cell_type": "markdown",
   "metadata": {},
   "source": [
    "Like many other domain types in GeoStats.jl, regular grids are lightweight objects. They do not require any memory space other than the space used to save the input parameters (i.e. dimensions, origin and spacing). Looping over a regular grid or finding the coordinates of a given location is done analytically for maximum performance."
   ]
  },
  {
   "cell_type": "markdown",
   "metadata": {},
   "source": [
    "Finally, we define the estimation problem for the precipitation variable:"
   ]
  },
  {
   "cell_type": "code",
   "execution_count": 5,
   "metadata": {},
   "outputs": [
    {
     "data": {
      "text/plain": [
       "2D EstimationProblem\n",
       "  data:      3×4 GeoDataFrame (x and y)\n",
       "  domain:    100×100 RegularGrid{Float64,2}\n",
       "  variables: precipitation (Float64)"
      ]
     },
     "execution_count": 5,
     "metadata": {},
     "output_type": "execute_result"
    }
   ],
   "source": [
    "problem = EstimationProblem(geodata, domain, :precipitation)"
   ]
  },
  {
   "cell_type": "markdown",
   "metadata": {},
   "source": [
    "## Solving the problem\n",
    "\n",
    "Now that the problem is unambiguously defined, we can solve it with various estimation solvers. In this tutorial, we will use the polyalgorithm Kriging solver distributed with GeoStats.jl. In Kriging, each variable of the problem is (optionally) parametrized by a mean and a variogram:"
   ]
  },
  {
   "cell_type": "code",
   "execution_count": 6,
   "metadata": {},
   "outputs": [
    {
     "data": {
      "text/plain": [
       "GeoStats.Kriging\n",
       "  └─precipitation\n",
       "    └─variogram = GeoStats.GaussianVariogram{Float64,Float64,GeoStats.EuclideanDistance}\n",
       "  range: Float64 35.0\n",
       "  sill: Float64 1.0\n",
       "  nugget: Float64 0.0\n",
       "  distance: GeoStats.EuclideanDistance GeoStats.EuclideanDistance()\n",
       "\n",
       "    └─mean = nothing\n",
       "    └─degree = nothing\n",
       "    └─drifts = nothing\n"
      ]
     },
     "execution_count": 6,
     "metadata": {},
     "output_type": "execute_result"
    }
   ],
   "source": [
    "solver = Kriging(\n",
    "    :precipitation => @NT(variogram=GaussianVariogram(range=35.))\n",
    ")"
   ]
  },
  {
   "cell_type": "markdown",
   "metadata": {},
   "source": [
    "The line above translates to \"solve the precipitation variable using a Gaussian variogram\". The prefix `@NT` extends for `NamedTuple` and won't be necessary in Julia v0.7 and beyond. When only the variogram is specified, Ordinary Kriging is triggered.\n",
    "\n",
    "The user can specify the mean (e.g. `mean=.5`) for Simple Kriging, the polynomial degree (e.g. `degree=1`) for Universal Kriging, and the drift functions (e.g. `drifts=[x -> 1 + x[1], x -> 2x[2]]`) for External Drift Kriging. For more solver options, please consult the GeoStats.jl documentation.\n",
    "\n",
    "The solution to the problem is easily obtained with:"
   ]
  },
  {
   "cell_type": "code",
   "execution_count": 7,
   "metadata": {
    "scrolled": false
   },
   "outputs": [
    {
     "data": {
      "text/plain": [
       "2D EstimationSolution\n",
       "  domain: 100×100 RegularGrid{Float64,2}\n",
       "  variables: precipitation"
      ]
     },
     "execution_count": 7,
     "metadata": {},
     "output_type": "execute_result"
    }
   ],
   "source": [
    "solution = solve(problem, solver)"
   ]
  },
  {
   "cell_type": "markdown",
   "metadata": {},
   "source": [
    "It is stored in an efficient format with all the necessary information to reconstruct the estimates spatially. The user can digest the solution into a Julia dictionary by calling `digest(solution)`. The resulting dictionary maps variable names (e.g. :precipitation) to their mean and variance:"
   ]
  },
  {
   "cell_type": "code",
   "execution_count": 8,
   "metadata": {},
   "outputs": [
    {
     "data": {
      "text/plain": [
       "Dict{Symbol,Dict{Symbol,Array{Float64,2}}} with 1 entry:\n",
       "  :precipitation => Dict(:mean=>[0.687121 0.689082 … 0.671328 0.671373; 0.68908…"
      ]
     },
     "execution_count": 8,
     "metadata": {},
     "output_type": "execute_result"
    }
   ],
   "source": [
    "d = digest(solution)"
   ]
  },
  {
   "cell_type": "markdown",
   "metadata": {},
   "source": [
    "However, very often we just want to visualize the results. In GeoStats.jl, solutions to estimation problems can be plotted directly in a standardized format for comparison between different solvers and parameter settings:"
   ]
  },
  {
   "cell_type": "code",
   "execution_count": 9,
   "metadata": {
    "scrolled": false
   },
   "outputs": [
    {
     "data": {
      "text/html": [
       "<img src=\"data:image/png;base64,iVBORw0KGgoAAAANSUhEUgAAA+gAAAH0CAYAAACuKActAAAABHNCSVQICAgIfAhkiAAAAAlwSFlzAAAPYQAAD2EBqD+naQAAIABJREFUeJzs3Xl8VNXdP/DPkEAWNCBbQEwyCYtLxQCiiKigohSVqqWVBxWEX91QKkqtgg8Q0ArVCg9VQZQqoNRKFdwqrqlIVRQBsVVRlqxFEkARMGHP/f0RZ8wks9zlnHvPufN5v175g8nMvedOQu587vd7zg0YhmGAiIiIiIiIiDzVzOsBEBEREREREREDOvlYMBhEMBh0vJ1AIICBAwc63o5dixYtQiAQwKJFizwbAxERkWg8T/uTqJ8rUbJiQCeyYfTo0QgEAigrK3O8rbKyMgQCAYwePdrxtoiIiIjnaSJyz6pVqzB06FAcf/zxCAQCeOmll0y/9oMPPkBqaip69uwZfixVxiCJVFBcXCxkOxs3bkRmZqaQbdlx5ZVX4qyzzkKnTp08GwMREZFoPE/7k6ifK5EuampqUFhYiP/3//4ffvnLX5p+3ffff49Ro0bhwgsvRHV1dfhxBnTyrS5dugjZzkknnSRkO3a1atUKrVq18nQMREREovE87U+ifq5EuhgyZAiGDBli+XU333wzrr76aqSkpERU3dniTqatXLkSgUAA06ZNw/vvv4+BAwfi2GOPRevWrTFs2DBs2bKlyWtC85C+//57jBs3Djk5OUhNTY2Yp7Vv3z4UFRXhZz/7GTIyMtC6dWsMHjwY77//ftRx7Nu3D9OnT8dpp52GzMxMtGrVCr169cKUKVNw+PDhJvtuaNq0aQgEAli5ciWefPJJ9OjRA+np6ejcuTPuuOMO7Nu3r8n+Gs9tCwaDWLx4MQAgPz8fgUCgyXNefPFFjBgxAl27dg2P8dxzz8WyZcsitr1o0SLk5+cDABYvXhzeVmiMoefEmtv2wQcf4NJLL0WbNm2Qnp6Ok046CUVFRaitrY15HNXV1bjuuuvQrl07ZGRk4Kyzzgrvy4yG7+HChQvRo0cPZGRkID8/Hw8//DAAwDAMzJo1CyeeeCLS09PRrVs3PP3001G3d+jQIcyePRu9e/dGy5Ytceyxx+Lcc8/FK6+80uS5mzZtwl133YXevXujbdu2SE9PR/fu3TFx4kT88MMPTZ4/cOBABAIBHD58GNOmTUMwGERaWhq6d++OefPmmT5mIiId8Dz903aT9Tx93333IRAIxDznLl++HIFAAP/7v/9r+b0AItv9N27ciCuvvBJt27aNmE4Q7ef6zTffoKioCGeddRY6dOiAtLQ0BINB3HLLLdixY0eT/YSmKJSWluLhhx/GSSedhLS0NOTl5WH69Omoq6uLenwvv/wyLr744vBnhGAwiJEjR+Lzzz+PeJ6Vzx5EMixcuBAlJSUoKipq8j1W0Mmyjz76CDNnzsTPf/5z/Pa3v8UXX3yBF198Ef/617/w0UcfoaCgIOL5Bw8exAUXXIAffvgBv/jFL5Camors7GwAwHfffYfzzjsPX3zxBfr374+bb74Ze/fuxcsvv4zzzz8fzz//PK644orwtnbs2IEBAwbgq6++Qs+ePTF27FjU1dXhq6++wgMPPIDf/e53aN26dcJjmD17NoqLizF8+HBceumleOeddzBnzhx89NFHWLVqFZo3bx7ztbfffjsWLVqEzz77DOPHjw/vr+HJaNKkSWjRogXOOeccdOrUCTt37sQrr7yCX/3qV3j44Yfx29/+FgDQs2dPjB8/Hn/+859RWFgYcayJFlh5/vnnMWLECKSlpWH48OHo0KED3nrrLdx777148803sXLlSqSnp0e85vvvv8c555yDVq1aYeTIkdixYweWLl2KwYMHY926dTj11FMTvnchc+bMwcqVK3H55ZfjggsuwLJlyzB+/HhkZmbi008/xbJly3DZZZfhwgsvxHPPPYfrrrsOwWAQ5513XngbBw8exM9//nOsXLkSPXv2xG9+8xscPnwYr732Gi6//HI88sgjGDduXPj5y5cvx5NPPonzzz8fAwcORF1dHT766CM88MADeO+992L+7EaMGIE1a9ZgyJAhSElJwd///nfceuutaN68OW644QbTx0z+c+DAARw6dMj261u0aNHk/xmR13ieTt7z9LXXXouioiIsWbIEo0aNavL9Z555BgAwcuRIy+9FQ1u2bMFZZ52FHj16YPTo0fj222/RokWLmONatWoVZs2ahQsvvBB9+/ZF8+bN8emnn+Kxxx7Dm2++ifXr10ftQvj973+P9957D5dddhkGDx6Ml156CdOmTcOhQ4dw//33Rzz3d7/7HWbPno02bdrgiiuuQIcOHVBZWYl33nkHp59+evi9s/rZg/Tk9PxuGAYCgUDEY2lpaUhLS3M6NGzevBkTJ07Ev/71L6SmRonjBpFJ7777rgHAAGDMnz8/4nvz5883ABiXXXZZxON5eXkGAGPw4MFGbW1tk21effXVBgBjwYIFEY9XV1cbOTk5Rvv27Y39+/eHHx82bJgBwLjnnnuabKuqqso4fPhwxL7z8vIinlNUVGQAMFq0aGF89tln4cfr6urCY3nooYciXgPAGDBgQMRj1113nQHAKC0tbTIOwzCMrVu3Nnls3759Ro8ePYxWrVoZNTU14cdLS0sNAMZ1110XdVsLFy40ABgLFy4MP7Znzx6jVatWRlpaWsRxHD161Bg+fLgBwLj33nubHAcA45ZbbjGOHj0afvwvf/mLAcC46aabou6/sdB72KZNm4jjrKioMFq0aGG0atXK6N69u7Fjx47w9z766CMDgDF06NCIbd1zzz0GAGPKlClGXV1d+PG9e/caffr0MVq0aGFs27Yt/Ph///tf4+DBg03GNH36dAOAsWTJkojHBwwYYAAw+vbta+zZsyf8+FdffWWkpqYaJ554oqljJn/av3+/ceyP/y/sfnXs2DHibxSRl3ie/kkyn6fPOeccIyUlxfjmm28iHv/222+NFi1aGH369Il43M57AcCYOnVq1P1H+7lWV1cb+/bta/LcxYsXGwCMP/zhDxGPh35++fn5Ecexc+dOo3Xr1saxxx4b8Xng1VdfNQAYPXr0MHbt2hWxrcOHDxtVVVXhf1v97EH6EXF+P+aYY5o8VlRUlHDfAIwXX3wx5vePHDli9OnTx3jsscfCjxUVFRmFhYU/bcPR0VNSCZ34u3fvHnHiMIz6E063bt2MQCAQEcxCJ/6GJ6eQnTt3GikpKcYFF1wQdX8PP/ywAcB49dVXDcMwjO3btxuBQMDo0qWLcejQoYTjjXfiv/7665s8v6yszEhJSTFOPfXUiMftnPhjmTVrlgHAWLlyZfgxOyf+p59+2gBgjB07tsnzy8vLjdTUVKOgoKDJcbRs2bLJCfLw4cNGamqq0bt3b1PHEHoPp0+f3uR7F1xwgQHAWLx4cZPvFRQUGLm5ueF/Hz161DjuuOOMLl26RJwgQ1555RUDgPHII48kHNO3335rADBGjx4d8XgooP/zn/9s8prQ9/bu3Ztw++RPe/bsMQAYkwMB4w82viYHAgaAiIs/RF7iefonyXyefvzxxw0AxqxZsyIenzdvngHAmDNnjqntxHsvOnbsGPWCuWFE/7nGUldXZ2RlZRkDBw6MeDz083vqqaeavCb0vX//+9/hx4YMGRLzfN+QyM8epK7Q+f1/AeM+G1//+2Mgr6ysNPbs2RP+OnDgQMJ9Jwrou3fvNgAYKSkp4a/Aj58nUlJSjOLiYoMt7mRZ//790axZ5PIFzZo1Q//+/bF582Z89tlnGDRoUPh76enp6NGjR5PtfPLJJzh69CgOHjyIadOmNfn+5s2bAQBfffUVLrvsMqxduxaGYeD888+P29pmxrnnntvksby8POTk5OCLL77AoUOH4rZqJbJjxw788Y9/xOuvv47y8nLs378/4vvffPON7W0DwKeffgoAUe/7mpubi4KCAmzatAn79u3DscceG/5e9+7dccwxx0Q8P9TK+P3331saQ8PbQYSEVrCN9b2PP/44/O+vv/4au3fvxvHHH4/p06c3ef7OnTsB1P/8QwzDwMKFC7Fo0SJ8/vnn2LNnT8Q8tFjv6+mnn97ksRNOOAFAfTthw/eIkk86gPRGbWymGIbwsRCJwPN0Yn4+T1911VW47bbb8Mwzz2DChAnhx5csWYLU1FSMGDEi4vl23ovCwkLL7//y5cvx+OOPY/369di9ezeOHj0adx9A4vN3yJo1a5CWloYBAwbEHYOdzx6kr/Qfv+zKyspCVlaWqOGEt/mf//wn4rF58+bhn//8J1544QXk5+dzDjpZF5qXFuvxPXv2RDzeoUOHJnM4gPp5bUD9AioffPBBzP3V1NREbLdz587WBx1jrNEeLysrw759+9C2bVtb2/7uu+9wxhlnoKKiAv3798egQYPQunVrpKSkYMOGDXj55Zdx8OBBJ8PH3r17w+ONplOnTti0aRP27t0bceKP9UcmNTU14kRpRrRthebRxPrekSNHwv8O/fy/+OILfPHFFzH3E/r5A8Btt92GRx99FDk5OfjFL36BTp06hecCTZ8+Peb7Gm+sVo+biEh1PE/H5/fzdOvWrXHZZZdh2bJl+PLLL3HKKadg69at+PDDD3HJJZegQ4cO4efafS9iHVcss2bNwp133on27dvj4osvxgknnICMjAwA9WvaOD1/79mzB507d25yYaoxO589iBL54YcfIhbhLC0txYYNG9CmTRvk5uZi0qRJ2LZtG55++mk0a9asyVoSHTp0QHp6evhxBnSyrOF9+qI93niRj2gnfeCnP7q/+93v8NBDDyXcb2iRl23btpkeayzxjiEQCDiqqD755JOoqKjAfffdh8mTJ0d8749//CNefvll29sOCb13sY6jqqoq4nkqCo1t2LBheOGFFxI+f8eOHZg7dy5OO+00rF69OuKet1VVVVGvhBMRJSOep+NLhvP0yJEjsWzZMjzzzDOYOXMmlixZEn68IbvvRazfmWiOHDmC++67D506dcKGDRsiLhAYhoEHH3zQ9LZiad26NaqqqlBXVxc3pFv97EFkxtq1a3H++eeH/x3qXLnuuuuwaNEibN++HRUVFaa3x9uskWUffPBBk9tb1NXV4cMPP0QgEEBhYaGp7ZxxxhkIBAJYvXq1qef36dMHzZo1w7vvvhtxmxY7/vWvfzV5rLy8HJWVlfjZz36WsG0rJSUFQPTq69atWwEAl19+uan9xttWLL169QKAqLddqaysxNatW1FQUKB06/bJJ5+MrKwsrF271tTPs6SkBIZhYNCgQRHhHIj+vhIRJSuep3mevuSSS9C2bVs8++yzqKurw1//+lcce+yxTY7Z6nthx65du7Bnzx7069cvIpwD9cGmcUu9HWeeeSYOHjyI9957L+7zrH72IDJj4MCBMOrXdov4Ct16cdGiRXFvlTht2jRs2LAh/G8GdLJs06ZNWLBgQcRjCxYswKZNm3DppZeiffv2prbTsWNHXHXVVfjwww/xpz/9CUaU+Zwff/xx+F6h2dnZGDZsGLZu3Rq1Wrpjx46IFup4nn76afz73/8O/9swDNxzzz04evQoRo8enfD1bdq0AVB/km0sLy8PAJrcH/bZZ5/FihUrmjz/uOOOQyAQiLqtWC6//HK0atUKCxcujGjRMgwDd999N44cOWLqOLyUmpqKsWPHory8HHfeeWfUE+Xnn38evj9q6H398MMPIz54/ve//8WkSZPcGTQRkQZ4nuZ5unnz5hg+fDgqKirw4IMPYvPmzRg2bFi4rTzE6nthR4cOHZCRkYH169dH3P999+7dUW/hZsett94KABg/fny4jT3kyJEj4U4Gq589iLzAFneybPDgwbjtttuwYsUK/OxnP8MXX3yBV199Fe3atcOf//xnS9uaN28evv76a9x111145pln0K9fP7Ru3RqVlZVYu3YtNm/ejO3bt4crpvPmzcPnn3+O+++/HytWrMAFF1wAwzCwadMmvPXWW6iurjZ1f9XBgwejX79++J//+R+0b98excXFWLt2Lc466yxTJ4sLLrgADz30EG688UYMGzYMLVu2RF5eHkaOHImRI0figQcewG9/+1u8++67yMvLw2effYbi4mL88pe/xPLlyyO2dcwxx+CMM87AqlWrMHLkSHTr1g3NmjXDyJEjwyfOxrKysrBgwQKMGDECffv2xfDhw9G+fXu88847WLduHc4880z8/ve/N/ET8Nb06dOxfv16PPzww3jttddw3nnnoUOHDti2bRv+85//4LPPPsPq1avRoUMHdOrUCcOGDcOyZcvQp08fXHjhhaiursY//vEPXHjhheEqABFRsuN5mudpoL6dfd68eZg6dWr439GeY+W9sKNZs2a45ZZbMGvWLBQWFmLo0KHYu3cvXn/9deTl5eH44493vI9LLrkEd955Jx566CF069YNV155ZfjzRHFxMe68807cfvvtAKx99iDyAgM6WXbWWWdh8uTJmDx5Mh5++GGkpKTgiiuuwIMPPoiCggJL22rTpg0+/PBDPProo1i6dCn++te/oq6uDh07dkRhYSGmTJmCdu3ahZ/frl07fPTRR3jooYfw/PPP49FHH0V6ejry8/MxceJEtGzZ0tR+J0yYgF/84heYM2cOtmzZgjZt2mD8+PG47777TK1KOmTIEDz44INYsGABZs2ahcOHD2PAgAEYOXIkTjjhBLz33nu466678M477+DIkSPo3bs33nrrLVRWVkY92T3zzDO444478I9//AN79uyBYRg455xzYp74AeDXv/41OnbsiJkzZ2L58uWora1FMBjElClTcPfddyM93cm6le5IS0vD66+/jieffBJPP/00li1bhoMHDyI7OxunnHIKbr755oiVhRctWoRgMIhly5bhkUceQW5uLiZMmIC7776bc8mIiH7E8zTP00D970G3bt2wefNmnHDCCVFXlLfzXtgxc+ZMtGnTBosWLcK8efOQnZ2NESNGYNq0aU0WzLLrT3/6E/r164dHH30UL7zwAg4cOIBOnTrhggsuwEUXXRR+ntXPHkRuCxjR+pWIoli5ciXOP/98FBUVRb3dig6mTZuG6dOn49133416oiKi5LF37160atUKfwgEbN1m7YBhYLJhYM+ePUovyEjJg+dpIqKfzu/3wd5t1g4AmAJ4dn7nHHQiIiIiIiIiBTCgExERERERESmAAZ2IiIiIiIhIAREB/bbbbkMwGEQgEIi4F9vmzZtx9tlno3v37jjjjDMibhcR73vkL6F7/Ok6rw2on9tmGAbntRFR0uE53v94niYi0l9EQP/Vr36F999/v8mKlDfddBNuvPFGbNq0CXfffXfEfRvjfY+IiIjUwHM8ERGR+qKu4h4MBvHSSy+hZ8+e2LFjB7p27YrvvvsOqampMAwDnTp1wvvvv4+srKyY3+vatasXx0NERGRKsq7iznM8ERH5me6ruCe8D3plZSU6deqE1NT6pwYCAeTm5qKiogKtWrWK+b1oJ2/DMLBr1y60aNECgQYfhtLS0pCWlibqmIiIiMgEUed4nt+JiIjESBjQRdq3bx86dOiA5+/7X2Sm27meQaK07Frg9RCkyCwIej0EiqO2pMzrIQhXs6XE6yEkrUvunOz1EOhHofO73WoFeSMjp7PXQxAqI5iX+Elk2/6ycq+HINz+ym1eD4FiuLNpk3fSSLiKe05ODrZv344jR44AqL9KXlFRgdzc3LjfI3UxnJNX/Pgz8uv/J0oOPMcnLz+F84xgHsO5C/z4Hvvp/wH5R8KA3qFDB/Tu3RtLliwBACxbtgwnnHACunbtGvd7RG7JLAj6Mvj5lR9/XgzppCue45OTn0KJH0OjyngxhEi+iBb3m266Ca+99hqqqqowePBgHHvssdiyZQsef/xxjB49GjNmzEBWVhYWLlwYfk2875F6/BQk/Bbykk1mQdCXLe9EquI5ngD/hHOGRG+F3n8/tL1n5HRmqzspJeoq7rKEVtTjHHRvMJyTqvwS1Dkf3V1O56An6yruMjhdMZfc4YdwzmCuHj+EdIDz0VXjZA667qu4J2xxJ39gOCeV+eVn6qf/Z0REqmE4V5Nf2t79cAGL/MHVVdyJnPBLiGuo+ltnDSzZba1X/VTll5b3ll0LWEknIuXoHD78EP6SgR/a3tnuTipgQE8Cfqjq6RzOnYZwu9vWMbyHfs5+COpERKpgOHdfZr7zux3UllYIGIn7MoJ5DOlEDjCg+xzDuftkBnIrGo9Dp8CuezWdVXQiUoWu4VyXYC4iiNvZturhXfdqOkM6eYkB3cd0D+e6BHNVAnkiugV2hnQiImcYzsWSGcatajwWVQO7ztV0hnTyCgM6KUn1cK5LKI+n4TGoGtZ1D+lERGSeisFcpVAej8qBnSGdyBoGdJ/SuXquajj3QyiPReWwrvO8dFbRicgrulXPVQnnugTyRBoehwphXfeWdyI3MaD7EMO5OH4O5bGEjlnFoK5jSCcichvDuXV+CebRqBTWdayms4pObuN90EkZKoXz6m+NpAznDYXeA5XeB5V+R8zS+YIZiTd37lwEg0Gkp6ejb9++WLNmTcznHj58GPfeey+6dOmC9PR0FBYW4o033mjyvG3btuHaa69F27ZtkZGRgR49emDt2rUyD4MUxnBuXmZ+bvgrWahwvCpckLFKt/9XpDcGdJ/RNQyoErxUC6SqUOl9UeV3xQpd/1+SWEuXLsWECRNQVFSE9evXo7CwEIMHD8aOHTuiPn/y5Ml4/PHH8cgjj+DLL7/EzTffjCuvvBKffvpp+Dm7d+9G//790bx5c7z++uv48ssvMWvWLBx33HFuHRaRLRnBPM+Cmgoh1WteX5zw8udvF0M6uYUB3Ud0DQEqBC6VAqjKVHmfVPidIbJq9uzZuOGGGzBmzBiccsopmD9/PjIzM/HUU09Fff4zzzyDe+65B5dccgkKCgowduxYXHLJJZg1a1b4OQ888ABycnKwcOFCnHnmmcjPz8fFF1+MLl26uHVYpBBdAgSDuVq8Duo60eX/GOmNAZ085XXQUiVw6kaF983r3x2rdL2ARont3bs34uvgwYNNnnPo0CGsW7cOgwYNCj/WrFkzDBo0CKtXr4663YMHDyI9PT3isYyMDLz//vvhf7/yyivo06cPfv3rX6NDhw7o1asXFixYIOjISCe6BAcvAhmDuTlevU+6hXQi2RjQfULHD/9eBiwVAqYfeP0e6hbSyZ9ycnLQqlWr8NfMmTObPGfXrl04evQosrOzIx7Pzs5GVVVV1O0OHjwYs2fPxubNm1FXV4e3334by5cvx/bt28PPKSkpwWOPPYZu3brhzTffxNixY3Hbbbdh8eLFYg+SSAC3gxiDuT1evG86hXRdLoaRvriKuw8wnFvjdaj0G69XfddpdXfedk1NGfl5yGhm/Xp1oK4OKClDZWUlsrKywo+npaUJGdef//xn3HDDDTjppJMQCATQpUsXjBkzJqIlvq6uDn369MGMGTMAAL169cLnn3+O+fPn47rrrhMyDlKfDoHBzQDGUC5G6H10a+V3nVZ458ruekjv3MnW+R11dcC27YmfJwkDOrnOq3DOYC6Xl0Fdp5BO/pOVlRUR0KNp164dUlJSUF1dHfF4dXU1OnbsGPU17du3x0svvYQDBw7g22+/xfHHH4+JEyeioOCni7KdOnXCKaecEvG6k08+GcuWLbN5NKQbhvOfqBrMM4PWxlVb5v19yxvKzM9lSI+CIZ1kYUDXnG7Vc4Zz/6v+1mBIj4NV9OTUokULnH766SguLsYVV1wBoL76XVxcjHHjxsV9bXp6Ojp37ozDhw9j2bJluOqqq8Lf69+/P77++uuI52/atAl5efq0i5K/JUM4txrAnWzPq/DuZjWdIZ2SHQM6ucaLcM5g7g2v296JVDRhwgRcd9116NOnD84880zMmTMHNTU1GDNmDABg1KhR6Ny5c3gO+8cff4xt27ahZ8+e2LZtG6ZNm4a6ujrcdddd4W3ecccdOPvsszFjxgxcddVVWLNmDZ544gk88cQTnhwjuUv16rkb4dyLYC46kDvdt5uh3a1quk4hnUg0BnSN6VQ9ZziPVLq1Ruj28ru0FLo9UdyuprOKTiobPnw4du7cialTp6Kqqgo9e/bEG2+8EV44rqKiAs0azJU7cOAAJk+ejJKSEhxzzDG45JJL8Mwzz6B169bh55xxxhl48cUXMWnSJNx7773Iz8/HnDlzcM0117h+fOQuhnP3wrmXgdyMhuNzI6y7VU3XJaSzik6iMaBriuE8NtWCuegwbnYfqoR2hnSin4wbNy5mS/vKlSsj/j1gwAB8+eWXCbd52WWX4bLLLhMxPCIhZIdzN4K56qE8FjfDuhvVdIZ0SkYM6CRVMoZzNwK5GY3H4WVgd7vlXYeQzio6EdmlcvVc93CuazCPxo2w7kY1nSGdkg0DuoZ0qZ4nUzhXJZTH03CMXoV1N6vpOoR0IiI/0TWc+ymUxxI6RplBnSGdSAwGdNKeV8Fch1Aei5dh3atV3lXEKjoRWaVq9VxmOGcwF0dmUGdIZxWdxLBx53byEqvnkdwO56Vba8JffuHF8bj1c/Pqtn5ERDIwnAvaZjA3KcN5Q7Leg8z8XKnTENy6bZ8Tqv4/JX0woJNwfgznfgvl0bh9jAzpREQUj+igx2DelMygLgtDOvkdW9w1okP13G/h3O+hPJrQMbvR+u5Wu7vK89HZ5k5EZqj6gV9WWJIRzt3m9DORm+ctGa3vMlvedWh3J7KLAZ2E8VM4T8Zg3phbQZ1z0omI9KRDOHcjmMv6/BNtu7JDu+ignswhnfPRyS4GdE3oUD13g+xwzmDelBtB3Y2Qzio6EelKxeq56uFcZjD3cupU433LOq9lBnMZ0gVgSCc7GNBJCDdOVgzn3pId1JM9pBMR6SIZw7mq65nIDOwiq+myV3hXGUM6WcVF4jSgevVc93CeDAvAiSTzvfLyXvZERCpSsXoug4hwLnrBs8yCYPhLFzLGK+o9lbVwnA6LxhFZwYBOypMdzsk6mRc1ZId0VT9oqX4hjogIkBOGRIVzUXTNovWzAAAgAElEQVQL5dGIvrgg6uJHsob0ZLnQRmKwxV1xqn9ol30CkxXWVA3mZSW1cb8fLMh0aSTmlG6tkdLyLrvdna3uRKQD1T7U+z2c6x7KYwkdl4jznoi56bLa3TkfnfyCAZ1sYzi3LlEAd/J6r8K7rLnpXN2diMjfVAnnfg3mjYkK6gzpRHIxoCtM9eq5TDLCuRfB3Gkgd7IvtwO7jGq6zJCuYhWdq7kTUYjfq+dOw7muwTwzyvtY63KgFBHURSwgl4wLx7GKTmYwoJMtMk9quodzN0N5PA3H4VZY1y2kExFRYn4L5zI/w0QL4CJeIyPEiwrqqoV01avoDOmUCAM6WcZw3pQqoTwWN8O6rHnpMqhYRSciUq16LpKX4VzG5xc7gVzEfkQGdqfnQoZ06xjSKR4GdEUlc3u7SLLDuerBPJrQmGUGddEhnVV0IiJviKye+yGcuxXIE2k4DhFh3Wk1nSGdSBzeZo0s0al6LjOcl5XUahnOGwodg6zjEP3+y1o0ULXFgXhxjii5qVQ9V+nWVXbDuahbjWUG85QJ542FxiZifE7eK8dTDyTdgk1VKv1fJ7UwoCsoGT+g6xLO/RDMo5F1XLqEdCIikstJ+HISzp0QGXzdImK8Ti5qqBbSVbrIFA1DOkXDgE6myao06hDO/RrMG9MhpMugWhWdiJKTSh/WVWlt9yKc6xbKoxEV1O3tmyHdCpX+35MaGNAVo2r1XJcAIzoMJkswb0jGMYv8ubCKTkQkl87h3Fn1V/9g3pjTY/IqpBMlMwZ08pTIsCUjnCcz0UFd9ZCu0kUoVS/UERFZ4UU4t7cvicH8uPbWvyRwcox2L3o4WtSPVXRKYgzolJAOre0iw18yVs3jUTWkExH5iSof0FUIMm6Hc2FEhW2Jwd1pULe+P4Z0s1T5G0DeY0BXSDJVzVQO59SUiiHd71V0IiKd2Q1XboVzIVVzFyrfMffnkN3jZ0iXiyGdAAZ0SkD1wOKncF6ypSbhl5dEdhaoHNKJiNymyodyUeFFh3Bum5uB3IVx6BDSiVS3atUqDB06FMcffzwCgQBeeumluM9fvnw5LrroIrRv3x5ZWVno168f3nzzzfD3GdDJdaJClaiQ53ZLu5PwrUJwVy2ki6b6RSkiIqpn9e+1o6q5CqE8FodhXfWQzio6qa6mpgaFhYWYO3euqeevWrUKF110EVasWIF169bh/PPPx9ChQ/Hpp58CAFJlDpbMU7G9XeWgIjKcy+ZGgG68j4KuLaXur6ykFsGCTKn7MKv6WwPZbQNeD0O4ll0LULOlxOthEFGS0K16biec26JqKI8lNN7dOy29LPT+1JaVm39NQRC1JWWW9mNXZn4uaksrhG0vI5iH/RaO1W0ZOZ2xv3Kb18Mgk4YMGYIhQ4aYfv6cOXMi/j1jxgy8/PLLePXVV9GrVy9W0MldIqrnOoRzr9vS3di/iPdP1So6EZFb/FQt81U4V7libobN8Vt9r6z/LNSZj646P/1t0NXevXsjvg4ePChlP3V1ddi3bx/atGkDgC3uFIOM6rlK84VlhXMV5oo3JnNMqoR00b9bKnePEBGJ5mXLr8xwbqulXVIwLy+rNfUlnI3jUTmki6R6qzt5LycnB61atQp/zZw5U8p+HnroIfzwww+46qqrALDFXQkqtrerSkSYkxHOVQvl0YTGKLr9XUS7e+nWGuR3kduWTxRLZn4eMlKtnw4DR44ALrV3EqnOjeqm1XBuiaBQ7jRkR3t9XlDAlLLj2ltqe88M5kltd88M5qK2zHrLOlvdyYqM3Bxb53ccOQJs247KykpkZWWFH05LSxM4unrPPvsspk+fjpdffhkdOnQAwIBOUahaPVcxnOsQzBuTEdRVmJPu17noRORfKrSw6lI9VzmcS6l8x9m+7cBucX661XnpuoZ01TGkeycrKysioIv23HPP4frrr8fzzz+PQYMGhR9ni7vHWD03R7VwrmIru1Wij8Hp+6vafHS2uRMRmWOneq5EOHfQzi61LV32viW2vOt47tSh1V2Fi3kk1t/+9jeMGTMGf/vb33DppZdGfI8BnSKoWj13SnQ49xM/hXQVfteIiMxQ4QO3iGAiO5xb267FcG6Rl6E8FtvjsXhxwtG94+NuV41br+lAhb8ZFN0PP/yADRs2YMOGDQCA0tJSbNiwARUV9Z0ekyZNwqhRo8LPf/bZZzFq1CjMmjULffv2RVVVFaqqqrBnzx4ADOgkmQqt7aLCuR+q5rGIPDY37ylPRET+ZrZwIDOcqxbKo3EU1E0y+x67tWicyJCuQxUdYEhX1dq1a9GrVy/06tULADBhwgT06tULU6dOBQBs3749HNYB4IknnsCRI0dw6623olOnTuGv8ePHA+AcdFKcSuE8GZRsqREyN93JnHSnC8aJnIvu5j1eiYjcpEP1XJVwrpPQeC3NU7ewgJzZxeN0PH+qvmAcqWvgwIEwjNhFyUWLFkX8e+XKlXG3x4DuIdXmn4tub/e63VhEOE+WYN6QqJBORETRsQqWmPBw7mEwr7CwrVwRK7bDRlC3uMq7GVZCOheMM4+LxvkfW9xJWU6q5wznzohoeXfyM1BtwTgiIj/RoXpubnviw7nTdvaKstomX26+vjFLx2LyfZK1aBxb3c3jRT5/Y0AnAP6rnjvldTgvK6kNf3nJy5DuhO6/f0REfiNr1faELIZzO0SFaVnbt3TRQUJIt0LWAoJWMKST19ji7hHV2ttV42X13K1wbnac8Z7nxr3HvWp5dzoXXRQd59EREckkcwVtoa3tJsOmk2Dutob7tNoOX15Wa67l3WS7u0rz0ZOx1R1gu7tfsYJOyvFrOG9YFRdVWXar0u7kffG6C4CISCVeV728qA560touMZzLrJbLHodXlXQ3Wt1F0qWKDnj/N4XEY0An37S3qxrO3WpVlx3WvQjpTi7WsM2diEgvZj6PeBXOZbexO2F1XKZb3j1ud7cqGe+NHsKQ7i8M6KQUrxYHkxHOvZxDLmvfXs/NJyIib1kNQWaroaKLBYlYDec6sBPUE7K4+n08rKLLxZDuH5yD7gE/zz/XsXouOnSq1NIdGosbc9UTsXtvdFXmohMROeX1B2jdAkdjoqrnZsO5qGBeUbrf9HNz8zOc76+s1vT8dFPz0k3MSZcxH93OrddEz0XX7d7onJPuD6ygJzm3r1jHY7d6rko4V2HV9VhEjk2n+eiiLhip9P+EiMgrXlbPdQrnFaX7I77cem3EdixU00VV0tnqTiQGAzoJo9ucX1HhXOVg3pgKId0O3hediMgZ3avnCXkczkWEahnbVTGks9VdLq87dcg5BnRSgtvVc5HhXDdeh3Qd3zMiomSndPVcUDi3swicjFCeaF+Wq/IiQ7ogsjvTRFfRGdLJTQzoLlNp/jnbdp3ROWjqVPV3SrfODiLyJ35gtkdE27TZcG6Fm8FcxP6FhXQPWt1VqKLriH9z9MWATkI4CUE6Vs/9Em69ujWdnf0mW5t7zZYSr4dARGSLqyu3JwiMosO518G8MRkhPSFBK7uzii4fQ7qeGNApqTgN536sPKt6/3giIhLDabDwatEtEa3tiZgNraoF84asjM3M8YqYj+7XKjpDOrmBAZ205EVI9lswb8jPx0ZEROpxY5pdoqBpJZyLUF5WG/fLKddDegKiF4yzNQau6A6AIV03DOhJSuQfRC/a2+3Q6fZgXnD7dnVscyeiZJFMH45FVTqdVs+9Dud2AriIwG62mi4kpAtqdTeLVXRnkunvkO4Y0F2k0gJxOrMT7BjOzfHrsYpYKI6LKhKRjlRsb5f991REOLfT0i6yGu50e6JCekICWt11rKIzpJNMDOjkGVZD/cWtKnoy4AJxRKQjVarnTtkN5jLZ2YeIkO7mrdfMsPs7xlb3nzCkqy/V6wGQ+1Rpb7fDj9Vzq/sIFmRKGkm9spJa6fsgIqLk5PgziOTWdivh3IvwGtpnXtDcebqidD9y8zPiP6esFrlxtldeVht/f8e1B3bvjPntzGAeasvK444hsyCI2pKyuM9RTUYwD/sTHJeqMnI6Y3/lNq+HQTGwgk4Ug8xwHloN3s4+nLzWyj7scGNFd3ZeEBG5w4uqo5PVv/0ezhvv3+wYXGt3d4lKVXRdW90BVtJVxoBOnrATstysnssIvzKCtcyw7lb7OdvcicjPvPwQ7GZ4cGUBLwet7aLCuRvt7FaIDOmO9qPBXHRqKiOnM4O6ghjQXeLHBeLcbm93i65hV5Wgy/uiExFRNIkCmMzquQgqBfOGRIV0neajs4ouFkO6WhjQybdUCIqyW9Fl70+V0J9MuEAcEanAT4tqiaieOw2nFWW1Cb+ccCukx5XEVXSGdBKJAT3JqPCHz632djv8Em4ZrInUNHfuXASDQaSnp6Nv375Ys2ZN3OfPmTMHJ554IjIyMpCTk4M77rgDBw4ccLRNItG8bm+PF069DOdWw7fTwJ5sXQQqVdEBhnQShwGdfMnr6rkKAVnUGNyY+291H3Yu8vh1SgbpY+nSpZgwYQKKioqwfv16FBYWYvDgwdixY0fU5z/77LOYOHEiioqKsHHjRjz55JNYunQp7rnnHtvbpOShWliQ2d5ul4xwLqoi3nBbVpgZL6voFA9DuvcY0MkWN8OOTtVzt1vaE1FpLLpz4/YvbG/3t9mzZ+OGG27AmDFjcMopp2D+/PnIzMzEU089FfX5H374Ifr374+rr74awWAQF198MUaMGBFRIbe6TSItSaqeJ2IlnIsK5SK2LTuks4oem2oXxuxiSPcWAzq5yo1bZNmpnosK5yry87ER6eLQoUNYt24dBg0aFH6sWbNmGDRoEFavXh31NWeffTbWrVsXDuQlJSVYsWIFLrnkEtvbJHfxQ666EgVUq+HcDW6HdNsEVNF1xpBOTjGgEyUBLwK219MMiNyyd+/eiK+DBw82ec6uXbtw9OhRZGdnRzyenZ2NqqqqqNu9+uqrce+99+Kcc85B8+bN0aVLFwwcODDc4m5nm0RmWKkumqlgympvt1s91zGcN9yf2X2KWNhO1rYTsdLmrloVHWBIJ2dSvR5AMlDlFmuc0xNdslSYy0pqESzI9Oz1FB/b272TGcxFZosWll8XOHQIAJCTkxPxeFFREaZNm+Z4XCtXrsSMGTMwb9489O3bF1u2bMH48eNx3333YcqUKY63T6QFB/c+l8ntYB5t/7nBxOfk8rJa5MV5XkXpfuTmZ4gcWr3j2gO7d4rfrmCZ+bmoLa2Qsu2MYB72l5VL2babMnI6Y3/lNq+HYUtGXg4yWzS3/sJDh4HV3i24ygo6Kc1q8PWiaqtDOA9Reawqj40onsrKSuzZsyf8NWnSpCbPadeuHVJSUlBdXR3xeHV1NTp27Bh1u1OmTMHIkSNx/fXXo0ePHrjyyisxY8YMzJw5E3V1dba2ScnBL9U7u2RXz70O5yFuVNJlVdFFLxbnyp0Ekhgr6e6yFNBXrFiB3r17o2fPnjj11FOxePFiAMCOHTvw85//HN26dcOpp56KVatWSRksqYGrYf+EoZKIsrKyIr7S0tKaPKdFixY4/fTTUVxcHH6srq4OxcXF6NevX9Tt1tbWolmzyNN0SkoKAMAwDFvbjIXnd/JK3KBmc3E4u3QK5yFCVouXNRddE2x1N4ch3T2mA7phGLj22muxaNEibNiwAf/4xz9w0003Yd++fZg4cSLOOussbN68GQsXLsTVV1+Nw4cPyxw3aciNBeKschKwdQ3nbh4z56Gbw/b25DBhwgQsWLAAixcvxsaNGzF27FjU1NRgzJgxAIBRo0ZFVN+HDh2Kxx57DM899xxKS0vx9ttvY8qUKRg6dGg4qCfaphk8v1NDbs8/d5Nfg6iZkO7Jyuu85RoAhnSyztIc9EAggO+//x5A/aI4bdu2RVpaGv7+979jy5YtAIAzzjgDxx9/PN57772IlWWJrGIYJCI/GT58OHbu3ImpU6eiqqoKPXv2xBtvvBFe5K2ioiKiYj558mQEAgFMnjwZ27ZtQ/v27TF06FDcf//9prdpFs/v4vGDrDfsVpRlV8/LTVwcyHMwF9zsnPSYr48zFz3ethPNcXdTZjAXtWX25pPLnIsO+Gc+OqD3nHRdmA7ogUAAS5cuxS9/+Uu0bNkSu3fvxvLly7Fv3z4cPnw4Yr5bMBhERYW8X3IiEZKxeh7CBd/Uwep5chk3bhzGjRsX9XsrV66M+HdqaiqKiopQVFRke5tm8PxOurFTDXZaPbcTzs2E8ljPdxLWY25foTCtIoZ08xjS5TLd4n7kyBH84Q9/wPLly1FeXo7i4mKMHDkSR44ckTk+EsQPLUKkBt0vTthRW1Lm9RCIpOH5nbxid/55LLKq526E82ivt7oNp/PR413EsL1YnMtt7qovFsd2dzLDdEDfsGEDvvnmG5x33nkA6lvdTjjhBPz73/9GampqxD1Xy8rKkJur9n8QIrv8ElD9chxmZbcNeD0EIiXx/E6yJGNxwE6wTrQ9KxKFdE/momtE5oJxIX4L6Qzq4pkO6Dk5Odi+fTs2btwIANiyZQu2bt2KE088Eb/+9a8xf/58AMAnn3yCbdu2YcCAAXJGTJ6yu4K77AXirM4/T7ZwSmpiezupgOd3f/HTh/9oRLe3i6yeiwzmbmw3Gj8spOe0is6Qbh1Dulim56BnZ2fjiSeewFVXXYVmzZqhrq4Ojz76KHJzc/HAAw9g5MiR6NatG1q0aIElS5ageXMbN4Un+pGqAVrVcRER2cXzO4WIXsE9mcgO0eWl+03PS0+0YJzduei2F4s7rj2we2fM7WYG81CbYG52ZkHQd9PN/DQnHeC8dJEsreI+YsQIjBgxosnj2dnZeOutt4QNyk9adi3weghEMbmxWFzJlhoUdG0pdR86YvWcVMLzOynFpfnnoqrnblW4rYT0ZOdkRXdA/oJxIQzpFI3pFnciomTktyv2REQqMLM4mAiyW7bdbD+3sj8nc9FVbXN3e00DN1rdAba7U1MM6JR07Laps72dRGH1nIhIbU5XRPcr2++LgNXcrdJpGkZGMM9XQZ0h3RkGdNKe1QXiyDlerCAiIreJXIFcxLbcrp5b3a/bFxn8uEK8W1X0EIZ0AhjQiYhcxeo5kf/xg6m77ciig6gO1XOvLg54zervlYgqOkO6ffxbaA8DOpEJfq4Y+/nYQuzeA53zz4mI9CVzLrUfArKO89C9wpBuH0O6dQzoJJ3se6AT6YLVcyIicpNS3QAezEOv366YcM2Qbh9DujUM6KScZKjokjP5XXjbNiIir0hdfMvGLdaSlVdV/Hih34156G6v5h6xbw9Cup+COpnDgE5JheHffbreA110ezur50QkGz/Im+M0RPqhvT3ZiLyo5HZIB/zxf5tVdPMY0JOAqCuN1d8aQrZDlGwYzomIfuLWPdDtUKol3AWqrbxu9nfDzmdbhnTvMaSbw4BOpJDvdx+O+FJVsCDT6yGYZneBOCIiItXJrOZLWSjOR1MYGNLtYUhPjAGdiJSgUugX2d7O6jkR6cCLsGGFapVe0pPo9RMY0u1hSI+PAZ0oyakUjImIiEgsv7bt253C6ZeQrntQZ0iPjQGdiLSi0wrurJ4TEfkLF4irJ3Mld5XXKIjFqw4UhnR/YkAnUkjr45pHfJEzduafi169nYiIiORQpYoOMKTbxZDeFAM6EUmj6y3WRGD1nIiISF0M6epgSI/EgJ4EWBEk1fltHjzDORGRP+XlZ3g9BP2ZWMndSpu7qNsJi+JlSNc5qDOk/4QBnUzj7aoI8DZMW5l/zvZ2IiIiikdGFR2oD+msppNdDOhEScxvlWsVsHpORCReXpDnK4rNSRVdVkgH2PJuFavo9RjQKakwkFIsIqrnDOdEROQmMy33uby4kRBDujoY0hnQSUEM0eqy8rMxu0Cc2W3Kbm8nIkpmtaUV7u2rrNy1fVnFMKsOq7dbczoXXXZI5/3SzdMtpK9atQpDhw7F8ccfj0AggJdeeinha1auXInevXsjLS0NXbt2xaJFi8LfY0An6XS6b3Usfrxo4MdjsovVcyKi5OG0XZ4LxfmXzJAOsJruVzU1NSgsLMTcuXNNPb+0tBSXXnopzj//fGzYsAG33347rr/+erz55psAgFSZg6X6D+0tuxZ4PQyipOFF9ZzhnIhIkN07Ta3yTZo7rn39z1qwzIKg44vumcFc1JbJ6ygJhXQ3u1aA+pC+X+HuFZ0NGTIEQ4YMMf38+fPnIz8/H7NmzQIAnHzyyXj//ffxf//3fxg8eDAr6ETJSHb13Mv2dqu4cjsRkTUywwuZlwyVfKtt7uL2K7/S7VXLO5m3d+/eiK+DBw8K2e7q1asxaNCgiMcGDx6M1atXA2CLO/mA2TDoVLK3hCf78cfC6jkRkZpybQZYM/PQdQnHiY7Fj6vji7ovemYw15WWd7eDOkO6eTk5OWjVqlX4a+bMmUK2W1VVhezs7IjHsrOzsXfvXuzfv58t7pR8ggWZKCup9XoYnvFz0Lba3u60eq5yOBfRGSDqQ47qMoO5yExPt/7CAwfED4bIgf1l5Un54Ts3mImKMmvn9bxgJsotvkYlblwgsHuBAwDKy2o9Df8iWt3D25Lc8g7UB3U3W96Tpd09M+8EZKalWX/hj5XyyspKZGVlhR9Os7MtG1hBJ6KEdFm9PZnVlpRFfKm6TSJKDjL+ZqhW7dWliq47u23uIi8y+7HlPRkv5lmVlZUV8SUqoHfs2BHV1dURj1VXVyMrKwsZGRkM6ERW6F591n388SRj9dzt8MywTkTJwuzt1rwI6Wb3yVvGieXHlnddb8Omu379+qG4uDjisbfffhv9+vUDwAo6KUp2kPRzUBWN1fOmvA7nKoRkFcZARPpy617oTtq0zXIzpIvcl+cdCRZW61ehih7eJqvp1MgPP/yADRs2YMOGDQDqb6O2YcMGVFTUT1uYNGkSRo0aFX7+zTffjJKSEtx111346quvMG/ePPz973/HHXfcAYABPWmI+iBt9xZWsoOWWwvFAfqGe13HbYab1XOvwrmq1WsVx0REmrNx+y071eJEAVW1CrRKLfWqvTfxyArpfqymkz1r165Fr1690KtXLwDAhAkT0KtXL0ydOhUAsH379nBYB4D8/Hy89tprePvtt1FYWIhZs2bhL3/5CwYPHgyA90EnSgp2w7mM6jlZo0v4DY0zWRaWIyJqKC8/A+Wl+6Vu3wqdArQbRC4aF7HdH0O67Pumu7WAXLIsHifawIEDYRhGzO8vWrQo6ms+/fTTqM9nBd0FXrfDUnROKso6VaNVG6vX7e26VM91rUzrOm4issare6HbacuO1+Yusoqel58hpcotZZuJjluhan2I03uiy7yA7KdqOivp3mNAJ7JJteArmi7HZ3fahVVuh3Pd+eEYiJKN6Cpdsv4dEDpP3Ma2WD2PLbMgKC2ou9X27gaGdG8xoJOyrAZEtlg35VbI1mVxONU/LPqt+uy34yEiseIuFOfSPHRAzlx0p9V0u6/3ezh3WkUPb0dyNV1mUGdI9z8GdLJM1YXi7HAaYFWuMrvVwu/lhRG/VM/9HmT9fGxE5D7Rbe6mXm83/FsI2qHnyl4MTqn2dgsruYfoENIBuW3vbrW8M6R7g4vEJZHakjIu4CRBsCATZSW1Xg8jgorz60VXz91aud2NcJ4MuIgcEbkhN5iJijLr5+S8YCbKE7zO7rYBd1Zg93v1XIbQOUnWuVj2InJuLCDHhePcxwo6Kc2NNncRgVSlSrqbY9FlWoGK4dzvVfNYkvGYidzED9KxiagMqxqCzY5LxL3PzexL9j3WRVXRw9uTODcdkNv2zkq6/zCgu4Qrufuf1yE9WJCpbMu+19Vz1SR7SE324yfyCzNVwUT/3+3OQ5cRAM1uU7WQLnI8Kq7eHovokA7o2/bOkO4vDOjkKjfmoXtVRQ9tx4ug7kUXAKvn1iVr1Twavg9EanLrfssyxQusiQKobiHd0m3gFBlzEzbmoYfICuk6VtPdmJfOkO4OBnSyxc0KpteVaTvcGrNXFwSs8LJ6rlo4p0h8T4hIZ16HdF+EcwFkhHRA76BOemNATzL8QByb6KArMzyL3ras6rnXt1Wzg+HcXXxviCgum23ublTRE+1HltxgppRwbqa93euLErHICumAO0Fd+DYlhnRW0eVjQCdfstt+LSNQiwzTMkK/Tq3tblTPRWJLuzl8j4j0JX0euiSiQ7pbwVXVgOyYgzb3EJkhHZAb1GVU0xnS9cWA7iIuFFfPTrVU9TZuM0Lh2uqx2H2d2W3LouPCcCL/jzJ0WsP3i4hiklBFN8NqW7jMoG532yKr5zrIDOZpH9SFbo8hXUu8DzrZlt02gOpvDa+HEVNB15Yo2VJj+XVu3NdchQsOdsbg54XhGM69V1tSxvukEwmwv6zc0Yfn2tIK1+ex1paVSw9WjeXmZ6CidH/c55i5P3qT7f4Yiu3eMz3atuwQHc51qt5nBvOkd2Y0PF+JPO+Lvne6zHul8x7pcrCCnoQYHhJTIUDLJDuc67YwHMO5Ovj+EfmTzP/bTqroZsKp3QXWQlVvK8G24WvcCOdKEdDm3pAb1fTwviRU1UVW01lJ1wsDOnnCrTZ3JxVfv4Z03cK5bAzn6uH7SKQXUZW+uOK0uSfiZUhvOAYzXyJYmj+vWmu74JAO6B3URc5Nd+M2bCQGA7rL/DYP3c3brdnFkP4THY9Hh4XhuBiceHw/iZKPk5ZkNyrGOlSlZY1Rp/b2WEJB3Y2wLiOoC9uWhJDOKrpYDOjkGV0Wi9Mx1EZj9zjY2i5+v2QO31si78iYs+r4/7THVXSgPgCrGtQtL2qnWvU8REIVvTEdg7roarpoDOniMKAnqWT74Ot0cTPdQ7qO4dwKhnP/4ntMpAdRbe4yq+iiQrqZfbnJzkUDK8fqSfXchZAOuFdVFx3UhWyHIV1ZDOgeYJu7M16FZR1DupPbs8kI51bI/L1iOCciv1N1ZWXZVXTHc8Utht8pKdIAACAASURBVHQvg7rd/StbOW/MpZAe4kZYT4aQTs4xoJOn3FwoTMQtwnQK6U7GKut2aiq0tjOc64fvNxGJYqYabDXAuh3UnezP6rF5Pvfc5ZAeIjOsi6qmqxrSWUV3jgE9ien8odeNqnC8fasc1J2Oz+p7pFtru477JL7vRF6wOg/dtTZ3h1V0GSE9tF+ZYd3ptrWpnDfmUUgPUTmoi5yXLhJDujMM6B5hm/tP3L7dlqjqsIoh3emYZIVzK1RubWdI9BbffyJ/EPJ/2aWQbjfUigrrorZj5zg8r543dFx7ZYK66LCuQjWd89HVkur1AIjsChZkoqyk1tZrC7q2RMmWGiFjAGB7HKKICMoyw7nure0MhkRE7qotK5e+cFduMBMVZYnP37n5Gago3W97P14vKKd9OG8oFNIdrOgvQsPfTScLG4a392NId/J5IzOY66iLJTM/V8rdG8g6VtCTnMjg4UUVXZUqtldt76L2y3Aubl8kl+4/j7lz5yIYDCI9PR19+/bFmjVr4j7/+++/x6233opOnTohLS0N3bt3x4oVK6I+949//CMCgQBuv/12GUMnDYlYKE5Wm7sKVXTAfBB1Uk33io5jNi1UUfe4qg6IbYF32vauWiWdVXR7GNA95Lc2d93IWAjNjaAe2oeo/chaEA5QY945w7n/6PpzWbp0KSZMmICioiKsX78ehYWFGDx4MHbs2BH1+YcOHcJFF12EsrIyvPDCC/j666+xYMECdO7cuclzP/nkEzz++OM47bTTZB8GkWtEVCZFhnRAn3ncTsbptHruesdAw7DuYWAXHdTtj4MhXXcM6JTUVXRZ4VR0iBa9vRA7x6/TvHO/hPOakrK4X6SH2bNn44YbbsCYMWNwyimnYP78+cjMzMRTTz0V9flPPfUUvvvuO7z00kvo378/gsEgBgwYgMLCwojn/fDDD7jmmmuwYMECHHfccW4cClFcIqvoTheMA+SEdFWDutOxKdvaboXHgV1UUPdTSCdrGNA9xiq6GCqG9JCG4dpM0LbyXCdkh3MVWtvt8iqc2w3gyRjcVbqAYsahQ4ewbt06DBo0KPxYs2bNMGjQIKxevTrqa1555RX069cPt956K7Kzs3HqqadixowZOHr0aMTzbr31Vlx66aUR2yYSSfl5qR6EdECtoC5iLKLCebmJef2uahzYXQrtIhaVc9LyrlJIZxXdGi4SR0rJ79ISpVudL95mlahF46zwav683QsSuoVzuxe/3A5+MoN0w223FLBKLEW3d+/eiH+npaUhLS0t4rFdu3bh6NGjyM7Ojng8OzsbX331VdTtlpSU4J///CeuueYarFixAlu2bMEtt9yCw4cPo6ioCADw3HPPYf369fjkk08EHhH5yf6ycqU/HNeWlCUMIKYWjNu9U0jwMrtwXMRrfgzGThaSs0vUBQJfVM6tiPa7InHhucxgnqMpG5kFQVufT5wuHCdSRjBPyLoYyYABnQCYO0Gald02gOpvDSHbssLJqu6ANyHdbSqFcyv8Fs69qG6H9smg3lRmQRAtM218OK2t/3uTk5MT8XBRURGmTZvmeFx1dXXo0KEDnnjiCaSkpOD000/Htm3b8Kc//QlFRUWorKzE+PHj8fbbbyM9Pd3x/ohEqi2rUO7+zHnBTFPV3VBYtRvUAblhXXTVPunCeSyNQ7vgwB66yGQ3qHsR0nVf2T0jmIvMDOv/X4z97l9sa4gBXQE1W0rQsmuB18NQhpMquoiQDsCXQV21cK7avHM3wrkKbeesqotXWVmJrKys8L8bV88BoF27dkhJSUF1dXXE49XV1ejYsWPU7Xbq1AnNmzdHSkpK+LGTTz4ZVVVV4Zb5HTt2oHfv3uHvHz16FKtWrcKjjz6KgwcPRryWyIna0gpp81LdrKKbDemAvWp6+LWNQrSTwC6zjZ7hPA5Jgd1JUNc9pLOKbg4DOoWpVEX3MqQD/qqmO5ljr0I4t3IiUjGcqxDKY6kpKWNIFyArKysioEfTokULnH766SguLsYVV1wBoL5CXlxcjHHjxkV9Tf/+/fHss8+irq4OzZrVLxmzadMmdOrUCS1atMCFF16I//znPxGvGTNmDE466STcfffdDOfkOdFVdK9COmC9mt5kO4rMVW+I4dyihr9XAsK63aBu957pqoR0SoyLxCmCi8WJ5cW9wVXkVji3IlnCuS4LtekyTj+YMGECFixYgMWLF2Pjxo0YO3YsampqMGbMGADAqFGjMGnSpPDzx44di++++w7jx4/Hpk2b8Nprr2HGjBm49dZbAQDHHnssTj311Iivli1bom3btjj11FM9OUZSkw4VK6F/i00uGmfldmB+CrO5wUxfHY8nBC44Z3cROTtFNRWmnai8JoYqGNApgiq3XAPkzGW2qqBrSy2DutNxWw3nKiwKZ4eMfegaeHUdt06GDx+Ohx56CFOnTkXPnj2xYcMGvPHGG+GF4yoqKrB9+/bw83NycvDmm2/ik08+wWmnnYbbbrsN48ePx8SJE706BEpydipooheoMl1tNFnhtBrSdQ62uo9fWQKCut3V3t0M6VzV3T1scVeIH+ei697qHqJLy7uIiwmywrkVbiwKJyuc645t73KNGzcuZkv7ypUrmzzWr18/fPTRR6a3H20b5K6MnM5eD0FbZqfamWp1B0yv7G6l5R0Q1/buJreDeXlZraWLH74goAXezmrvdual2213Z6u7O1hBpyZ0u79wPCLbtFWuposYm517ruu6KJzo33G/VZ/9dCxEJJbsKrrZv89eVtJDQhVpVavSqo/P1xxU1d2qpHuNVfTYGNAV48e56F63uoueS61SUBc1Fjvvka6LwokM534L5g35+diIyB9khHS7VV+VgrAqYykvq7XUmSBqf9G+PGMzqNtpebca0lVodafo2OJOUYlc0V0EJ63ugNh295CGwdjN9nfRFwcYzu1JlvDKlncif9hfVu5pxcrKiu5SPoOYbHcHrLe8N9Q4GLvRBq9CGI8n9F6aufghK0xb2a6U1vzQ757F1nerLe9W2929bnXnbdeiY0BXEOeiR6diSA+RHdZlVewZzq1LlmDeEEM6ETUk857o4X2Ino8OWA7pgPPAGC08OwntqofxeDytZFsQbZzCQvtx7X0T0kkeBnSKSfQVbBEh3alQIJUV1IGmYdpqYHejfd5u2z/DuZjt6IghnYicEn1f9J+2KyekA86q6bHoHLKTVcPfAcdh3UY1XXZIt4NVdHk4B11RfpyLLoKoFcNl3eM7mtA8cbNfsukczu1gOBeH7wFRfKqv4C7yQ7DdD+YyFoyr366FY7NYwXQyN538R9jcdotz02XOSed8dLUwoCtMhZAuOjyJWMlbx5CuCt3DudX/EyJ+f7lYWiS+F0TkJlVCOsCgTk05DusWF5Gzs8K7+W17F7a5onskBnRKyO8hPRmCupPjlHGfczu8CufUFN8XIgLcqaIDkkO6g6DOsE4NOQ7qJlkJ6W6s7M4qungM6IpToYquKpHB0a8h3ekFCKvvsUrzzp1iCI2P7w8RqcpSSAdshfQQBnVqzHZQt1BNlxnSvcIq+k8Y0DWgQkhXsYoOiA/pfgrqToO5zuHc6e8rwycRWaX6/PMQ0YsxqVhFr9++jZAuIKgzrFOIo6BugqyQziq697iKO3lG1KruTm+/1pjM27G5welFBjsXPfwSzhnMreHK7kTkhNVV3a3eXcbS6u4hFld5j6ZhSNfl1mJ+ZeeWdqJX2bdyH/gwk7djs7K6u5WV3XnrNW+xgq4JP1bRATUr6YCe1XQRY2Y4J6v4vhHpUz2XRcStlkzvS3YlHXBcTW+oYWWdFXa5Kspqm3x5uZ3GLFfUJVTSZRJRRWebez1W0DVSs6UELbsWeDoG0fdGB9StpAPu3DfdKVEXElQK53YwnHuHlXQissvOvdFdqaQDP4V0hxX1xuKFdFEVd9EXAlTsBBAVnO3sy0mVvbys1vzPR3AlnVV0PTCgk6/ICOlAZAhWIayLrO7b7T7wy+3UGM6JKNnsLysXXqmqLa2wXUFzK6QDNquNAtrezVK1wh4al9dB3c1QHk/DcdgJ67qEdKsy83Mdd9RkBPOEr5WhG7a4a4at7onJvi2YV+3vof0ynDvbfsS+FAnntVtLw1+6UuW9JHJbsre3i2KnUmfn77+tlnfgp7Z3Qa3vuvLqAoLIVnPR7I7NUsu7R+3uXt4bPZmxgq4htronFgqeMqrpIY2DsozKuswLAQzn9l9rh9nwHe95mV3yRQ1HCra6EyU3J1V02/u08XnEdst7iKTWd2pK1VAejd2quulquslKuhk6VNGTGQO6phjSzZHV8h5NrDCdKLi7XY13I5gDDOeA+VBud3uqB3Yiv2P1XCw7re6A/ZAOOKw4MqhLpVM4b6yirNazkC661Z1z0d3HFneNqdDuLoPIdndAfst7Ig1b06N9uYnhXH44d7NdXcW2eLa6U7JgOI/OaeXMbhCwe16w3fLeENvfhVK5nd0Kq8chst3d61Z33hfdGVbQyREZVXRATiUdkNvyrjInFylEXzBpzC/h3MugHNq3KhV1troTqU/GQnGiuFlJr9+fgGp6SMOQ7tPKel4wU9picTKDeUXpfsuvyc3PcL7fH4/JTEXd7Uq6zFZ3ss9SBf3gwYMYN24cunXrhh49euDaa68FAGzevBlnn302unfvjjPOOANffPGFlMFSUypU0WX9x5YRDL2upnvB7XAu817ndn/XakrKpIVzlarYqoyD9MPzuzWsnsfn5n3Rm+zbwd/62rJyMRX1kIaVdVbX45JRNa8o3R/x5dU2wtsyeXyiF44ThVV091iqoE+cOBGBQACbNm1CIBBAVVUVAOCmm27CjTfeiNGjR+OFF17A6NGj8cknn0gZMDXl1/nogPhKOpA81XSnFyNUC+d2yQzmKlKlms4qul54fjeP4dwddqvogPPPJI4XkYulcUj3aYXdKpHB3GmItrJ9O9V1s3PTLd2GLQ5W0fVkuoJeU1ODJ598Evfffz8CgfoP7h07dsSOHTuwdu3a8NX2YcOGobKyElu2bJEzYoqKlXTr8ru09GVFXcRxqRjO7fx+yQjnKlXM49FhjKQGnt9JBhFVdCcLU9WWlKlVTY+GFXYh4VxUhdut/ZrtFjBVSRc0H11GkY3sMx3Qt27dijZt2mDGjBno06cPzj33XBQXF6OyshKdOnVCamp9MT4QCCA3NxcVFVztz20M6fb4JaSLuuAgO5zboUI41yWYN+T1eLlgnB54fjeP1XNrvA7pgPPzkytBPaRxYPd5aHcazr0I5bHYDeqJiArporDN3R2mA/qRI0dQXl6OU045BWvXrsXDDz+M4cOH48iRIzLHRxYxpNujczVdZDB3I5y7uSicKF4HXSd0vLBA7uL53RyGc+94HdLrx+BiUG8oyUK7WaoE88asBnW3Qjqr6HoxHdBzc3PRrFkzXHPNNQCAXr16IT8/H+Xl5di+fXv4RG4YBioqKpCbyysmXmFIty8UdnUI6yLHafd9VTWci6zc+iXcenUcrKKrj+f3xPwazve7EDhFLRinQkivH4dHQb0hHwR2u9Vzlarm8XgS0l3CKnpsc+fORTAYRHp6Ovr27Ys1a9bEff6cOXNw4oknIiMjAzk5Objjjjtw4MAB8wG9Xbt2uPDCC/Hmm28CAEpLS1FaWor+/fujd+/eWLJkCQBg2bJlOOGEE9C1a1cHh0dOqRDSZbFb6bVKxaAu4wICw3mM/fuw8uy34yExeH6Pz6/hXEciQrrooO55WAe0C+tOwrlOrFxMEBLSWUX31NKlSzFhwgQUFRVh/fr1KCwsxODBg7Fjx46oz3/22WcxceJEFBUVYePGjXjyySexdOlS3HPPPdZWcZ8/fz5+85vf4O6770azZs3w+OOPo3Pnznj88ccxevRozJgxA1lZWVi4cKGQAyVnvF7dXdbK7iEyVniPpmEY9mLld1kXCZxc5EiGcE7icEV39fH8Hh3DuRi1pRXCqmhOVncPb0Pw5xOh91F3SvH7sHsdzu1Uop2upl5Rut/Uiu9mV3hXQWYw1/EFM7+ZPXs2brjhBowZMwZA/Xn1tddew1NPPYWJEyc2ef6HH36I/v374+qrrwYABINBjBgxAh9//LG1gF5QUIB33323yeMnnngiVq9ebedYSDKGdLEah2UZgd2Nqj3DeZz9+zyc124t9fwWbKQent+bYjgXS8WQDoitGDaspisV1hUM6maJCOZO28Mbv95OYBcV0hPefu249nE7Kczcdk2GzPxcYdNd3LR3796If6elpSEtLa3J8w4dOoR169Zh0qRJ4ceaNWuGQYMGxTyHnn322ViyZAnWrFmDM888EyUlJVixYgVGjhxpLaCTnpIhpANwNaiHxAvT8cK7l63zbrW0A3qFc78H84YY0oniYzhXn4iQDsj7jKJUWN+9U4mQbrV67iScy5yz3XDbVsJ66HgSBXWvQzrvi/6TnJyciH8XFRVh2rRpTZ63a9cuHD16FNnZ2RGPZ2dn46uvvoq67auvvhq7du3COeecA8MwcOTIEdx8883WW9xJXyqEdEDu3Ba3q+mJqDZ/3c2qOeDeOggM5/a4HdJVbnPPCOYh8xjr/1/rfnB/ygvJx3Auj8gqOiA2pAPyPqMo0QIvMKS7sWCZ3XDu9mJqof1ZDerSQ7oLdGhzz8zNRWZL6++TUVP/c62srERWVlb48WjVc7tWrlyJGTNmYN68eejbty+2bNmC8ePH47777mNATyZeh3TA39V0lekQzr2613kyhvMQVtKJIjGcy6dqSAfcC+qAR2Hdw0q603uem+HlSudWg7rZlnfbElTRE5FRRdexzT0rKysioMfSrl07pKSkoLq6OuLx6upqdOzYMeprpkyZgpEjR+L6668HAPTo0QM1NTW48cYbza/iTv6gwurubrTNuLHKuw6crnjPcE4i8ZZrpDKGc32JruKJXO095j68WgVeg5XerVbPy8tqlbkNmZVxJDrORBc1nByz59MufKZFixY4/fTTUVxcHH6srq4OxcXF6NevX9TX1NbWolmzyCiekpICwMJ90Mk/araUeB7U3QrpyRrURRw7w3ly4PtAxHDuNhlVtNqyCi2DOuBBWHc5pFupntsJ56qxcsHAaUiPy2G3hJlOElHdK34wYcIELFiwAIsXL8bGjRsxduxY1NTUhFd1HzVqVMQickOHDsVjjz2G5557DqWlpXj77bcxZcoUDB06lC3uyczrlnfZ7e4hydT2LuqCBMN5cmGrOyUzhnNviG51D29XYMt7eJsufV4BFJmv7hE/hPOGzM4TT9TuHm8+upO56F6t6O5Xw4cPx86dOzF16lRUVVWhZ8+eeOONN8ILx1VUVERUzCdPnoxAIIDJkydj27ZtaN++PYYOHYr777+fAT3ZJUtIB/wf1L0M5yrvp8l+Gc49pfJicZRcGMz9S1ZID3Hjc4v0+eouzUeXNfdcVDhPND6n9yX3fDE3h3PRRdNxHroV48aNw7hx46J+b+XKlRH/Tk1NRVFREYqKipo8ly3ulBTt7g35rfVd5PHYvs2ZJrdTYziPje8NJROG83oZHldpZX5Ql7m6tFut7+H9yWp/Vyi4ma2eO51vXlFWG/El+vnRmBmvk1Z3mXPR2ebuDQZ0AqBGSGdQNy80dpHB3K1wbhfDORGJwHCuFtkhnUFdfU7ud256Hw4CtojtiAjptnm0cj/Zx4BOYcmyeFxjOgV1GWN18p7rMu+c4dwct94nruZOXmE4V5PsllfZ92r2IqjrQHR7u51KsahgLmK7TkO6rCo6qYcBnZpIxpAOiK9KiyJzXAznRJQMMnI6M5wnOdnVdMDdoC4spHvc5m6ltd3SdiUFc6f7UTFIu93mLmNxSL9hQKeoVAjpXgV1wPuw7sb+Gc7dEfpdbvylKhXeMyKRGMyj83r+eWNuLRwlO6QD7t+eze/shHO3iQzpUqrobHPXCldxp5i8XuEdcHeV91iihWTRK8G7eSHA6YcGt8K5U14ETSvH2fi5Xv+eE/kRw7leZN16rcl+JKzyHnU/P/6dl/33vbasXMvbssmYc+1FOG+4b6ervhMBDOiUQCiMeX0rNkCtAGMmUIdCvEot8zqFcyfVczfDuaiLDyr9nrtxX3Tebo1kYziPTbXqeUNuhnTAnRWo3fj77iikS7jlmqigbKV67mU4bzyGREE90e3X4t0bXcZ90XlPdLWwxZ1M8brlHfBubrpdqs1n9yKc296XBuFcVguj6i3wRKrjfPP4VA7nXnBjbnp4X5L/vvstYJkN527NN7fCzHhcn4/u4CIM56G7iwGdTFNllXeGF2tEvGd2f+5ezDuXzbW5hYq/D0QqYjCPT5dw7tZ89Ih9uhTSAX6WAdy5tZru7M5FJ/0xoJNlXod0gOHFLBHvk5vh3CnZ1XO3j8nLD3FcLI50w3Aeny7hPMSrkK57UPdLFd1K9dzxvkr3x/xywqsquoorxZM1DOhkiyohnUE9OlHvjdvhXNXWdq9/1/h7ThQfw3l8uoXzEC9COuBNUBe6PTshXeDt1tyq7jrZj9kQ7jSsOw3pwjsN4rS567jQoF8xoJNtKrS8A96HJ5WIfC8Yzn/ctiK/W6qMQyTVpzOQ+jjfPDFdw3mIVyEdYNu7LIlCp5kKsN1w7iRs232trAsWbre5q7CIbbJgQCfHVAjpQHKd3KIReewM5z9uW7HfJ9db7NnmTgpjME9M93CuAl2r6X5pdRdFRMt6w22JJrqK7lWbuxt3RUgGDOgkhCrVdCD5grro41Xl5+i1ZPodItINw3l8GcE8X4VzL6vo4TG4vNo7xWa1ciwlUFsM/FzUrSmu5B4bAzoJpVK483tQl3F8Tn5+fqqeq/x7o/LYiNzAcB6fn4J5QyqEdMC9oC7ib72OVXTRlV8Z4dzN7SdiK/gLvuc9iceATsKpVE0H/BfUZR0Pw/mP29Xgd0WHMRLJwHAem9+q5tGoEtIBd+anu/63XuBCcbE4XfTMSiB1Kzyb3U+isbu6WFwMXChODQzoJI2qQV3XcCNz7LqFc1l0/d2QifPQSRUM59ElQzBvSLWQLjuoOz0v6VhFF8HrynYsbra683Zr+mJAJ+lUCukhOgV12WP1Ipw7JSM06vL7EKLbeGNR8UINqYUrtUeXbMG8IZVCOiA/qPvl730iOgdKVS8IiMaV3N2R6vUAKDmEQmDLrgUejyRSw5OeSn903DgZe3nhRLXW9mT58EOkGwbzSMkayKOpLa1QbpGp2rIKaatY15aUKfU5JRaZFWKz2/YqLJeX7kdefoazbZTVIi+Yaek1FWW1yLX4GlIbK+jkKhWr6SENW+Bdv52Vy/sW8XPwS2u7zuFc57ETJcJw/pNkrpbHo1olHZBbTbf7Nz9Z29xVZfcihlvz0Ml7rKCT61StpjcW7UQo6uq1l8HKy3DueL+Cq+cMuERqYjivx1CemIqVdEBeNV2XSrpXvG41F1FFd8Vx7aUtCpgZzHXtloR+xYBOntElqDeke6DzOpyr1tpOROpJ9nDOUG5dsoV0O2rLyj1fodtJBZj3EXdPZjCPXRceY4s7eU611d79SudwLoPuF1tC3DgOXhwhtyRzOGcbuzMqtrsDclrepf7dd+FWa37ntIqv82J5Vql4YU0FDOikDIZ0eXR/b9naTuR/yRrOGczFUTWkA+7cN11nIkKp1+3tVrjVEZBMYd9PGNBJKaymiyXy/fRT9ZzIK3PnzkUwGER6ejr69u2LNWvWmHrdc8899//bu/voqOo7f+DvJJgnNKBSEsCEAYtrOVGwIA+6LfY0Fs/aVs5uLdta4eS00FKz1WbbVbsuYLWgLcvBtZxmZQu1tVZqtR5OtbQai7YrLQql1a5QnoakSAK0VjQBkib390d+M2SSebgP3+f7fp2To0xm7r0zcyd33vfz+X4vioqKsGDBgozb33nnHTQ1NeGiiy5CRUUFpk6dipaWFhmbLlXcwnkqlDOYi9d9qM3YoC4ypPNEMw3GIQBuYUAnIzGoRyfy9dP5RYDVc3LF5s2b0dzcjBUrVmDXrl2YNm0a5s+fj2PHjuV9XDKZxJe+9CW8733vG/a75uZmbN26FY888ghef/113HbbbWhqasKWLVtkPQ3h4hTOGcrVYUjPtm6OKyayAQM6GY1BPRyTwrlJ1XNXw7mrz8s1a9euxZIlS9DY2JiudFdWVmLjxo05H9PX14ebbroJd999NyZPHj6h5ksvvYTFixfjmmuuQSKRwNKlSzFt2jTflXnd4hLOGcz1iENIJzPJarfnpdbigQGdrMCg7p9L4ZyTk5ENTp48mfFz5syZYffp6enBzp070dDQkL6tuLgYDQ0N2L59e85lf/WrX8XYsWPx6U9/Ouvvr7rqKmzZsgVHjhyB53n4xS9+gT/+8Y/40Ic+FP2JSRaHcM5grp/rIZ0naAfYNP6cqBBeZk0TEX9Q43gdTBsvzaYKT2Dkxy8xlMvxv3joOuMFflx318BjamtrM25fsWIFVq5cmXHbiRMn0NfXh+rq6ozbq6ursWfPnqzL/9WvfoVvf/vb2L17d85tePDBB7F06VJcdNFFGDFiBIqLi7Fhwwa8//3vD/x8VHI9nDOUm4WXYRu8Th+XW3vz+MB1skOoS1RyPDSZY/SFwLnnBn/cOe+I35YAGNAlkxkK8i3b9fDOoJ5JRjhn9ZzIn/b2dlRVVaX/XVZWFnmZb7/9Nm6++WZs2LABY8aMyXm/Bx98EL/+9a+xZcsWTJw4ES+++CJuueUWjB8/PqNabxKXwzmDublSlXTTgrqIkN59MOn89z6iOGFAF8yUKl227XDxj3fcg7qsqrkp+zGRDaqqqjICejZjxoxBSUkJOjs7M27v7OxETU3NsPsfOHAAyWQSH/nIR9K39ff3AwBGjBiBvXv3Yvz48fjKV76CH//4x7j++usBAJdffjl2796NNWvWGBnQXQ3nDOb2MLGarqOSLtxzuQAAIABJREFUHsXERCUv30UkEQO6ALaEmaHb6VJgj2NQNzmcm1Y9t+UzSu4qLS3FjBkz0Nramr5UWn9/P1pbW9HU1DTs/pdeeileffXVjNvuuusuvP3223jggQdQW1uL06dPo7e3F8XFmdPJlJSUpMO8SVwM5wzmdjIxpMdB3aQKTnJG5AMDegS2f+kfvP2uhPXBodXVsM6x5kR2am5uxuLFizFz5kzMmjUL69atQ1dXFxobGwEAixYtwoQJE7B69WqUl5ejvr4+4/GjR48GgPTtpaWlmDdvHr785S+joqICEydOxAsvvIDvfve7WLt2rdonV4Br4ZzB3H6mhfSoVfQgbe6+xqFbZuKkCk4UR85gQA/I9lCei8th3ZWgriKYs3pOJM/ChQtx/PhxLF++HB0dHZg+fTq2bt2anjiura1tWDW8kMceewx33nknbrrpJvzlL3/BxIkT8bWvfQ2f+9znZDyFUFwK5wzmbjFtXLpRre4RJooLg23zRGcxoPsUpy/5roV126vqqirmJoRzItc1NTVlbWkHgG3btuV97He+851ht9XU1GDTpk0CtkwOhnOygUnV9CghnZPFmWPipAopy62TtFwyCwN6AXEK5tkwrOujspU97vs5EVEuDObxYFJIJwqqLlGpexNIIAb0HBhYhmNYV0P1GHNR+7qI6jkvrUbkDheq5wzn8WJKy7uKVveo49DztaTzWuhE0TCgZ8FwXljqNXIhqAP6wzonfpODn2UiPWwP564Fc5WBMxVybWZzNd3VNnc/od+mieJUVbwnGl5Zd+HvhQwM6IPwy3xwrlXVgexhWXRoNyWQm1Q9JyI3MJzrYUqgzLUdtn0R1x3SjZgwTsJEcXG41FrU8ee6Q3V38rDW9RMDOgAGc1Fcq6oPlitQFwrupgTxbEzb79neTmS/8gnjdG9CaDYFc1PCeBDZttn00K675V12SDftcmsiZnK3qYpOlEvsA7ppIcUFLlbVczE5gOfD/d4trn/OiGQzPZzbGMj9GPq8TA3suqvpQalqc1d9aTQbxrbLmr0dEDyD+5vHxS1riO6kmZ9jm8Q6oDOkyOdyVd1Wovd7tre7r/LiSbo3gUgKU4O5TWFQpMHP27SwriukG9HqHoLOMG16FZ0zrlMhxbo3QIfug0mGc8X4mpNq3N+IKB/TwnnlpLr0D5n5eph20iAfYcdACZXWfJVg3eOvoxBRPQ/z/FUGfn63UiN2AZ07ll6poM73QQ9Tq+ccf05EKpkUzk0LoSYy6TXSEdJltgzbNiGY3zAqs9U8yvpUhmmbT3bEXawCOkOhWRjU1eJrTURkRjg3sTpsA1NeM5sq6bKZHAJVhXQV6xE6/pyMF5uAznBiLgZ1+fj6usv2+R1GWr79ZI+KxETt4dyUgGk7E15H1SE9TBVdd5t7vmpxlDb3IFVo1ZX0fAptt7KTHXneT9s6Klzl/CRxDCb24IRycsj6DHByOCKyhc5grjtIuiz12uqqaNs2u3supl1uTTRZk8aZEP454ZybnK6gM5zbiRV1InNwBneyna5wbkKVNy50vs4qTw6YevkqGZVfkVV0QHyYDrq8KNXzMO3tuoYeBNlHOVQkN2cDOgOe/TihXHQ2VM85QVx47DYhyk9HOGcw14Ove3a6v0OFbXOPuuxsJk6qEDPTugGVcx1070tx4mRA5w7kHgb14OL+ejG8EsWb6nDOgGgGLdcqd6ASWHDssYTLrRUiqwocJqinHhMmnMsaex6qvV3D+0jBOTcGPe6hxHUcp+4PPwfu42eAKDeV4Zyh3Dw6xqarGo/enWxDZSLYeroPJqUfMyYmKnE42Z31d3WJSrTl+t2kCrRFGB+eb9mFZAvbqbHqoqrkUceIq2xv5wRx5nAqoDOUxAeDem6yPwecHC4+ZI8/5wzuJAPDeaZCYc7Ucc0iVE6qczKka/PmceD8dyldZb7gnxIlpA9bn8D2dT/hXGn1nKzhTEBnOI8nBvVM/BzEA/d3ouHiGMyDVlLDLsPmEK86pKsQporub7nyZnOPUkVXHdJFEBGgbbv2OSeIE8eJgM5QQgzq/BwQUXzFIZzLCGRh121bYFcZ0k2toutuc1fBlJDuN5wrn/0+wvXP+R1TLesnieMOQ4NxMjkazMUTNi4+JyIb6JgErjJRl/4xyeDtMm3bclH53qk4GSDrJInMyeKizOjuN8zqbv0WFc7zvR66nyPJZ3VAZxCjXOIW1FU9V44/jw9e/5xsoaJ6rirc2Rh8AXu227WQHpSK7wpRqsIiQ7qOEKsinFM8WNviHqfwReEN3k9crTzysxAfLu3DnCCORJAdzlUEOpMDbVip52RiK7yOGd5lkTUWvaAIk8VFbUMP0kavquVd5cmAfOvS2d5u4mfdZlZX0ImCcLGq7trzkcGVUKvyebB6TjawPZybXm0WweSqupJLoll6EiDq5bZkVtGDLl9mNT3Mslk9t/dzoZKVAZ2hhKJwIai78ByIiMKyOZybGlhlM/F5mziZm2zCvjtIGosOiA/pqXWKCuphlxU1nMuonpNY69evRyKRQHl5OWbPno0dO3bkvf9f//pX3HLLLRg3bhzKyspwySWX4JlnnrGvxZ2h5CxZ44Hj0npq68zvuj4DNo8/r5ycsPpvh237aCFx+RtDcsgM57ICm2nBVCeT299lkD2ru6mXXFMxo3uYdQwNuX5b4KOG+6gztsvqAuDs7eJs3rwZzc3NaGlpwezZs7Fu3TrMnz8fe/fuxdixY4fdv6enB9deey3Gjh2LH/3oR5gwYQIOHz6M0aNH2xXQ476TqApIudbj6pdqm8apx/0zEIWtIV31Psn2djKZbeGcwTw3U4K6ikuwmXbpNWGXXJM4Fr3QtdFTop4IkD1+3PfEdhFa23VXz3V/hk2xdu1aLFmyBI2NjQCAlpYWPP3009i4cSPuuOOOYfffuHEj/vKXv+Cll17COeecAwBIJBIALGpxt/GLdVRdB5MZP7qZtj0ymNw6bup2kTymnzAiUonh3E0mvE4mhecwtF1yrYCCLd2CxmPLuJ64CKLCuUuXVXN1/HlPTw927tyJhoaG9G3FxcVoaGjA9u3bsz5my5YtmDt3Lm655RZUV1ejvr4eq1atQl9fn10V9DiwKfgO3lbXqusmVdUZzMWxqYquY79j9ZxMZVM41xU4o/7N0Pm30YRquuxKelyr6JEr3Ioq6aKpCudRqudsby/s5MmTGf8uKytDWVnZsPudOHECfX19qK6uzri9uroae/bsybrsgwcP4vnnn8dNN92EZ555Bvv378fnP/959Pb22hHQ47CD2BTMs2FYl79uV1VePAndBw6pW58FIV33SSGZTPz7kDzUhYoQ3YWnTnWJ3xhSSmRgUhXMZf19yLVclX8vdQd1Fe3uspg6Fr0QP5dCCxLSAWgN6oFmmI84Y7sJnQOmt7e3tZ1CZWXwhvHu7oH9rba2NuP2FStWYOXKlSI2Df39/Rg7diweeughlJSUYMaMGThy5Ai+8Y1vmB/QTf8iHYXtoTwXhnVx6yA5TA7pusI5q+dkKlnVc1vCue4TdkPXr+JvZ2WizsmQzip6diJDemp9gNqgHnhWeR/hPFJru4HVcxtPfrW3t6Oqqir972zVcwAYM2YMSkpK0NnZmXF7Z2cnampqsj5m3LhxOOecc1BSUpK+7T3veQ86OjrMHoNu6hfoqFwewz2Uy2PWU+PVRY1bN3n8u4vvn+4vvUNVTk4Yt01EupkezmVdOiz198DEvwmqtk3n2HSTQnQQpo5FB6KPRweCV5wnJiqlV5nDrENEODeheh4HVVVVGT+5AnppaSlmzJiB1tbW9G39/f1obW3F3Llzsz7m6quvxv79+9Hf35++7Y9//CPGjRtnfgXdJS6GnCBSz9+1qnpKrnCto/pA/phSSdf9JVxV9dzVzz7JISOcm1w11/13IIzB2yzjb6nulncZ4lpF90N0JT1lcJgVVVUPG5CVhPOI1XO/XPpcitDc3IzFixdj5syZmDVrFtatW4eurq70rO6LFi3ChAkTsHr1agDAsmXL8M1vfhO33nor/uVf/gX79u3DqlWr8IUvfMHcgG7Cl2aR4h7OB3M9qA/l2r7sGp0h3cYv5ERxx2CeXep5yArqqsOAra3uWseiC5gwzm9IBxA4qKe2YTC/gV1ExVp6W7sgbG8PZ+HChTh+/DiWL1+Ojo4OTJ8+HVu3bk1PHNfW1obi4rPN67W1tfjZz36GL37xi7j88ssxYcIE3Hrrrbj99tvNDOguBRoG89ziFtQpN9UTxQ1bv8QvlvnWZwJWz8lEplbPRQUfk/4GiCbr76lrId0kwqroPogK6UC4anq27ZHNb2u+n3DO6rnZmpqa0NTUlPV327ZtG3bb3Llz8etf/3rY7UaPQbcdw7k/ro5RJ/vIHldp6phSIpO4HM7j9DdAxnOVNeY/7zplVbplXtJN51j0AgER8BeK/VaSo86ELptJ4dwPl4qkNjOugu7CjsGwGQ4r6mQKkeMqTf4yzpnbyTQmhnNRwTyuZFTUdc7yLpJJ49H9VtFFtLr7FaSSDoRreZclyIkDIeHcB1HV88DrjUEXimjGBXTbMZxHx6AeT7rb3HPJ9oXF74SAJlMZzvlZJl3iEM5FXaNa9pd30UFdZUi3sdVd1lh0Ufy0ugP+QzpgRlAPWtEXNuZcQGu738+mCyfHTGdUQLe5es5gLh6DOpnKpiBOZAvR1XPd4VzG3wlRYdzvsmWEdpFB3YWQbtKEcaqr6DJCOqAnqIdptfcbzlW0tpNZjAnoDOeUC4N6fJhaRXcNq+dkGpfCufhx1/JCedB1iwzsoq6g4Uq7uylcCelAZmiWEdajjH8XFs590Fk9t63zxBTGBHRbMZyr03UwyS/7RBFx3Dm5zoVwrjOU55PaLlFBXVQ1XVVIj0MVXTjBIR1A4KAODA/TYQK7iAnpgrS0+wrnimZtJ7WMCOi2Vs8ZztVjNd19rKK7g59T8kPGxHBhhQ0yIoK5qaE8m8HbKiIAiKimM6SLI7SKDggN6UC4avqwZWiY/V11OPeL1XPz8DJrITGc68VLsxEFx+o5uS5KwNEVzisTE60K50OJ2n4xJznMCLimkXniwvcJGkGXX0upS1SKm2BNsqDbKiqci2xtJ7UCB/RNmzahqKgITz31FADg2LFjuO666zBlyhTU19fjxRdfDLQ8G3cMBkNz8L1QQ3UllEFSPNWvKavndhJ9jC9EZPXctnBuezAfSsTzsSWkx+Ha6EG+n4tso56YqHQmqIcJ5irDeRCsnqsVKKAnk0ls2LABc+bMSd92xx13YM6cOdi3bx82bdqET37yk+jt7RW+oaZgIDQP3xOi/HjCg/xQfYyPazh3LZgPFfX5VU5OxPpKGSYFG+FFtAAt2UEnRzMpqIfZFt/PV+CM7TYWSePCd0Dv7+/HZz7zGTz44IMoKytL3/7DH/4Qn/vc5wAAV155JcaPH48XXnjB1zJt2zEYBM3Flnf3MFSKoeN1ZPXcPjKO8TYIE87DBkhpwfz8d4n5EUxEUA+/bnur6DKFaXX3Pz5ZXKt7SpgZzFPhWEdYD7te0eFcdGu7jur5qZhPbuc7oK9duxZXX301ZsyYkb7tz3/+M3p7e1FTU5O+LZFIoK2t8BvDcE4y8H1yC0N6NHz9yC/Rx/hCTKiehw3n4dYl6PnKDNaSlutySJfFpCp6ELJCethLjakI6lFOCAR6bgLDeRC8hKEevmZxf+211/DEE08IH3tmC4Y+u3Cmd7dwVvdwdIVzfu7sY/Mx3vRwLiSYS6huh1pvhNbaKJdnizLDu+yZ3WXN6A7Im9U9zGXX/M7qPrD8ADO7A7737yCzvA+VLTyHulSbwLAf6KSD4HAus0jK6rkYvgL6L3/5SySTSUyZMgUA0NHRgaVLl+Luu+/GiBEj0NHRkT7DnkwmUVeX/4PfnWxDZWlpxE1Xg+HcXrxuOsUVK+cUhOhjfCGiqucqW4yVh3NdoTyf1DZFDOquhXSZnA/pgK9LsKWkQm3YoD6YrvHqgbsBNIZzWz83LvDV4r5s2TIcPXoUyWQSyWQSc+bMwUMPPYRly5bhxhtvREtLCwDg5ZdfxpEjRzBv3jypG60Kw7n9+B6Ko/NkBwOnfzpfK54Qs1PcjvFBg0nQcB5p7LWk8eBCRWyDD/v6mDpxnOwTRdIq9BLHow8sP8CJmIAnfaK0vesSaps1tbWHZevQDBP5qqDnc//99+Pmm2/GlClTUFpaikceeQTnnHOOiG3TyvZgJ7ol2OaAxEq6G9jqXpjNn1Myk+hjvO7quYpwHorpoTyXCFX1MNX0sJV0m6voNpNVSU8RWVGXJfSJBAnh3IbqOdvbB4QK6Nu2bUv/f3V1NX7+85+L2h4j2BjOZQeXocu3LQhwXLobGNJz0/2Z5GfLHa4e440M57YG86FCBnWGdH9sbXUfWEfAkA44EdRlB3PArHDO6rlYkSvopI/OoDJ43bqDQRCspkczcnJC+wkshvThdH8G+ZkiP3RWz40L5xKCeZhwIrxN+Px3xTKky5wsLiU2IR0IVU0HMvdnHWE98ufJgHCuE6vnZzGgD6E7fPhhWjixLawzpNuPIf0sGz5zRKKomBjOhnAuKnxkW07kkBGimh528ri4iV1IB0J/XlSFdSEnuQKe1JIZzlk9NwMD+iAmh3NbwogtYZ0h3X6p/cuWz4Zopny++DkiP0Re9zyoIMFDajiPGMxVVQQHrydS+AhYTQ8a0uNYRQfkhfQwpId0IHQ1fbBs+7ERHSeA9eFcFFbPMzGg/3+mhnObw0dq200JEkMxpIdjQpv7YHGsppvymeLnh1RS0druf7lqqua6x9RGDusBq+mqQjoNF6aKDigM6YDQoSHaZ4EPMbGizC6TsOGc1XM5fF1mjfRwJXR0Hzhk7HMxKWhSeKYEVtkqL54Um+dK7tBZPQ/Cb8gIXDUPESoOJ7u1h/OhIm1TgNcgaHgLd416MyrQYZl06TUgTKX2cLiw+ebxUMHWKCGfQ9DXS8WJK1H7IavnwzGgw7yQZnKgjcLU52Ta+28DEyunLodXE5+bifsAuUt29VzKNbYdCeZDhd7GGIR0la3ntof0gXWFDGY2BvUIwVx2OLf16gYui31ANy2cmRpiRTH15INp+wGFZ2KYjcLE58JwTn7pqp7LCue+g2PAcG5DMB8q1DYH6CgIfU35GIl1SAfsCOoRtjHMa6MqnLN6LlfsA7opTA2uspj4fBnSgzE9pJkYbIMw9USD6e+76davX49EIoHy8nLMnj0bO3bsyHnfJ598EjNnzsTo0aMxcuRITJ8+Hd/73vfSv+/t7cXtt9+Oyy67DCNHjsT48eOxaNEivPHGGyqeijKmTIglI5yLDuZtyW7fP6KEDuo+BAnpplTRVXMlpAsJ6qaEdQHbE4dwTrnFepI4UwKZaUFVpe4Dh4wKIZw4zi22zfRu0meBxNu8eTOam5vR0tKC2bNnY926dZg/fz727t2LsWPHDrv/BRdcgH//93/HpZdeitLSUvzkJz9BY2Mjxo4di/nz56O7uxu7du3Cf/zHf2DatGl48803ceutt+KjH/0oXnnlFQ3P0AwyqueywnkUUUN2tsfXRZg463CyO9jEWz5neQ8ycVxcJ40z6fJrQPCJ486uL8QEckMN3acETizne50RqAjmA+vRH7JZPc8t1gHdBLYEB5kY0u1l2ozuuQzev0z8zJm0/+fDz0U0a9euxZIlS9DY2AgAaGlpwdNPP42NGzfijjvuGHb/a665JuPft956Kx5++GH86le/wvz58zFq1Cg8++yzGff55je/iVmzZqGtrQ11dXqrgyLa22VWz3WF8yjBXGTlu9Dyw4T11HPzHdQlhPSgRF92TdXl1oYyMaQDwTsbUu+zsCEOMgK7hEp92P1b9QkpVs/ViG1ANyFUmBgUdDHtkmwM6f7ZEtJTTAnrpuzrfvHzkNvJkycz/l1WVoaysrKM23p6erBz507ceeed6duKi4vR0NCA7du3F1yH53l4/vnnsXfvXtx///057/fWW2+hqKgIo0ePDvgs3CC6ZdmEcC47lPtZb9CwHqiaLjikx7WKDpgX0oFo1XRAwlwEprTBD6I6nJvQ2s7qeX6xHIOuO0yYOP7aFHxd7GRreEuN81YRlgevi+HcLbW1tRg1alT6Z/Xq1cPuc+LECfT19aG6ujrj9urqanR0dORc9ltvvYVzzz0XpaWluP766/Hggw/i2muvzXrf06dP4/bbb8cnPvEJVFVVRXtSEblSPfdFUjgXPVY8ijDbEuj5Cm5DDvr+ujAWPcW0MelAtCpv5PHpBovy3BjO3RbbCrouDKCFmdLyzip6vOTa54J+Zk3Yd0WKw2egLXkKZWVFgR935swpAEB7e3tGIB5aPY/ivPPOw+7du/HOO++gtbUVzc3NmDx58rD2997eXnz84x+H53n41re+JWz9NvEbsoS2tksI56aE8mxS2+a3oh645b0Ama3uLnGpkn523ZIq6hpE3YdVh3Ob/antFMrLgx/fT58+JWFr/ItdQNdZPWc4948h3T62tbr7ZcJ+qAv3fX+qqqoKVqzHjBmDkpISdHZ2Ztze2dmJmpqanI8rLi7Gu9/9bgDA9OnT8frrr2P16tUZAT0Vzg8fPoznn39ee/VchKDhQktru49wHqZqboMwQb1gSNfc6i5yLLquceiDmRrSgWgdLLYGdREnlqJ1IkTogGD1XLlYtrjrwHAenCmvmYuhUxYGOnfwvRSrtLQUM2bMQGtra/q2/v5+tLa2Yu7cub6X09/fjzNnzqT/nQrn+/btw3PPPYcLL7xQ6HaHoeva5374CQY6wrmodva2Q6d8/4gQZJt9vR4qZtyOERPb3QExE5ul2sNN76gQtY0uhHPyL1YVdAYt+5hSSSf/XK2kxwnDuRzNzc1YvHgxZs6ciVmzZmHdunXo6upKz+q+aNEiTJgwIT2GffXq1Zg5cyYuvvhinDlzBs888wy+973vpVvYe3t78bGPfQy7du3CT37yE/T19aXHs19wwQUoLS3V80Qj0l09L0hCOA8rStAe+ti6SRXhlpPsVl5Jt6GKbopUwBJdTY9SSQfEVNPPbsvZfcGEyrrIkwZRT2aYFM5ZPfcvVgFdF1MqwbYyIaSz1T0YhnR7cT+XZ+HChTh+/DiWL1+Ojo4OTJ8+HVu3bk1PHNfW1obi4rONbV1dXfj85z+PP/3pT6ioqMCll16KRx55BAsXLgQAHDlyBFu2bAEw0P4+2C9+8Yth49TjTlj1vAC/4TxsMBdV/c633KBhPUjLu+qQTgNktLxHDemA2KAODA/HKgK7rP1QV9UcYDjXLTYBXVdYYDgXgyHdPgzp9uH+LV9TUxOampqy/m7btm0Z/7733ntx77335lxWIpGA53kiNy+yirpa3ZuQlcrWdj+ChnNZodzP+oKEdb/V9ECXYYsozpddG0pWSAeid7JEnUQu53LzBMMg4V3lySCdVXMyQ2wCug4M52KZENIpGIZ0ezCckwmMbm8X1NoeJJyrDub5tsFvUA/S8p6Xpiq6qDZ3EyaKy8bEyePSyxBcTS+4PsOqumLG5kff51g914+TxEnCcC6H7teVYTM4Bj/z2fgeqfoCR/YzqbXdtnA+WJDt8fM8VU4ax78XmUydPC69nIPJWHU9iHq+DOfuiEVAZ6hyi+6QTsHZGADjgu8NmcLm6rnIcC5ylnXRgmybsJBegIwxxsonHtRAZkhnUPdH5PNjOHdLLAK6agyQ8ul8jXnCJxwGQfPY+p6wGkYiFQx4isO5CIeT3Tl/RFAa0n1U0f2EdP7dGE5mC77IcdCpIOtKWBcdzE0M5xSN82PQVYcphvN44IRx4XBMuhls3nf5JZsA/xVOE/YXPyE1SjAPGrqz3T/MhG1+x6b7GZNecNI4H+PRKRxZl2EDxIxLH7bMQd8hTPh8+yXj5IKwTgUJ4ZzV82hYQSdr8WSInWwOhy7g608mkhEOfK1XcvVcVjgXXRGPsiw/2x/lWu9+ia6ix6HNfTAbWt6HLdvwyrqs7RM6jIDh3EjOV9BVYmBUjzO72ykVEllNV8v2cG5TtYT0k72/6AjnogK5n+UHqaq3HToVuZLOKrp+smZ4B8Rdji3n8g2orKs4USB06ADDubGcDuj88k8ysc09Ora8q+HCfspwTimivuBHrZ7nIzqcyw7mudapOqS7xtRLreUjs+UdkNP2PmwdWb5XiD6GqK7ai+5CsG2/jBunA7pKtlTPg/xBseULMavodmM1XS4Xwjm5TUYQiHz8EjAxXD6mh/Oh6/Yb1P2E9ELri1JF93Nd9MrJCd/fhURdE91GNlfTs67T0u8YMvY/WeGc1XNxnA3oKr/smxzOo/xBGvpYkwO7rpDOKro4rKaL5dJ+afLfHrJTlEtzRW1t9xvOdQbzoYIE9UIhPXKrOykjM6QDeoK6LWwK5gDDuWicJM5RUialMHgiDnLDyMkJp4KlDq69hgznNJiSL/ISW9ttDOeD+d2uQs8z0qRxBd4fGddFj7PuQ23S26FlTiRnI4ZzcraCropp1XMlE1T8/3WY9sWZre7uYNt7OC4Fc8C8vzFkh0L7jczquQgi1pEvAEcdA66iwi17HUHa3GmA7Go6EO+KuswTFAzn9mFAd4SOA42pQV01trnLw7Z3f7j/ka10XV5NBhHV89CXOgvwuKH3DRPY/QToqK3ueSmc0T3O49CHkj2BXHo9g15v18O67H2L4dxOTgZ0VV/oTame6z4LbFJQZxXdPYPDJ8N6JpeDuQl/T8gsutvb84VnXeFcxPXFU8sIGpZlh/QoVXQ/k8VReCqq6el1ORjWVZzw4SztduMYdMvpDueDmbQt5CbXxleH5frrwHBOYclsbw9LdDhvS3anf0QKs0w/2x30Wu+q8O9MNCrGpg9bp+Vj1VVtv4r3hdVzuZysoMeFiYG4+2BS+0FPRxWdbe5qxXXbjqiCAAAgAElEQVSMehz2Md1/PyjGJFXPCwkazmULWlGPOl48dBVdYZs75aaq7T1jnUNCrqmVddUnE1SdMGE4l8+5gB6H9nYTg/lgJoR0ioc4tL/HIZRTPLk0/jyXQtVj08L50PWJCulRr48eBtvc1VLZ9j5s3YYEdp3VfYZztzgX0MkMDOmkmktV9biGcv7NoFz8fOHW0d4eJTT7vmSZxkuuRZrITcV6IlbR/c7mzoni/NFRTc+6HTneK1HB3aR9QeUwA4ZzdRjQLWN69XwwnSGdk8XF19Bwa0tgj2soT2E4J61CtrfnI2Lstc5wPnQbCgVoWVV0FZd1I7FMCepDmRSsRWA4dxcDegi62tttCucpcaqkcxy6mUwN7NxXzorL3wiKDxGt7SaE88H8VLlNC9Nsc9fL1KBuO9WT8zGcq8eAbgkbw3mKrpDOKjplky0YywztDOL5MZyTyWRMDmdjOBclXxVd1iXXSD8GdTEYzOPDqYBuSmVMNJvDOZENGKL1YDiPL9Ff1CONP8/T3m6jwz5a6yeGnLDNyCo6Z3O3BoN6ODquac5wrhevgx6QztnbbcaTDEQ0GMM5+WXiJZTyVbjztbfLrJ4fPnTKVzgPet+h/Gxf3s6DPOvV0TnAv0Xq6biGuo10vU4M5/oxoBvOpWDr0nMhovD4hZhsEHZyuCjCBNQoYTvsY3UE6bDvh6jZ+8OeKGK1OLdUAGVYz6TzNWE4j2b9+vVIJBIoLy/H7NmzsWPHDl+Pe+yxx1BUVIQFCxYAYEAnx7HjgcgsDOfksqjV8yCiBPNsy1JJxAz3GRwbphBHcQ/qJpysYDiPZvPmzWhubsaKFSuwa9cuTJs2DfPnz8exY8fyPi6ZTOJLX/oS3ve+96VvY0A3mIsVZxef02CuzoNAJALDOekgevy5rOpxkOXKCNRBA3+h7dXRgUD2MyGoqmTKc2U4j27t2rVYsmQJGhsbMXXqVLS0tKCyshIbN27M+Zi+vj7cdNNNuPvuuzF58uT07c4EdBXBiNVYIqJwGM5JFhf2Ld3hXOXyC3F1BnsKbnBYNyHEimLSczqVPMxwLkBPTw927tyJhoaG9G3FxcVoaGjA9u3bcz7uq1/9KsaOHYtPf/rTGbc7NYu7S1yuNMfp2uhE5EaAongJU/1V0d6uKjwfPnTK10zvhWZ1zzeje75LroVZHrlvcKC1aWy/CUE8Gwbzwk6ePJnx77KyMpSVlQ2734kTJ9DX14fq6uqM26urq7Fnz56sy/7Vr36Fb3/729i9e/ew3zGgk/N4PXQifWwI58mDXTjnHC/w43p7WekLI8gXaxNncBfNb8VYd2WbwjE1nNku2+tqSmi34T2PSzj/U/IUSsuKAj+u58zA39va2tqM21esWIGVK1dG3q63334bN998MzZs2IAxY8YM+z0DOhERSWFDOCcKItQs65a2bIuqoiuT53rolYmJ6M4TSConJ5zuXIwL1aHdhiA+VFyCuSjt7e2oqqpK/ztb9RwAxowZg5KSEnR2dmbc3tnZiZqammH3P3DgAJLJJD7ykY+kb+vv7wcAjBgxggHdRHE4SLDNncht/HyT8Sya+VtX9dxvSM+7jBBt6caEfrKejSFaFobz4KqqqjICei6lpaWYMWMGWltb05dK6+/vR2trK5qamobd/9JLL8Wrr76acdtdd92Ft99+Gw888AADul+cII6IyB+GczKFqGtgFxL2smGuTIgWNlCHGYdORMEwmKvR3NyMxYsXY+bMmZg1axbWrVuHrq4uNDY2AgAWLVqECRMmYPXq1SgvL0d9fX3G40ePHg0AqK+vZ0AnIiJxGM6JxNI99lxEFZ2I1GMwV2vhwoU4fvw4li9fjo6ODkyfPh1bt25NTxzX1taG4mJ/F1BjQCciIiEYzskFIseM2zr+3GScyT04P0GtQlG3CanBcK5HU1NT1pZ2ANi2bVvex37nO99J/z8DumHiMP48hePQidzAzzGRHLqr56K4EqorE3XoTtoxpjloQMt2f4Z2+zCYu4EBnWKBl1ojkoPhnHRSuf+JHi9u0/hzP23unNjNDCID2tBlMbCby7Vgfqr9iO5N0MqJgN4Vo6ozEZEpGM6JSBYG/uBkh7TBy2dYN4NrwRxgOAccCehERKQWwznRgLAzuBOJpDqoMazr5WIwBxjOUxjQiYjINwZzIjVcGX9O8ukOawzr6uh+r2ViOD+LAZ2IiHxhOCci0Xgt9GhMC2wM63KY9j6LxnCeiQGdiIjyYjAnIl4PnYLiJHPRuB7KUxjOh2NAJyKinBjOiYgGmHaJNdsCHKvr/tj2vkbBcJ4dAzoREQ3DYE5EZC7bQxzDeibb388wGM5zY0AnIqIMDOdENJSs9naOP6e4tsLHMZSnMJznx4BOREQAGMyJiETqPiSnJd71YOdqYHf9ffOL4bwwBnQiophjMCcyz8RJFbzUGhFyB1uTgzvDeHYM5/4woBMRxRSDOVF0dZMq0MYgTYow+J1lSnDne+IPw7l/TgT0kZMT6DqY1L0ZZLDKiyfp3gQiYzCYE5Hp6hKVujeBLMXAbB6G82CKdW8AkUtGMviQwSonJxjOySndCk/Oxzkw+pkgLs6vDxFld6r9CMN5CAzohuGXZyISjcGcyDx+Aq2smdNVmygwvItclm1YGSabMJiHx4BO2jAwEMnFYE4UHMMkEVE0DOfRODEGnYiIBjCQE5FIrlTx81E5VCIsVs/JFgzn0bGC7hMnGSMik7FaTjRct6JQUxcyxLrS5h52/HnY102H7mSwa5rLugY6kckYzsVgBd1AlZMTVpzNjYJBwh353kvX92Pd+DkiiuDN48D579K9Fb7ouia6iJMDYdr8QwX+N4/n/JWqEzVEccVgLhYDOjmP3Q/iBA2Efu7PEB8MQzmRPnWJSrQluwM9ZmKiEocDPsYENlTu44Lt7WQyhnPxGNCJBHH1EmuyA2Gu5TO4D2AgJ9d0H2pD5aQ63ZthDL+hX1cVvRCVl1fjpHtEZmE4l4MB3VAut7kzcNhB9/sU1+Cu+3UnMkl3sg2VCfVhPkzVu25SBdpyBGhRVXRVId1v9bxQOM8XqG0af05EmRjM5XImoI+cnECX5C/ulRdPQveBQ1LXQaSb6QHRteBu+utNZLrug0nrP0dBWudlh3Tdre0qK/KAnGOHyAni2N5OpmE4l4+zuBvM9i8c2bj4nFxi8/uTmsU814+p20bxsn79eiQSCZSXl2P27NnYsWNHzvv+4Q9/wD/90z8hkUigqKgI69aty3q/I0eO4FOf+hQuvPBCVFRU4LLLLsMrr7wi6ylYJ+8EYXkmFstFdYDMRlaIDrLcKNVz4SRPEBd0BnciVzGcq+FMBZ0oG04Q55/rYdH150fm27x5M5qbm9HS0oLZs2dj3bp1mD9/Pvbu3YuxY8cOu393dzcmT56MG2+8EV/84hezLvPNN9/E1VdfjQ984AP46U9/ine9613Yt28fzj//fNlPh7KI0uYedAI6kZV01VXzMO3tHH9OpA+DuVqsoBvOpVDh0nMZyvYJ4lx+b4hMsXbtWixZsgSNjY2YOnUqWlpaUFlZiY0bN2a9/5VXXolvfOMb+Od//meUlZVlvc/999+P2tpabNq0CbNmzcKkSZPwoQ99CBdffLHMpxILOgJh0Or8xEkVkcN1mMfL6iIwoTvBJGxvJxMwnKvHgB4QK7LkGoZzomhOnjyZ8XPmzJlh9+np6cHOnTvR0NCQvq24uBgNDQ3Yvn176HVv2bIFM2fOxI033oixY8fiiiuuwIYNG0Ivj/wJGyRlhf5UUPcbtoPefzA/z52TwxHZ71T7EYZzTZwK6LZXMXNxIUDpeA48mVKYC/sWkW61tbUYNWpU+mf16tXD7nPixAn09fWhuro64/bq6mp0dHSEXvfBgwfxrW99C1OmTMHPfvYzLFu2DF/4whfw8MMPh16mCkEm0fIz/jfSRF8hxqHnEzWARq0iDw7fuX5kbpuMkxB5lxlh/LnpE8QR6cJgrhfHoFvC5suuMQSaie8L0YC25CmUlAR/XF/fwPjf9vZ2VFVVpW/P1Y4uQ39/P2bOnIlVq1YBAK644gq89tpraGlpweLFi5Vth+m6k4dRmZgY+HGiLo8WdJlBx6PbIt/JC1Pb23VNEMf2dtLBtWDe1nYK55wT/HG9vfIvZ5mPUxV0Ih1s7NxgOCcSp6qqKuMnW0AfM2YMSkpK0NnZmXF7Z2cnampqQq973LhxmDp1asZt73nPe9DWxiqebPkCZaEqup8qs2mBVVf1nIjkYzu7WXwH9NOnT2PBggW45JJLMG3aNFx77bXYv38/AODYsWO47rrrMGXKFNTX1+PFF1+UtsEm0NU6bWOo0rXNbG/Pzcb9iMh2paWlmDFjBlpbW9O39ff3o7W1FXPnzg293Kuvvhp79+7NuO2Pf/wjJk70Xy3m8R1526R1hk5TQrqIcB62eh62vZ2ICmMwN1OgCvrSpUuxd+9e/O53v8MNN9yAz3zmMwCAO+64A3PmzMG+ffuwadMmfPKTn0Rvb6+UDY47m8KVTdtKRCRbc3MzNmzYgIcffhivv/46li1bhq6uLjQ2NgIAFi1ahDvvvDN9/56eHuzevRu7d+9GT08Pjhw5gt27d6fDMwB88YtfxK9//WusWrUK+/fvx6OPPoqHHnoIt9xyS6BtM/34LmIcuojrYQ8lu4qeWoeuoK5z3VHZPP6c7e0kG4O52XwH9PLycvzDP/wDioqKAABz5sxBMpkEAPzwhz/E5z73OQADl4UZP348XnjhBfFb64OqdmOdFVobgq8N2yiCbe3tcXlfiEy0cOFCrFmzBsuXL8f06dOxe/dubN26NT1xXFtbG44ePZq+/xtvvIErrrgCV1xxBY4ePYo1a9bgiiuuSIdnYOCY++Mf/xg/+MEPUF9fj3vuuQfr1q3DTTfd5Hu7dB3f4zCZlqiQDqivpgdZX5Tqucl0jT8nkonB3HyhJ4l74IEHcMMNN+DPf/4zent7M8bQJRIJjn+TzORJ43SHQLa3Z6f7fSEioKmpCU1NTVl/t23btox/JxIJeJ5XcJkf/vCH8eEPf1jE5gGI8fH9zePA+e/K+qt8E7tFndAtyER0KiaPC3wt9ognDtjeTiQfQ7ldQgX0VCtda2srTp3SO8tdnJkY0hkCiYjsZfvxvftgMu9xKOxs7lHUTapA26H8r2XQkA5AeFAPU6H3NdmdhpnbdbS3i8L2dhKJwdxOgWdxX7NmDZ588kn89Kc/RWVlJS688EKMGDEi4zquyWQSdXV1QjfURCZUaisnJ4wIxcZsh8L3xKb2dhPeGyIym+nHdyXtxiEniysUNP20eAetRKfGh0cNuWGXETWcR1q+gdXzOAzZIHtwjLndAgX0tWvX4gc/+AGeffZZjB49On37jTfeiJaWFgDAyy+/jCNHjmDevHlitzQAm4KTKDoDGMOf2fj+EFEhuo7vLoUaEdXgsO3iQcL64PuG3WYR4VxX9dz/ctzZNyk+GMzd4LvF/U9/+hP+9V//FZMnT8YHPvABAEBZWRl+85vf4P7778fNN9+MKVOmoLS0FI888gjOCXNVeAtVXjwJ3QcO6d4MAGeDmKrWLdOCnwkdDUREtnHt+C6zzT1IK/pQflrdo64DkD+ZnIrLzsmsnrO9nVzDQO4e3wH9oosuyjlZTXV1NX7+858L2yiKRnZQNy2Y62BLlwbfKyIqxKbje3eyDZUJyS32eSaLK6TQJG6qQrosvi8Np6l6rotLnSBkDwZzdwUeg24LlQHK1Mqt6HHhpowzz8bU94CIiMwTpQ264CXFBF1ybGKiUkm12o8g2xI1nEepntvc3s7qOfmRamFnOHdb6MuskT2yhepC1XVTgzj5x/eQiGzQfagNlZPEVsULtbkXVKCKHrkN3WclXcS6ogp0rXaZ4VwAk9vbiXJhGI8fBnRBTBqL7odL4U119dyW9nYiIheJanOXeck1P9crDxrSASgN6oFnlY8wY7svhlbP2d5OMjCUx5uzLe4AgxTFl0snYIiIwohcLS0QCKO2ugPBQ62Ktvcw6/DzPFg9z43t7TS4dZ3hnFhBF8i2KroLWD0fjuGciGwjo83d13oLVdEjTBgHiK+kpwwOsyKq6lHCsZJwrqh6TqQKQzjl43xAHzk5gS6FZ00Z0tXhxHBERPGkZDZ3H/yMD/cb0gEEDuqpbRis0PaIqlT7rf6bMGO73+o529tJBoZxCsr5gE4UJ6yeExGd5WeyuKhVdFEhHQhXTc+2PbKJDOdxr56zvd0dDOIkCgO6BKyiy6ejem5DezsRka2CtrmbUkUHxId0IFw1XbYgY+ZVhHM/ZFXPKV4YvkmlWAR01W3uAEO6TGxtz47VcyKi4VRU0QGxIR0QU00XSXk490Fn9Zzt7YUx1BKF4/Qs7roxSLqD1XMiIvmChh6lVU8B1Vwg2JjsukkV8i9fJngbhIVzhdVzXVxrb+dM5ERixCagM2C5gSc9smP1nIhMcKqtXfcmZOUnqPmqxka89FpK0InTUiFZVVgPuz6V4Vxk9ZyTw4XHQE4kXmwCui4MlOLoei15coeIyH7CQnoBskJ6+nGSgnqUkwB1iUrjwjmr53IxlBPJE4sx6Ck6xqIDHI8uAk905MbqORG5xPjJ4gSNRwfOhnS/49IzHpslSAcZsy4q5Ps90aBidvkwWD0PhqGcSL5YBXSdGNLD0xnOWT0nIgrmVPIwKvJNuKaRkAnjAKEhHQg2eVze5Sgcrx6kA8B3OI9J9dxGDOZE6sSuxV1n4GIVODi+Zvmxek5ELtI9WZyI8ehAsKqx3zZxE5gczoPQdWk129rbGc6J1IpdQNeNgdM/3a8Vq+dERO4RWl31GdJdCepBt01HOJd53fM4trcznBOpF8uArjt46Q6eNtD9GuneR/xg9ZyITCWiQiizii50wjiflwMLOgbbpKAeZltEhnO/bGhtt6l6znBOpEcsA7oJdAdQk/G1ISKiMLS0ugPSQjpwNhyrDutR1is6nJvQ2h636jnDOZE+sQ3oJlRIGUSHM+E1MWHfKITVcyKKA5mhyH8rtPiQHnZGc9lhPeryAz03weGc1XNxGM6Jwlm/fj0SiQTKy8sxe/Zs7NixI+d9N2zYgPe97304//zzcf7556OhoSF9/9gGdMCMIGZCIDUFXwsiInfoCiOiW90Hlik2pAPRLzs2OEyHCdRDHx819Ad6PhrDOavn+TGcE4WzefNmNDc3Y8WKFdi1axemTZuG+fPn49ixY1nvv23bNnziE5/AL37xC2zfvh21tbX40Ic+hCNHjvAyayZIBdO4XobNpGBuwkmbQlg9J6I4CXpddGnb4efya4CvS7ClpEKt38ux5aNrvHrgEw2a2tp1s6F6znBOFN7atWuxZMkSNDY2AgBaWlrw9NNPY+PGjbjjjjuG3f/73/9+xr//53/+B0888QRaW1vjXUEHzApkJgVVVUx6zibtC0RELnCpih5IwInPorS96xJqmyWEc1bPxWA4Jwqvp6cHO3fuRENDQ/q24uJiNDQ0YPv27b6W0d3djd7eXlxwwQUM6IBZwcykwCpbnJ6rKKyeE1EchQlJWlvdgVCzk9sQ1EMHcwvDuSimV88ZzomyO3nyZMbPmTNnst7vxIkT6OvrQ3V1dcbt1dXV6Ojo8LWu22+/HePHj0dDQwNb3E3kesu7icHcpJM0RKRWW/IUioq8wI/zvNMStsY9p5KHUeGnNVyz7oNJXydBfbe6A2dDqc+W9xSRre+ihD5xEOBEhaxwHlYcqucM5+SyP7V1o6Qk+PG9r+8UAKC2tjbj9hUrVmDlypUiNi3Dfffdh8ceewzbtm1DeXk5A3rKyMkJdBk2A6hrQd3EYA7YE85ZPSeiOAszFr072YbKhPjx64FCOhBoXPpgg0OxjrAeuZpvSDjX2dpucvWc4Zwov/b2dlRVVaX/XVZWlvV+Y8aMQUlJCTo7OzNu7+zsRE1NTd51rFmzBvfddx+ee+45XH755QBiPov7UKYGtcqLJxkbbv2wffuJiCganSFF1nj0wJOYBWjzzibVWi67BV7IegI+V5kTwulsbSciu1VVVWX85AropaWlmDFjBlpbW9O39ff3o7W1FXPnzs25/K9//eu45557sHXrVsycOTN9OyvoFrGtom5DKDf1pMxQrJ4TEamZ0d1vqztwNliqqKYPli08h6mwSwn7AU9CBA3nNrW2s3pOFB/Nzc1YvHgxZs6ciVmzZmHdunXo6upKz+q+aNEiTJgwAatXrwYA3H///Vi+fDkeffRRJBKJ9Fj1c889lwF9KBNb3YcyPajbEMwBe8I5EZELdI5FD9rqHiSkDyw/RMs7EDmoD6Z9crkQ3QGywzmr59kxnBOJt3DhQhw/fhzLly9HR0cHpk+fjq1bt6Ynjmtra0Nx8dnm9W9961vo6enBxz72sYzlrFixggE9GxtCOpAZhHWHdVtCeYpN4ZzVcyKis8JW0Y0L6YCUoK5cyLZ9U8N5HKrnRCRHU1MTmpqasv5u27ZtGf9OJpM5l8Mx6DnYFOCAs+O8VQZlHesUwbb3lojIFaJCS9gQFTS0BQ+FIZ9fxPHpWkTYZtfDuclYPScyHyvoedhSSR8qW2COWmG3LYS7gtVzIiK9wlTSgYDj0lNMr6hHPIkQ5gSGjW3tplbPGc6J7KAloFcm6oA3/F20ncRgwB5gU/Wc4ZyIXCRqLLqqVncgeEgfWE+IlveUwUHYhLAuoLqvIpxHEYfqORHZgS3uBdgU6Cg/vpdERG5R1eoOhAuL3cnD0S8hlmolV9kCP3idAqrmqsK5Ca3trJ4TUVTaArpN1UEGO/vZ9h7a9PkgIgpKZIgxPaQPrEvQ8x0anEWFdgnLjHJyguFcLIZzIrtwDLpPto5HJ/vCORERqRG23R0IfiI10tj0fAycXE5lMB9YH9vTicgdWlvcbasSMujZx8b3zLbPBRFRGCZU0YEIldcI1XRhFXXDqK6aD6wzwnvP6jkRGYhj0AOyMfDFlY3vFcM5EVE4NoX0gXW6E9SjPhfbw7mpGM6J7KQ9oNsYSGwMfnHD94iIyHwmVR11hPSB9doZ1FPbHTWYuxDOTdqPich+2gM6wJBOYtn63tj4OSAiisqUVncgWkgXFdRND+uitjFa94E51W9Twzmr50T2MiKg28rWIOgyvidERPGmK6QD4q7bbVpYF709OsN5HFrbichuxsziXjk5IezAphJndzeHzeGc1XMiirNTycOoEDi7efehNlROCjY7e8bjQ8zunn5syFnec29LZigWPgu8j3UKW27kLgOzwjmr50QkgzEB3WapYMigrofNwRxgOCciAtwK6YD4oJ5ebo5QGCa4q6rQiyjAMJz7w3BOZD+jArqtVfQUVtPVsz2cExGRPLpDOjAQTlWciDWlHX4wE4I5wLZ2IrKLcWPQba8mMjCq48Jrbfv+TkQkkoyqpIgx6ZGrtwImkbOJqOdrajhn9ZyIZDIuoLtg5OSEE+HRVK68vgznRETDmRjSAUFh0fGgLvL5MZwHw3BO5A4jA7orwcWFEGkavqZERO5zOaQDZ4OsK2Fd9HMxNZwTEalgZEAHGNJpOJdeS1f2byIim4gK6SKvw21rUJdxkkHUaysrnLN6TkQqGDVJnKs4y3s0LgVzgOGciMgP0bO6p0SdOC69HAETyGUsb9B3BFOPEzJPJAjrTohZOCci9xgd0G2f1X0oBvVgXAvmREQUjA0hHYDQoA4MD8I6A7vs72FCuxFiGM5ZPSdyj9EBHXAvpAO8HFshLgdzU6siRESmMj2kA+Kr6cOWn+U7g4zjicrvWyKDOcBwTkTuMD6gu4rV9OwYzomISBXRIR0QX03PuT6Lvz/YEs6JiHQwdpK4wVwONq5cMiwq118Hl/dhIiLZZFYxRYc70ZPIuUTGayMznLN6TkQ6WFNBd7HVfbA4VtRdDuSDMZwTEUUnq9UdEFtJTy9TcUXdZLJOWDCcE5GLrKigp8Qh6KQqyS6HV9efHxFRLuvXr0cikUB5eTlmz56NHTt25L3/448/jksvvRTl5eW47LLL8Mwzz2T83vM8LF++HOPGjUNFRQUaGhqwb98+mU9BK5sq6enlxriiLuu5dx9qi204JyL3WRXQ48alsO7ScwkiDieViMifzZs3o7m5GStWrMCuXbswbdo0zJ8/H8eOHct6/5deegmf+MQn8OlPfxq//e1vsWDBAixYsACvvfZa+j5f//rX8V//9V9oaWnBb37zG4wcORLz58/H6dOnVT0t5WSHdAb16GQ+V9njzU0P56yeE7nPuoAe18BjY8C1cZtFiuu+SkTZrV27FkuWLEFjYyOmTp2KlpYWVFZWYuPGjVnv/8ADD+C6667Dl7/8ZbznPe/BPffcg/e+97345je/CWCger5u3TrcdddduOGGG3D55Zfju9/9Lt544w089dRTKp+acrJDlMwQmAqvroV1Fc+L4ZzhnCgOrAvoAIOPycHX5G1TKe77KBFl6unpwc6dO9HQ0JC+rbi4GA0NDdi+fXvWx2zfvj3j/gAwf/789P0PHTqEjo6OjPuMGjUKs2fPzrlMl9gc0tPrsDyoqzrZILulHTA/nBNRfFgzSdxQrk8a51e2IKxqorm4h/BcGM6J4uXkyZMZ/y4rK0NZWVnGbSdOnEBfXx+qq6szbq+ursaePXuyLrejoyPr/Ts6OtK/T92W6z6ukzlxHHA2pIueQG7YeoYEXJMnllN9QkHFiRIbwjmr50TxYW1ABxjSc8kXnIOEdwbw4BjOiezz1l97AZSEeGQvAKC2tjbj1hUrVmDlypWRt4v8kR3SATmzvOdd36AQrDus66rwq7q2OcM5kbvaD59GUVHwx3me3nlcrA7oAEN6UAzdRERitbe3o6qqKv3vodVzABgzZgxKSkrQ2dmZcXtnZydqamqyLrempibv/VP/7ezsxLhx4zLuM3369HBPxlKqQjogv5o+bL05ArKt14YAAAzBSURBVLKM4G5Kuz3DORHFmfUBncgUrJ4TxVNVVVVGQM+mtLQUM2bMQGtrKxYsWAAA6O/vR2trK5qamrI+Zu7cuWhtbcVtt92Wvu3ZZ5/F3LlzAQCTJk1CTU0NWltb04H85MmT+M1vfoNly5aJeGpWURHSAX1Bfdh2GBKmRVIVzAF7wjmr50TxY+UkcUMxGJFu3AeJqJDm5mZs2LABDz/8MF5//XUsW7YMXV1daGxsBAAsWrQId955Z/r+t956K7Zu3Yr//M//xJ49e7By5Uq88sor6UBfVFSE2267Dffeey+2bNmCV199FYsWLcL48ePTJwHiRmXoUhkm44DhfDiGc6J4cqaCzlZ30oXhnIj8WLhwIY4fP47ly5ejo6MD06dPx9atW9OTvLW1taG4+Ox586uuugqPPvoo7rrrLnzlK1/BlClT8NRTT6G+vj59n3/7t39DV1cXli5dir/+9a/4+7//e2zduhXl5eXKn58pVFXSAXOq6TZTfaKD4ZyITFfkeZ6namUnT57EqFGj8Pg9/45KSV8eGNJJJYZzIn3+4Ut3RXp86pgE3AMgzDHpNID/wFtvvVWwxd11qdfyGxPGoaLYjOY8VSF9MAZ1/3R0INgSzgEGdKIvRYioqWPSeVX3oago+PHd807j7ZN3aDu+m3EUFYiBiVThvkZEZC4dYUzF9bptp+s1YjgnIls4F9ABBieSj/sYEZH5dIUyBvXhdL4mDOdEZBNnxqAPxTHpJAvDORGRPVSOSR9qcCCNY/u77pMUNgVzgOGciAY4WUFPYZAi0bhPERHZ51TysPawFqequgnPVff7TUQUlrMV9BRW0kkUhnMiIrvprKanuFpV1x3IB7MxnLN6TkQpzgd04GywYlCnsBjOiYjcYEJITxkaam0K7CYF8sEYzonIdrEI6CmsplNQDOZERO5JhThTgnqKydV1UwN5io3BHGA4J6LhYhXQAYZ08o/hnIjIbSZV04fKFohVhXbTw/hQtoZzIqJsYhfQAYZ0KozhnIgoHkwO6UMFCc7ZwrxtwbsQ24M5q+dElE0sAzrAkE65MZwTEcWLqS3vUbgWxodiOCciVzl9mbVCGMRoKO4TREThnT5yVPcmRGLC5dgoPxfeI4ZzIson1gEdGAhkDGXE/YCISAwXwoftAdBVLrwvLnw+iEiu2Af0FIaz+OJ7T0QklgshxIVKrStceS9c+FwQkXwM6IMwqMUP33MiIjlcCSOuhEMbufTau/J5ICL5GNCHYKtzPPB9JrLfypUrcebMGd2bQXm4FEpcCYo2cCmYA259DohUifMxngE9B4Y3d/G9JXLD3XffHduDN+nhWnA0DV9fIkqJ8zE+tpdZ8yMV5Hg5NjcwmBMRqXeq/Qgqaifo3gyhXLwsm04uh3JWz4koKAZ0H3jNdLsxmBMR6eViSAcygyXDenAuB3OA4ZyIwlEa0D3PAwB0n7awXWF8DQCgO9mmeUMoiMpEHbpPn9a9GUQkSeq4Qnql3od8f21Ptx9B+YRxajZIg1MHDwEAKupqNW+J+U61teveBOlOHzmqexOIrBfXY7zSgP72228DABZ/bY3K1RIRkaN6enp0bwLh7PH9a4XuGIfQEofnSESkQFyP8UoD+vjx49He3o7zzjsPRUVFKldNREQOOu+883RvAoHHdyIiEi+ux3ilAb24uBgXXXSRylUSERGRZDy+ExERicHLrBEREREREREZgAGdiIiIiIiIyAAM6AY5ffo0FixYgEsuuQTTpk3Dtddei/379wMAjh07huuuuw5TpkxBfX09XnzxRc1ba4dNmzahqKgITz31FAC+jkGdOXMGTU1NmDJlCi677DJ86lOfAgDs27cPV111FS655BJceeWV+MMf/qB5S831zDPP4L3vfS+mT5+O+vp6PPzwwwC4LxbyhS98AYlEAkVFRdi9e3f69nz7HvdLMhmP8WLx+B4Nj+9i8BgfnMvH9/Xr1yORSKC8vByzZ8/Gjh078t7/8ccfx6WXXory8nJcdtlleOaZZwZ+4ZExTp065T399NNef3+/53me9+CDD3rz5s3zPM/zGhsbvRUrVnie53k7duzwJkyY4PX09GjaUjscOnTImzt3rjdnzhzvxz/+sed5fB2Duu2227ympqb0Pnn06FHP8zzvAx/4gLdp0ybP8zzv8ccf92bOnKlrE43W39/vnX/++d7vfvc7z/MG9smysjLv5MmT3BcLeOGFF7z29nZv4sSJ3m9/+9v07fn2vaD75VtvveUB8IB7POAbIX7u8QB4b731lvDnT+7hMV4cHt+j4/E9Oh7jw1F5fD+v6j6vatS6wD/nVd0X+Pj+2GOPeaWlpd7GjRu9P/zhD96SJUu80aNHe52dnVnv/7//+79eSUmJ9/Wvf937v//7P++uu+7yzjnnHO/VV1/1GNAN9vLLL3sTJ070PM/zRo4cmf7j6Xmed+WVV3rPPvuspi0zX19fn/fBD37Qe+WVV7x58+alD+B8Hf175513vPPOO2/YH6fOzk7vvPPO83p7ez3PGzhAVVdXe/v27dOxmUbr7+/3LrjgAu+FF17wPM/zfve733njx4/3zpw5w33Rp8EH8Hz7Xpj9kgGddOIxPhwe36Pj8V0MHuOjUXF8VxnQZ82a5d1yyy3pf/f19Xnjx4/3Vq9enfX+H//4x73rr78+47bZs2d7n/3sZz2ls7hTMA888ABuuOEG/PnPf0Zvby9qamrSv0skEmhra9O4dWZbu3Ytrr76asyYMSN9G1/HYA4cOIALLrgAq1atwnPPPYeKigqsXLkSo0ePxrhx4zBixMCfj6KiItTV1aGtrQ3vfve7NW+1WYqKirB582b84z/+I0aOHIk333wTTz75JN5++23uiyG0t7fn3PdGjRoVYb88HXKLwj6OiMf4sHh8j47HdzF4jBdH1vHd88Idp1OPO3nyZMbtZWVlKCsrG3b/np4e7Ny5E3feeWf6tuLiYjQ0NGD79u1Z17F9+3Y0Nzdn3DZ//nw89dRTai+zRv6tWrUK+/fvR2trK06dOqV7c6zy2muv4YknnuB4n4j+9re/4fDhw5g6dSruu+8+/Pa3v8W1116Lp59+WvemWeNvf/sb7r33Xjz55JN4//vfj5dffhkf/ehHM8ZckT6lpaWoqalBR8fXQi+jpqYGpaWlAreK4oDH+HB4fBeDx3cxeIw319nj+8rQyzj33HNRW1ubcduKFSuwcuXwZZ44cQJ9fX2orq7OuL26uhp79uzJuvyOjo6s9+/o6GBAN9GaNWvw5JNP4rnnnkNlZSUqKysxYsQIdHR0pM/GJZNJ1NXVad5SM/3yl79EMpnElClTAAx8AJYuXYq7776br2MAdXV1KC4uxk033QQAuOKKKzBp0iQcPnwYR48exd/+9jeMGDECnuehra2Nr2MWu3fvxhtvvIH3v//9AIArr7wSF110EX7/+99zXwyhtrY2575XVVUVeL8sLy/HoUOH0NPTE3qbSktLUV5eHvrxFD88xofH47sYPL6LwWO8OCYe3z3PQ1FRUcZt2arnMnAWd8OsXbsWP/jBD/Dss89i9OjR6dtvvPFGtLS0AABefvllHDlyBPPmzdO1mUZbtmwZjh49imQyiWQyiTlz5uChhx7CsmXL+DoGMGbMGHzwgx/Ez372MwDAoUOHcOjQIVx99dV473vfi0ceeQQA8MQTT+Ciiy5i+1sWqQPO66+/DgDYv38/Dhw4gL/7u7/jvhjC2LFjc+57+X6XT3l5OaqqqkL/MJxTEDzGR8Pjuxg8vovBY7w4Jh7fR40aNey2XAF9zJgxKCkpQWdnZ8btnZ2dGUMdBqupqcl9f98j30m69vZ2D4A3efJkb9q0ad60adO8WbNmeZ7neR0dHd61117rvfvd7/amTp3qPf/885q31h6DJ5Hh6xjMgQMHvGuuucarr6/3Lr/8cu9HP/qR53met2fPHm/OnDnelClTvBkzZni///3vNW+puR599NH061dfX+99//vf9zyP+2IhS5cu9SZMmOCVlJR4Y8eO9S6++GLP8/Lve9wvyWQ8xovH43t4PL6LwWN8cK4e32fNmuU1NTWl/93X1+dNmDAh7yRxH/7whzNumzt3rvfZz37WK/I8z/NxYoOIiIiIiIiIhti8eTMWL16M//7v/8asWbOwbt06/PCHP8SePXtQXV2NRYsWYcKECVi9ejUA4KWXXsK8efNw33334frrr8djjz2GVatWYdeuXRyDTkRERERERBTWwoULcfz4cSxfvhwdHR2YPn06tm7dmp4Irq2tDcXFZ0eXX3XVVXj00Udx11134Stf+QqmTJmCp556CvX19WAFnYiIiIiIiMgAnCSOiIiIiIiIyAD/D0ogseTSnJGlAAAAAElFTkSuQmCC\" />"
      ]
     },
     "execution_count": 9,
     "metadata": {},
     "output_type": "execute_result"
    }
   ],
   "source": [
    "using Plots; pyplot()\n",
    "\n",
    "plot(solution, size=(1000,500))"
   ]
  },
  {
   "cell_type": "markdown",
   "metadata": {},
   "source": [
    "## Conclusions\n",
    "\n",
    "The ability to work at the level of the problem definition is quite desirable. Users can switch between different solvers without having to learn new syntax. This approach also guarantees that the problem being solved is the same and that the comparison is fair.\n",
    "\n",
    "Documentation on how to write estimation solvers can be found in the [GeoStatsBase.jl](https://github.com/juliohm/GeoStatsBase.jl) package. Additional helper tools for developers can be found in [GeoStatsDevTools.jl](https://github.com/juliohm/GeoStatsDevTools.jl). Please open an issue in any of these modules if you have questions about solver development."
   ]
  }
 ],
 "metadata": {
  "kernelspec": {
   "display_name": "Julia 0.6.1-pre",
   "language": "julia",
   "name": "julia-0.6"
  },
  "language_info": {
   "file_extension": ".jl",
   "mimetype": "application/julia",
   "name": "julia",
   "version": "0.6.1"
  }
 },
 "nbformat": 4,
 "nbformat_minor": 2
}
