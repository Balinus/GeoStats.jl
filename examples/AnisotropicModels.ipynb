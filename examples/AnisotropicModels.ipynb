{
 "cells": [
  {
   "cell_type": "markdown",
   "metadata": {},
   "source": [
    "# Anisotropic models\n",
    "\n",
    "In this tutorial, we demonstrate how to perform estimation with anisotropic variograms using GeoStats.jl.\n",
    "\n",
    "Before we proceed, please install the following packages:"
   ]
  },
  {
   "cell_type": "code",
   "execution_count": 1,
   "metadata": {},
   "outputs": [
    {
     "name": "stderr",
     "output_type": "stream",
     "text": [
      "\u001b[1m\u001b[36mINFO: \u001b[39m\u001b[22m\u001b[36mPackage GeoStats is already installed\n",
      "\u001b[39m\u001b[1m\u001b[36mINFO: \u001b[39m\u001b[22m\u001b[36mPackage Plots is already installed\n",
      "\u001b[39m\u001b[1m\u001b[36mINFO: \u001b[39m\u001b[22m\u001b[36mPackage GR is already installed\n",
      "\u001b[39m"
     ]
    }
   ],
   "source": [
    "for pkg in [\"GeoStats\", \"Plots\", \"GR\"]\n",
    "    Pkg.add(pkg)\n",
    "end\n",
    "\n",
    "# make sure this tutorial is reproducible\n",
    "srand(2000);"
   ]
  },
  {
   "cell_type": "markdown",
   "metadata": {},
   "source": [
    "## Ellipsoid distance\n",
    "\n",
    "Anisotropy can be thought of as a deformation of space with an ellipsoid distance. The semiaxes of the ellipsoid determine the preferential directions of the field and their lengths characterize the anisotropy ratio. In GeoStats.jl, all variogram models (empirical and theoretical) support a custom distance function that\n",
    "can be used to model anisotropy.\n",
    "\n",
    "A variogram object $\\gamma$ can be evaluated as an isotropic model $\\gamma(h)$ or as a (possibly) anisotropic model $\\gamma(x,y)$. For the Euclidean distance (the default), these two operations match $\\gamma(x,y) = \\gamma(h)$ in all directions:"
   ]
  },
  {
   "cell_type": "code",
   "execution_count": 2,
   "metadata": {},
   "outputs": [
    {
     "data": {
      "text/html": [
       "true"
      ],
      "text/plain": [
       "true"
      ]
     },
     "execution_count": 2,
     "metadata": {},
     "output_type": "execute_result"
    }
   ],
   "source": [
    "using GeoStats\n",
    "\n",
    "γ = GaussianVariogram()\n",
    "\n",
    "γ([1.,0.], [0.,0.]) ≈ γ(1.)"
   ]
  },
  {
   "cell_type": "markdown",
   "metadata": {},
   "source": [
    "If instead of an Euclidean ball, we use an ellipsoid with different semiaxes, the operation $\\gamma(x,y)$ becomes a function of the direction $x-y$. For example, we can create an ellipsoid distance aligned with the coordinate system where the major semiaxis has twice the size of the minor semiaxis:"
   ]
  },
  {
   "cell_type": "code",
   "execution_count": 3,
   "metadata": {},
   "outputs": [
    {
     "data": {
      "text/html": [
       "true"
      ],
      "text/plain": [
       "true"
      ]
     },
     "execution_count": 3,
     "metadata": {},
     "output_type": "execute_result"
    }
   ],
   "source": [
    "d = EllipsoidDistance([2.,1.],[0.])\n",
    "\n",
    "γaniso = GaussianVariogram(distance=d)\n",
    "\n",
    "γaniso([1.,0.],[0.,0.]) ≠ γaniso([0.,1.],[0.,0.])"
   ]
  },
  {
   "cell_type": "markdown",
   "metadata": {},
   "source": [
    "## Effects on estimation\n",
    "\n",
    "Now that we know how to construct anisotropic variograms, we can investigate the effect of varying the anisotropy ratio and alignement angle on estimation results. We start by generating some random data:"
   ]
  },
  {
   "cell_type": "code",
   "execution_count": 4,
   "metadata": {},
   "outputs": [
    {
     "data": {
      "text/html": [
       "<div id=\"interact-js-shim\">\n",
       "    <script charset=\"utf-8\">\n",
       "(function (IPython, $, _, MathJax) {\n",
       "    $.event.special.destroyed = {\n",
       "\tremove: function(o) {\n",
       "\t    if (o.handler) {\n",
       "\t\to.handler.apply(this, arguments)\n",
       "\t    }\n",
       "\t}\n",
       "    }\n",
       "\n",
       "    var OutputArea = IPython.version >= \"4.0.0\" ? require(\"notebook/js/outputarea\").OutputArea : IPython.OutputArea;\n",
       "\n",
       "    var redrawValue = function (container, type, val) {\n",
       "\tvar selector = $(\"<div/>\");\n",
       "\tvar oa = new OutputArea(_.extend(selector, {\n",
       "\t    selector: selector,\n",
       "\t    prompt_area: true,\n",
       "\t    events: IPython.events,\n",
       "\t    keyboard_manager: IPython.keyboard_manager\n",
       "\t})); // Hack to work with IPython 2.1.0\n",
       "\n",
       "\tswitch (type) {\n",
       "\tcase \"image/png\":\n",
       "            var _src = 'data:' + type + ';base64,' + val;\n",
       "\t    $(container).find(\"img\").attr('src', _src);\n",
       "\t    break;\n",
       "\tcase \"text/latex\":\n",
       "\t\tif (MathJax){\n",
       "\t\t\tvar math = MathJax.Hub.getAllJax(container)[0];\n",
       "\t\t\tMathJax.Hub.Queue([\"Text\", math, val.replace(/^\\${1,2}|\\${1,2}$/g, '')]);\n",
       "\t\t\tbreak;\n",
       "\t\t}\n",
       "\tdefault:\n",
       "\t    var toinsert = OutputArea.append_map[type].apply(\n",
       "\t\toa, [val, {}, selector]\n",
       "\t    );\n",
       "\t    $(container).empty().append(toinsert.contents());\n",
       "\t    selector.remove();\n",
       "\t}\n",
       "    }\n",
       "\n",
       "\n",
       "    $(document).ready(function() {\n",
       "\tfunction initComm(evt, data) {\n",
       "\t    var comm_manager = data.kernel.comm_manager;\n",
       "        //_.extend(comm_manager.targets, require(\"widgets/js/widget\"))\n",
       "\t    comm_manager.register_target(\"Signal\", function (comm) {\n",
       "            comm.on_msg(function (msg) {\n",
       "                var val = msg.content.data.value;\n",
       "                $(\".signal-\" + comm.comm_id).each(function() {\n",
       "                var type = $(this).data(\"type\");\n",
       "                if (typeof(val[type]) !== \"undefined\" && val[type] !== null) {\n",
       "                    redrawValue(this, type, val[type], type);\n",
       "                }\n",
       "                });\n",
       "                delete val;\n",
       "                delete msg.content.data.value;\n",
       "            });\n",
       "\t    });\n",
       "\n",
       "\t    // coordingate with Comm and redraw Signals\n",
       "\t    // XXX: Test using Reactive here to improve performance\n",
       "\t    $([IPython.events]).on(\n",
       "\t\t'output_appended.OutputArea', function (event, type, value, md, toinsert) {\n",
       "\t\t    if (md && md.reactive) {\n",
       "                // console.log(md.comm_id);\n",
       "                toinsert.addClass(\"signal-\" + md.comm_id);\n",
       "                toinsert.data(\"type\", type);\n",
       "                // Signal back indicating the mimetype required\n",
       "                var comm_manager = IPython.notebook.kernel.comm_manager;\n",
       "                var comm = comm_manager.comms[md.comm_id];\n",
       "                comm.then(function (c) {\n",
       "                    c.send({action: \"subscribe_mime\",\n",
       "                       mime: type});\n",
       "                    toinsert.bind(\"destroyed\", function() {\n",
       "                        c.send({action: \"unsubscribe_mime\",\n",
       "                               mime: type});\n",
       "                    });\n",
       "                })\n",
       "\t\t    }\n",
       "\t    });\n",
       "\t}\n",
       "\n",
       "\ttry {\n",
       "\t    // try to initialize right away. otherwise, wait on the status_started event.\n",
       "\t    initComm(undefined, IPython.notebook);\n",
       "\t} catch (e) {\n",
       "\t    $([IPython.events]).on('kernel_created.Kernel kernel_created.Session', initComm);\n",
       "\t}\n",
       "    });\n",
       "})(IPython, jQuery, _, MathJax);\n",
       "</script>\n",
       "    <script>\n",
       "        window.interactLoadedFlag = true\n",
       "       $(\"#interact-js-shim\").bind(\"destroyed\", function () {\n",
       "           if (window.interactLoadedFlag) {\n",
       "               console.warn(\"JavaScript required by Interact will be removed if you remove this cell or run using Interact more than once.\")\n",
       "           }\n",
       "       })\n",
       "       $([IPython.events]).on(\"kernel_starting.Kernel kernel_restarting.Kernel\", function () { window.interactLoadedFlag = false })\n",
       "   </script>\n",
       "</div>"
      ]
     },
     "metadata": {},
     "output_type": "display_data"
    },
    {
     "data": {
      "text/html": [
       "<?xml version=\"1.0\" encoding=\"utf-8\"?>\n",
       "<svg xmlns=\"http://www.w3.org/2000/svg\" xmlns:xlink=\"http://www.w3.org/1999/xlink\" width=\"600\" height=\"400\" viewBox=\"0 0 600 400\">\n",
       "<defs>\n",
       "  <clipPath id=\"clip00\">\n",
       "    <rect x=\"0\" y=\"0\" width=\"600\" height=\"400\"/>\n",
       "  </clipPath>\n",
       "</defs>\n",
       "<polygon clip-path=\"url(#clip00)\" points=\"\n",
       "0,400 600,400 600,0 0,0 \n",
       "  \" fill=\"#ffffff\" fill-opacity=\"1\"/>\n",
       "<defs>\n",
       "  <clipPath id=\"clip01\">\n",
       "    <rect x=\"120\" y=\"0\" width=\"421\" height=\"400\"/>\n",
       "  </clipPath>\n",
       "</defs>\n",
       "<polygon clip-path=\"url(#clip00)\" points=\"\n",
       "39.3701,368.504 592.126,368.504 592.126,7.87402 39.3701,7.87402 \n",
       "  \" fill=\"#ffffff\" fill-opacity=\"1\"/>\n",
       "<defs>\n",
       "  <clipPath id=\"clip02\">\n",
       "    <rect x=\"39\" y=\"7\" width=\"554\" height=\"362\"/>\n",
       "  </clipPath>\n",
       "</defs>\n",
       "<polyline clip-path=\"url(#clip02)\" style=\"stroke:#000000; stroke-width:1; stroke-opacity:0.5; fill:none\" stroke-dasharray=\"1, 2\" points=\"\n",
       "  172.506,363.094 172.506,13.2835 \n",
       "  \"/>\n",
       "<polyline clip-path=\"url(#clip02)\" style=\"stroke:#000000; stroke-width:1; stroke-opacity:0.5; fill:none\" stroke-dasharray=\"1, 2\" points=\"\n",
       "  313.617,363.094 313.617,13.2835 \n",
       "  \"/>\n",
       "<polyline clip-path=\"url(#clip02)\" style=\"stroke:#000000; stroke-width:1; stroke-opacity:0.5; fill:none\" stroke-dasharray=\"1, 2\" points=\"\n",
       "  454.727,363.094 454.727,13.2835 \n",
       "  \"/>\n",
       "<polyline clip-path=\"url(#clip02)\" style=\"stroke:#000000; stroke-width:1; stroke-opacity:0.5; fill:none\" stroke-dasharray=\"1, 2\" points=\"\n",
       "  47.6614,298.234 583.835,298.234 \n",
       "  \"/>\n",
       "<polyline clip-path=\"url(#clip02)\" style=\"stroke:#000000; stroke-width:1; stroke-opacity:0.5; fill:none\" stroke-dasharray=\"1, 2\" points=\"\n",
       "  47.6614,227.778 583.835,227.778 \n",
       "  \"/>\n",
       "<polyline clip-path=\"url(#clip02)\" style=\"stroke:#000000; stroke-width:1; stroke-opacity:0.5; fill:none\" stroke-dasharray=\"1, 2\" points=\"\n",
       "  47.6614,157.323 583.835,157.323 \n",
       "  \"/>\n",
       "<polyline clip-path=\"url(#clip02)\" style=\"stroke:#000000; stroke-width:1; stroke-opacity:0.5; fill:none\" stroke-dasharray=\"1, 2\" points=\"\n",
       "  47.6614,86.8677 583.835,86.8677 \n",
       "  \"/>\n",
       "<polyline clip-path=\"url(#clip02)\" style=\"stroke:#000000; stroke-width:1; stroke-opacity:0.5; fill:none\" stroke-dasharray=\"1, 2\" points=\"\n",
       "  47.6614,16.4122 583.835,16.4122 \n",
       "  \"/>\n",
       "<polyline clip-path=\"url(#clip00)\" style=\"stroke:#000000; stroke-width:1; stroke-opacity:1; fill:none\" points=\"\n",
       "  39.3701,368.504 592.126,368.504 \n",
       "  \"/>\n",
       "<polyline clip-path=\"url(#clip00)\" style=\"stroke:#000000; stroke-width:1; stroke-opacity:1; fill:none\" points=\"\n",
       "  172.506,368.504 172.506,363.094 \n",
       "  \"/>\n",
       "<polyline clip-path=\"url(#clip00)\" style=\"stroke:#000000; stroke-width:1; stroke-opacity:1; fill:none\" points=\"\n",
       "  313.617,368.504 313.617,363.094 \n",
       "  \"/>\n",
       "<polyline clip-path=\"url(#clip00)\" style=\"stroke:#000000; stroke-width:1; stroke-opacity:1; fill:none\" points=\"\n",
       "  454.727,368.504 454.727,363.094 \n",
       "  \"/>\n",
       "<polyline clip-path=\"url(#clip00)\" style=\"stroke:#000000; stroke-width:1; stroke-opacity:1; fill:none\" points=\"\n",
       "  39.3701,368.504 39.3701,7.87402 \n",
       "  \"/>\n",
       "<polyline clip-path=\"url(#clip00)\" style=\"stroke:#000000; stroke-width:1; stroke-opacity:1; fill:none\" points=\"\n",
       "  39.3701,298.234 47.6614,298.234 \n",
       "  \"/>\n",
       "<polyline clip-path=\"url(#clip00)\" style=\"stroke:#000000; stroke-width:1; stroke-opacity:1; fill:none\" points=\"\n",
       "  39.3701,227.778 47.6614,227.778 \n",
       "  \"/>\n",
       "<polyline clip-path=\"url(#clip00)\" style=\"stroke:#000000; stroke-width:1; stroke-opacity:1; fill:none\" points=\"\n",
       "  39.3701,157.323 47.6614,157.323 \n",
       "  \"/>\n",
       "<polyline clip-path=\"url(#clip00)\" style=\"stroke:#000000; stroke-width:1; stroke-opacity:1; fill:none\" points=\"\n",
       "  39.3701,86.8677 47.6614,86.8677 \n",
       "  \"/>\n",
       "<polyline clip-path=\"url(#clip00)\" style=\"stroke:#000000; stroke-width:1; stroke-opacity:1; fill:none\" points=\"\n",
       "  39.3701,16.4122 47.6614,16.4122 \n",
       "  \"/>\n",
       "<g clip-path=\"url(#clip00)\">\n",
       "<text style=\"fill:#000000; fill-opacity:1; font-family:Arial,Helvetica Neue,Helvetica,sans-serif; font-size:12; text-anchor:middle;\" transform=\"rotate(0, 172.506, 382.304)\" x=\"172.506\" y=\"382.304\">25</text>\n",
       "</g>\n",
       "<g clip-path=\"url(#clip00)\">\n",
       "<text style=\"fill:#000000; fill-opacity:1; font-family:Arial,Helvetica Neue,Helvetica,sans-serif; font-size:12; text-anchor:middle;\" transform=\"rotate(0, 313.617, 382.304)\" x=\"313.617\" y=\"382.304\">50</text>\n",
       "</g>\n",
       "<g clip-path=\"url(#clip00)\">\n",
       "<text style=\"fill:#000000; fill-opacity:1; font-family:Arial,Helvetica Neue,Helvetica,sans-serif; font-size:12; text-anchor:middle;\" transform=\"rotate(0, 454.727, 382.304)\" x=\"454.727\" y=\"382.304\">75</text>\n",
       "</g>\n",
       "<g clip-path=\"url(#clip00)\">\n",
       "<text style=\"fill:#000000; fill-opacity:1; font-family:Arial,Helvetica Neue,Helvetica,sans-serif; font-size:12; text-anchor:end;\" transform=\"rotate(0, 33.3701, 302.734)\" x=\"33.3701\" y=\"302.734\">20</text>\n",
       "</g>\n",
       "<g clip-path=\"url(#clip00)\">\n",
       "<text style=\"fill:#000000; fill-opacity:1; font-family:Arial,Helvetica Neue,Helvetica,sans-serif; font-size:12; text-anchor:end;\" transform=\"rotate(0, 33.3701, 232.278)\" x=\"33.3701\" y=\"232.278\">40</text>\n",
       "</g>\n",
       "<g clip-path=\"url(#clip00)\">\n",
       "<text style=\"fill:#000000; fill-opacity:1; font-family:Arial,Helvetica Neue,Helvetica,sans-serif; font-size:12; text-anchor:end;\" transform=\"rotate(0, 33.3701, 161.823)\" x=\"33.3701\" y=\"161.823\">60</text>\n",
       "</g>\n",
       "<g clip-path=\"url(#clip00)\">\n",
       "<text style=\"fill:#000000; fill-opacity:1; font-family:Arial,Helvetica Neue,Helvetica,sans-serif; font-size:12; text-anchor:end;\" transform=\"rotate(0, 33.3701, 91.3677)\" x=\"33.3701\" y=\"91.3677\">80</text>\n",
       "</g>\n",
       "<g clip-path=\"url(#clip00)\">\n",
       "<text style=\"fill:#000000; fill-opacity:1; font-family:Arial,Helvetica Neue,Helvetica,sans-serif; font-size:12; text-anchor:end;\" transform=\"rotate(0, 33.3701, 20.9122)\" x=\"33.3701\" y=\"20.9122\">100</text>\n",
       "</g>\n",
       "<circle clip-path=\"url(#clip02)\" style=\"fill:#000000; stroke:none; fill-opacity:1\" cx=\"364.776\" cy=\"161.362\" r=\"4\"/>\n",
       "<circle clip-path=\"url(#clip02)\" style=\"fill:#fafc9d; stroke:none; fill-opacity:1\" cx=\"364.776\" cy=\"161.362\" r=\"3\"/>\n",
       "<circle clip-path=\"url(#clip02)\" style=\"fill:#000000; stroke:none; fill-opacity:1\" cx=\"108.509\" cy=\"194.834\" r=\"4\"/>\n",
       "<circle clip-path=\"url(#clip02)\" style=\"fill:#f7860e; stroke:none; fill-opacity:1\" cx=\"108.509\" cy=\"194.834\" r=\"3\"/>\n",
       "<circle clip-path=\"url(#clip02)\" style=\"fill:#000000; stroke:none; fill-opacity:1\" cx=\"335.842\" cy=\"188.509\" r=\"4\"/>\n",
       "<circle clip-path=\"url(#clip02)\" style=\"fill:#f99008; stroke:none; fill-opacity:1\" cx=\"335.842\" cy=\"188.509\" r=\"3\"/>\n",
       "<circle clip-path=\"url(#clip02)\" style=\"fill:#000000; stroke:none; fill-opacity:1\" cx=\"458.248\" cy=\"152.152\" r=\"4\"/>\n",
       "<circle clip-path=\"url(#clip02)\" style=\"fill:#be3852; stroke:none; fill-opacity:1\" cx=\"458.248\" cy=\"152.152\" r=\"3\"/>\n",
       "<circle clip-path=\"url(#clip02)\" style=\"fill:#000000; stroke:none; fill-opacity:1\" cx=\"448.956\" cy=\"198.561\" r=\"4\"/>\n",
       "<circle clip-path=\"url(#clip02)\" style=\"fill:#b63457; stroke:none; fill-opacity:1\" cx=\"448.956\" cy=\"198.561\" r=\"3\"/>\n",
       "<circle clip-path=\"url(#clip02)\" style=\"fill:#000000; stroke:none; fill-opacity:1\" cx=\"60.7164\" cy=\"272.645\" r=\"4\"/>\n",
       "<circle clip-path=\"url(#clip02)\" style=\"fill:#8e2368; stroke:none; fill-opacity:1\" cx=\"60.7164\" cy=\"272.645\" r=\"3\"/>\n",
       "<circle clip-path=\"url(#clip02)\" style=\"fill:#000000; stroke:none; fill-opacity:1\" cx=\"552.455\" cy=\"103.963\" r=\"4\"/>\n",
       "<circle clip-path=\"url(#clip02)\" style=\"fill:#d84c3d; stroke:none; fill-opacity:1\" cx=\"552.455\" cy=\"103.963\" r=\"3\"/>\n",
       "<circle clip-path=\"url(#clip02)\" style=\"fill:#000000; stroke:none; fill-opacity:1\" cx=\"428.689\" cy=\"57.6221\" r=\"4\"/>\n",
       "<circle clip-path=\"url(#clip02)\" style=\"fill:#c73e4b; stroke:none; fill-opacity:1\" cx=\"428.689\" cy=\"57.6221\" r=\"3\"/>\n",
       "<circle clip-path=\"url(#clip02)\" style=\"fill:#000000; stroke:none; fill-opacity:1\" cx=\"60.6049\" cy=\"227.197\" r=\"4\"/>\n",
       "<circle clip-path=\"url(#clip02)\" style=\"fill:#000003; stroke:none; fill-opacity:1\" cx=\"60.6049\" cy=\"227.197\" r=\"3\"/>\n",
       "<circle clip-path=\"url(#clip02)\" style=\"fill:#000000; stroke:none; fill-opacity:1\" cx=\"55.0141\" cy=\"80.5375\" r=\"4\"/>\n",
       "<circle clip-path=\"url(#clip02)\" style=\"fill:#1d0b43; stroke:none; fill-opacity:1\" cx=\"55.0141\" cy=\"80.5375\" r=\"3\"/>\n",
       "<circle clip-path=\"url(#clip02)\" style=\"fill:#000000; stroke:none; fill-opacity:1\" cx=\"385.434\" cy=\"172.11\" r=\"4\"/>\n",
       "<circle clip-path=\"url(#clip02)\" style=\"fill:#450a68; stroke:none; fill-opacity:1\" cx=\"385.434\" cy=\"172.11\" r=\"3\"/>\n",
       "<circle clip-path=\"url(#clip02)\" style=\"fill:#000000; stroke:none; fill-opacity:1\" cx=\"315.853\" cy=\"57.8671\" r=\"4\"/>\n",
       "<circle clip-path=\"url(#clip02)\" style=\"fill:#972765; stroke:none; fill-opacity:1\" cx=\"315.853\" cy=\"57.8671\" r=\"3\"/>\n",
       "<circle clip-path=\"url(#clip02)\" style=\"fill:#000000; stroke:none; fill-opacity:1\" cx=\"203.261\" cy=\"48.517\" r=\"4\"/>\n",
       "<circle clip-path=\"url(#clip02)\" style=\"fill:#eb6527; stroke:none; fill-opacity:1\" cx=\"203.261\" cy=\"48.517\" r=\"3\"/>\n",
       "<circle clip-path=\"url(#clip02)\" style=\"fill:#000000; stroke:none; fill-opacity:1\" cx=\"160.797\" cy=\"57.2251\" r=\"4\"/>\n",
       "<circle clip-path=\"url(#clip02)\" style=\"fill:#f5d645; stroke:none; fill-opacity:1\" cx=\"160.797\" cy=\"57.2251\" r=\"3\"/>\n",
       "<circle clip-path=\"url(#clip02)\" style=\"fill:#000000; stroke:none; fill-opacity:1\" cx=\"576.482\" cy=\"226.062\" r=\"4\"/>\n",
       "<circle clip-path=\"url(#clip02)\" style=\"fill:#721a6d; stroke:none; fill-opacity:1\" cx=\"576.482\" cy=\"226.062\" r=\"3\"/>\n",
       "<circle clip-path=\"url(#clip02)\" style=\"fill:#000000; stroke:none; fill-opacity:1\" cx=\"458.383\" cy=\"31.5965\" r=\"4\"/>\n",
       "<circle clip-path=\"url(#clip02)\" style=\"fill:#f9fc9d; stroke:none; fill-opacity:1\" cx=\"458.383\" cy=\"31.5965\" r=\"3\"/>\n",
       "<circle clip-path=\"url(#clip02)\" style=\"fill:#000000; stroke:none; fill-opacity:1\" cx=\"546.454\" cy=\"231.023\" r=\"4\"/>\n",
       "<circle clip-path=\"url(#clip02)\" style=\"fill:#f6d23f; stroke:none; fill-opacity:1\" cx=\"546.454\" cy=\"231.023\" r=\"3\"/>\n",
       "<circle clip-path=\"url(#clip02)\" style=\"fill:#000000; stroke:none; fill-opacity:1\" cx=\"64.7496\" cy=\"209.381\" r=\"4\"/>\n",
       "<circle clip-path=\"url(#clip02)\" style=\"fill:#c53d4d; stroke:none; fill-opacity:1\" cx=\"64.7496\" cy=\"209.381\" r=\"3\"/>\n",
       "<circle clip-path=\"url(#clip02)\" style=\"fill:#000000; stroke:none; fill-opacity:1\" cx=\"481.109\" cy=\"305.297\" r=\"4\"/>\n",
       "<circle clip-path=\"url(#clip02)\" style=\"fill:#de5337; stroke:none; fill-opacity:1\" cx=\"481.109\" cy=\"305.297\" r=\"3\"/>\n",
       "<circle clip-path=\"url(#clip02)\" style=\"fill:#000000; stroke:none; fill-opacity:1\" cx=\"442.047\" cy=\"330.047\" r=\"4\"/>\n",
       "<circle clip-path=\"url(#clip02)\" style=\"fill:#fbb317; stroke:none; fill-opacity:1\" cx=\"442.047\" cy=\"330.047\" r=\"3\"/>\n",
       "<circle clip-path=\"url(#clip02)\" style=\"fill:#000000; stroke:none; fill-opacity:1\" cx=\"446.584\" cy=\"35.5269\" r=\"4\"/>\n",
       "<circle clip-path=\"url(#clip02)\" style=\"fill:#0d0828; stroke:none; fill-opacity:1\" cx=\"446.584\" cy=\"35.5269\" r=\"3\"/>\n",
       "<circle clip-path=\"url(#clip02)\" style=\"fill:#000000; stroke:none; fill-opacity:1\" cx=\"326.484\" cy=\"20.2496\" r=\"4\"/>\n",
       "<circle clip-path=\"url(#clip02)\" style=\"fill:#1a0b3f; stroke:none; fill-opacity:1\" cx=\"326.484\" cy=\"20.2496\" r=\"3\"/>\n",
       "<circle clip-path=\"url(#clip02)\" style=\"fill:#000000; stroke:none; fill-opacity:1\" cx=\"121.665\" cy=\"131.768\" r=\"4\"/>\n",
       "<circle clip-path=\"url(#clip02)\" style=\"fill:#a42c60; stroke:none; fill-opacity:1\" cx=\"121.665\" cy=\"131.768\" r=\"3\"/>\n",
       "<circle clip-path=\"url(#clip02)\" style=\"fill:#000000; stroke:none; fill-opacity:1\" cx=\"368.248\" cy=\"18.0805\" r=\"4\"/>\n",
       "<circle clip-path=\"url(#clip02)\" style=\"fill:#fba40b; stroke:none; fill-opacity:1\" cx=\"368.248\" cy=\"18.0805\" r=\"3\"/>\n",
       "<circle clip-path=\"url(#clip02)\" style=\"fill:#000000; stroke:none; fill-opacity:1\" cx=\"446.403\" cy=\"228.637\" r=\"4\"/>\n",
       "<circle clip-path=\"url(#clip02)\" style=\"fill:#f2f380; stroke:none; fill-opacity:1\" cx=\"446.403\" cy=\"228.637\" r=\"3\"/>\n",
       "<circle clip-path=\"url(#clip02)\" style=\"fill:#000000; stroke:none; fill-opacity:1\" cx=\"325.328\" cy=\"159.766\" r=\"4\"/>\n",
       "<circle clip-path=\"url(#clip02)\" style=\"fill:#5c116d; stroke:none; fill-opacity:1\" cx=\"325.328\" cy=\"159.766\" r=\"3\"/>\n",
       "<circle clip-path=\"url(#clip02)\" style=\"fill:#000000; stroke:none; fill-opacity:1\" cx=\"114.666\" cy=\"52.0231\" r=\"4\"/>\n",
       "<circle clip-path=\"url(#clip02)\" style=\"fill:#e55c2f; stroke:none; fill-opacity:1\" cx=\"114.666\" cy=\"52.0231\" r=\"3\"/>\n",
       "<circle clip-path=\"url(#clip02)\" style=\"fill:#000000; stroke:none; fill-opacity:1\" cx=\"127.687\" cy=\"172.249\" r=\"4\"/>\n",
       "<circle clip-path=\"url(#clip02)\" style=\"fill:#2b0a55; stroke:none; fill-opacity:1\" cx=\"127.687\" cy=\"172.249\" r=\"3\"/>\n",
       "<circle clip-path=\"url(#clip02)\" style=\"fill:#000000; stroke:none; fill-opacity:1\" cx=\"455.125\" cy=\"50.1327\" r=\"4\"/>\n",
       "<circle clip-path=\"url(#clip02)\" style=\"fill:#fac027; stroke:none; fill-opacity:1\" cx=\"455.125\" cy=\"50.1327\" r=\"3\"/>\n",
       "<circle clip-path=\"url(#clip02)\" style=\"fill:#000000; stroke:none; fill-opacity:1\" cx=\"172.592\" cy=\"273.63\" r=\"4\"/>\n",
       "<circle clip-path=\"url(#clip02)\" style=\"fill:#f7840f; stroke:none; fill-opacity:1\" cx=\"172.592\" cy=\"273.63\" r=\"3\"/>\n",
       "<circle clip-path=\"url(#clip02)\" style=\"fill:#000000; stroke:none; fill-opacity:1\" cx=\"371.438\" cy=\"358.297\" r=\"4\"/>\n",
       "<circle clip-path=\"url(#clip02)\" style=\"fill:#fcfea4; stroke:none; fill-opacity:1\" cx=\"371.438\" cy=\"358.297\" r=\"3\"/>\n",
       "<circle clip-path=\"url(#clip02)\" style=\"fill:#000000; stroke:none; fill-opacity:1\" cx=\"83.8246\" cy=\"164.969\" r=\"4\"/>\n",
       "<circle clip-path=\"url(#clip02)\" style=\"fill:#1e0b45; stroke:none; fill-opacity:1\" cx=\"83.8246\" cy=\"164.969\" r=\"3\"/>\n",
       "<circle clip-path=\"url(#clip02)\" style=\"fill:#000000; stroke:none; fill-opacity:1\" cx=\"482.807\" cy=\"228.363\" r=\"4\"/>\n",
       "<circle clip-path=\"url(#clip02)\" style=\"fill:#831f6b; stroke:none; fill-opacity:1\" cx=\"482.807\" cy=\"228.363\" r=\"3\"/>\n",
       "<circle clip-path=\"url(#clip02)\" style=\"fill:#000000; stroke:none; fill-opacity:1\" cx=\"196.552\" cy=\"151.7\" r=\"4\"/>\n",
       "<circle clip-path=\"url(#clip02)\" style=\"fill:#260b51; stroke:none; fill-opacity:1\" cx=\"196.552\" cy=\"151.7\" r=\"3\"/>\n",
       "<circle clip-path=\"url(#clip02)\" style=\"fill:#000000; stroke:none; fill-opacity:1\" cx=\"63.0891\" cy=\"140.63\" r=\"4\"/>\n",
       "<circle clip-path=\"url(#clip02)\" style=\"fill:#f7f994; stroke:none; fill-opacity:1\" cx=\"63.0891\" cy=\"140.63\" r=\"3\"/>\n",
       "<circle clip-path=\"url(#clip02)\" style=\"fill:#000000; stroke:none; fill-opacity:1\" cx=\"336.357\" cy=\"255.851\" r=\"4\"/>\n",
       "<circle clip-path=\"url(#clip02)\" style=\"fill:#9a2864; stroke:none; fill-opacity:1\" cx=\"336.357\" cy=\"255.851\" r=\"3\"/>\n",
       "<circle clip-path=\"url(#clip02)\" style=\"fill:#000000; stroke:none; fill-opacity:1\" cx=\"324.959\" cy=\"59.0669\" r=\"4\"/>\n",
       "<circle clip-path=\"url(#clip02)\" style=\"fill:#1a0b40; stroke:none; fill-opacity:1\" cx=\"324.959\" cy=\"59.0669\" r=\"3\"/>\n",
       "<circle clip-path=\"url(#clip02)\" style=\"fill:#000000; stroke:none; fill-opacity:1\" cx=\"122.849\" cy=\"124.624\" r=\"4\"/>\n",
       "<circle clip-path=\"url(#clip02)\" style=\"fill:#02020e; stroke:none; fill-opacity:1\" cx=\"122.849\" cy=\"124.624\" r=\"3\"/>\n",
       "<circle clip-path=\"url(#clip02)\" style=\"fill:#000000; stroke:none; fill-opacity:1\" cx=\"84.3444\" cy=\"292.151\" r=\"4\"/>\n",
       "<circle clip-path=\"url(#clip02)\" style=\"fill:#c63d4c; stroke:none; fill-opacity:1\" cx=\"84.3444\" cy=\"292.151\" r=\"3\"/>\n",
       "<circle clip-path=\"url(#clip02)\" style=\"fill:#000000; stroke:none; fill-opacity:1\" cx=\"462.309\" cy=\"82.7668\" r=\"4\"/>\n",
       "<circle clip-path=\"url(#clip02)\" style=\"fill:#e55c2f; stroke:none; fill-opacity:1\" cx=\"462.309\" cy=\"82.7668\" r=\"3\"/>\n",
       "<circle clip-path=\"url(#clip02)\" style=\"fill:#000000; stroke:none; fill-opacity:1\" cx=\"298.377\" cy=\"88.5111\" r=\"4\"/>\n",
       "<circle clip-path=\"url(#clip02)\" style=\"fill:#fba40b; stroke:none; fill-opacity:1\" cx=\"298.377\" cy=\"88.5111\" r=\"3\"/>\n",
       "<circle clip-path=\"url(#clip02)\" style=\"fill:#000000; stroke:none; fill-opacity:1\" cx=\"110.244\" cy=\"155.909\" r=\"4\"/>\n",
       "<circle clip-path=\"url(#clip02)\" style=\"fill:#ef6e20; stroke:none; fill-opacity:1\" cx=\"110.244\" cy=\"155.909\" r=\"3\"/>\n",
       "<circle clip-path=\"url(#clip02)\" style=\"fill:#000000; stroke:none; fill-opacity:1\" cx=\"301.123\" cy=\"158.761\" r=\"4\"/>\n",
       "<circle clip-path=\"url(#clip02)\" style=\"fill:#c53d4d; stroke:none; fill-opacity:1\" cx=\"301.123\" cy=\"158.761\" r=\"3\"/>\n",
       "<circle clip-path=\"url(#clip02)\" style=\"fill:#000000; stroke:none; fill-opacity:1\" cx=\"433.17\" cy=\"333.51\" r=\"4\"/>\n",
       "<circle clip-path=\"url(#clip02)\" style=\"fill:#520e6c; stroke:none; fill-opacity:1\" cx=\"433.17\" cy=\"333.51\" r=\"3\"/>\n",
       "<circle clip-path=\"url(#clip02)\" style=\"fill:#000000; stroke:none; fill-opacity:1\" cx=\"102.746\" cy=\"194.633\" r=\"4\"/>\n",
       "<circle clip-path=\"url(#clip02)\" style=\"fill:#7f1e6c; stroke:none; fill-opacity:1\" cx=\"102.746\" cy=\"194.633\" r=\"3\"/>\n",
       "<circle clip-path=\"url(#clip02)\" style=\"fill:#000000; stroke:none; fill-opacity:1\" cx=\"99.7016\" cy=\"354.06\" r=\"4\"/>\n",
       "<circle clip-path=\"url(#clip02)\" style=\"fill:#e96329; stroke:none; fill-opacity:1\" cx=\"99.7016\" cy=\"354.06\" r=\"3\"/>\n",
       "<circle clip-path=\"url(#clip02)\" style=\"fill:#000000; stroke:none; fill-opacity:1\" cx=\"77.0186\" cy=\"61.1074\" r=\"4\"/>\n",
       "<circle clip-path=\"url(#clip02)\" style=\"fill:#ea6428; stroke:none; fill-opacity:1\" cx=\"77.0186\" cy=\"61.1074\" r=\"3\"/>\n",
       "<circle clip-path=\"url(#clip02)\" style=\"fill:#000000; stroke:none; fill-opacity:1\" cx=\"527.046\" cy=\"222.141\" r=\"4\"/>\n",
       "<circle clip-path=\"url(#clip02)\" style=\"fill:#f78310; stroke:none; fill-opacity:1\" cx=\"527.046\" cy=\"222.141\" r=\"3\"/>\n",
       "<circle clip-path=\"url(#clip02)\" style=\"fill:#000000; stroke:none; fill-opacity:1\" cx=\"72.0859\" cy=\"187.734\" r=\"4\"/>\n",
       "<circle clip-path=\"url(#clip02)\" style=\"fill:#b0315a; stroke:none; fill-opacity:1\" cx=\"72.0859\" cy=\"187.734\" r=\"3\"/>\n",
       "<circle clip-path=\"url(#clip02)\" style=\"fill:#000000; stroke:none; fill-opacity:1\" cx=\"245.137\" cy=\"225.235\" r=\"4\"/>\n",
       "<circle clip-path=\"url(#clip02)\" style=\"fill:#360961; stroke:none; fill-opacity:1\" cx=\"245.137\" cy=\"225.235\" r=\"3\"/>\n",
       "<polygon clip-path=\"url(#clip00)\" points=\"\n",
       "491.062,58.994 574.126,58.994 574.126,28.754 491.062,28.754 \n",
       "  \" fill=\"#ffffff\" fill-opacity=\"1\"/>\n",
       "<polyline clip-path=\"url(#clip00)\" style=\"stroke:#000000; stroke-width:1; stroke-opacity:1; fill:none\" points=\"\n",
       "  491.062,58.994 574.126,58.994 574.126,28.754 491.062,28.754 491.062,58.994 \n",
       "  \"/>\n",
       "<circle clip-path=\"url(#clip00)\" style=\"fill:#000000; stroke:none; fill-opacity:1\" cx=\"518.062\" cy=\"43.874\" r=\"6\"/>\n",
       "<circle clip-path=\"url(#clip00)\" style=\"fill:#fafc9d; stroke:none; fill-opacity:1\" cx=\"518.062\" cy=\"43.874\" r=\"5\"/>\n",
       "<g clip-path=\"url(#clip00)\">\n",
       "<text style=\"fill:#000000; fill-opacity:1; font-family:Arial,Helvetica Neue,Helvetica,sans-serif; font-size:12; text-anchor:start;\" transform=\"rotate(0, 539.062, 48.374)\" x=\"539.062\" y=\"48.374\">data</text>\n",
       "</g>\n",
       "</svg>\n"
      ]
     },
     "execution_count": 4,
     "metadata": {},
     "output_type": "execute_result"
    }
   ],
   "source": [
    "using Plots; gr()\n",
    "using Interact\n",
    "\n",
    "dim, nobs = 2, 50\n",
    "\n",
    "X = 100rand(dim, nobs)\n",
    "z = rand(nobs)\n",
    "\n",
    "scatter(X[1,:], X[2,:], c=z, label=\"data\")"
   ]
  },
  {
   "cell_type": "markdown",
   "metadata": {},
   "source": [
    "First, we vary the anisotropy ratio with an ellipsoid that is aligned with the coordinate system:"
   ]
  },
  {
   "cell_type": "code",
   "execution_count": 5,
   "metadata": {},
   "outputs": [
    {
     "name": "stderr",
     "output_type": "stream",
     "text": [
      "\u001b[1m\u001b[36mINFO: \u001b[39m\u001b[22m\u001b[36mSaved animation to /home/juliohm/.julia/v0.6/GeoStats/examples/figs/anisotropy_ratio.gif\n",
      "\u001b[39m"
     ]
    },
    {
     "data": {
      "text/html": [
       "<img src=\"figs/anisotropy_ratio.gif?0.943356905739213>\" />"
      ],
      "text/plain": [
       "Plots.AnimatedGif(\"/home/juliohm/.julia/v0.6/GeoStats/examples/figs/anisotropy_ratio.gif\")"
      ]
     },
     "execution_count": 5,
     "metadata": {},
     "output_type": "execute_result"
    }
   ],
   "source": [
    "anim = @animate for a=linspace(1,10,10)\n",
    "    d = EllipsoidDistance([a,1.], [0.])\n",
    "    γ = GaussianVariogram(range=5., distance=d)\n",
    "    \n",
    "    ordkrig = OrdinaryKriging(X, z, γ)\n",
    "    \n",
    "    μ = zeros(100,100)\n",
    "    σ² = zeros(100,100)\n",
    "    for i=1:100, j=1:100\n",
    "        μ[i,j], σ²[i,j] = estimate(ordkrig, Float64[i,j])\n",
    "    end\n",
    "    \n",
    "    plt1 = heatmap(μ', title=\"Kriging mean\")\n",
    "    plt2 = heatmap(σ²', title=\"Kriging variance\")\n",
    "    \n",
    "    plot(plt1, plt2, size=(1000,400))\n",
    "end\n",
    "gif(anim, \"figs/anisotropy_ratio.gif\", fps=1)"
   ]
  },
  {
   "cell_type": "markdown",
   "metadata": {},
   "source": [
    "Second, we fix the anisotropy ratio and vary the alignment angle:"
   ]
  },
  {
   "cell_type": "code",
   "execution_count": 6,
   "metadata": {},
   "outputs": [
    {
     "name": "stderr",
     "output_type": "stream",
     "text": [
      "\u001b[1m\u001b[36mINFO: \u001b[39m\u001b[22m\u001b[36mSaved animation to /home/juliohm/.julia/v0.6/GeoStats/examples/figs/anisotropy_angle.gif\n",
      "\u001b[39m"
     ]
    },
    {
     "data": {
      "text/html": [
       "<img src=\"figs/anisotropy_angle.gif?0.57557066645746>\" />"
      ],
      "text/plain": [
       "Plots.AnimatedGif(\"/home/juliohm/.julia/v0.6/GeoStats/examples/figs/anisotropy_angle.gif\")"
      ]
     },
     "execution_count": 6,
     "metadata": {},
     "output_type": "execute_result"
    }
   ],
   "source": [
    "anim = @animate for θ=linspace(0,2π,10)\n",
    "    d = EllipsoidDistance([5.,1.], [θ])\n",
    "    γ = GaussianVariogram(range=5., distance=d)\n",
    "    \n",
    "    ordkrig = OrdinaryKriging(X, z, γ)\n",
    "    \n",
    "    μ = zeros(100,100)\n",
    "    σ² = zeros(100,100)\n",
    "    for i=1:100, j=1:100\n",
    "        μ[i,j], σ²[i,j] = estimate(ordkrig, Float64[i,j])\n",
    "    end\n",
    "    \n",
    "    plt1 = heatmap(μ', title=\"Kriging mean\")\n",
    "    plt2 = heatmap(σ²', title=\"Kriging variance\")\n",
    "    \n",
    "    plot(plt1, plt2, size=(1000,400))\n",
    "end\n",
    "gif(anim, \"figs/anisotropy_angle.gif\", fps=1)"
   ]
  },
  {
   "cell_type": "markdown",
   "metadata": {},
   "source": [
    "This experiment can be extended to 3D with the only difference being that ellipsoids therein are defined by 3 semiaxes and 3 angles. For example, the Euclidean distance in 3D can be recovered with a degenerated ellipsoid with equal semiaxes (i.e. sphere):"
   ]
  },
  {
   "cell_type": "code",
   "execution_count": 7,
   "metadata": {},
   "outputs": [
    {
     "data": {
      "text/html": [
       "true"
      ],
      "text/plain": [
       "true"
      ]
     },
     "execution_count": 7,
     "metadata": {},
     "output_type": "execute_result"
    }
   ],
   "source": [
    "ellipsoid = EllipsoidDistance([1.,1.,1.],[0.,0.,0.])\n",
    "euclidean = EuclideanDistance()\n",
    "\n",
    "a, b = rand(3), rand(3)\n",
    "\n",
    "ellipsoid(a,b) ≈ euclidean(a,b)"
   ]
  },
  {
   "cell_type": "markdown",
   "metadata": {},
   "source": [
    "Please consult the documentation for more distance functions. If a particular distance is not implemented yet, please submit a feature request. Code contributions are also very welcome. One of our goals with GeoStats.jl is to make it easier for users to extend the package."
   ]
  }
 ],
 "metadata": {
  "kernelspec": {
   "display_name": "Julia 0.6.1-pre",
   "language": "julia",
   "name": "julia-0.6"
  },
  "language_info": {
   "file_extension": ".jl",
   "mimetype": "application/julia",
   "name": "julia",
   "version": "0.6.1"
  }
 },
 "nbformat": 4,
 "nbformat_minor": 2
}
